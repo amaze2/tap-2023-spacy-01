{
 "cells": [
  {
   "attachments": {},
   "cell_type": "markdown",
   "id": "3e89c5b3",
   "metadata": {},
   "source": [
    "<img align=\"left\" src=\"https://ithaka-labs.s3.amazonaws.com/static-files/images/tdm/tdmdocs/tapi-logo-small.png\" />\n",
    "\n",
    "This notebook free for educational reuse under [Creative Commons CC BY License](https://creativecommons.org/licenses/by/4.0/).\n",
    "\n",
    "Created by [Firstname Lastname](https://) for the 2022 Text Analysis Pedagogy Institute, with support from the [National Endowment for the Humanities](https://neh.gov), [JSTOR Labs](https://labs.jstor.org/), and [University of Arizona Libraries](https://new.library.arizona.edu/).\n",
    "\n",
    "For questions/comments/improvements, email author@email.address.<br />\n",
    "____"
   ]
  },
  {
   "attachments": {},
   "cell_type": "markdown",
   "id": "68f932d1",
   "metadata": {},
   "source": [
    "# `spaCy 3` `1`\n",
    "\n",
    "This is lesson `1` of 3 in the educational series on `spaCy and NLP`. This notebook is intended `to teach the spaCy EntityRuler and the basics of Rules-Based NLP`. \n",
    "\n",
    "**Audience:** `Teachers` / `Learners` / `Researchers`\n",
    "\n",
    "**Use case:** `Tutorial` / `How-To` / `Explanation` \n",
    "\n",
    "`Include the use case definition from [here](https://constellate.org/docs/documentation-categories)`\n",
    "\n",
    "**Difficulty:** `Intermediate`\n",
    "\n",
    "`Beginner assumes users are relatively new to Python and Jupyter Notebooks. The user is helped step-by-step with lots of explanatory text.`\n",
    "`Intermediate assumes users are familiar with Python and have been programming for 6+ months. Code makes up a larger part of the notebook and basic concepts related to Python are not explained.`\n",
    "`Advanced assumes users are very familiar with Python and have been programming for years, but they may not be familiar with the process being explained.`\n",
    "\n",
    "**Completion time:** `90 minutes`\n",
    "\n",
    "**Knowledge Required:** \n",
    "```\n",
    "* Python basics (variables, flow control, functions, lists, dictionaries)\n",
    "* A basic understanding of spaCy (see notebooks 1-3)\n",
    "```\n",
    "\n",
    "**Knowledge Recommended:**\n",
    "```\n",
    "* Basic file operations (open, close, read, write)\n",
    "* Loading data with Pandas\n",
    "```\n",
    "\n",
    "**Learning Objectives:**\n",
    "After this lesson, learners will be able to:\n",
    "```\n",
    "1. Learn about the basics of supervised learning and the machine learning components in spaCy\n",
    "```\n",
    "___"
   ]
  },
  {
   "cell_type": "code",
   "execution_count": 1,
   "id": "e8a220f5",
   "metadata": {},
   "outputs": [
    {
     "name": "stdout",
     "output_type": "stream",
     "text": [
      "Collecting en-core-web-sm==3.5.0\n",
      "  Downloading https://github.com/explosion/spacy-models/releases/download/en_core_web_sm-3.5.0/en_core_web_sm-3.5.0-py3-none-any.whl (12.8 MB)\n",
      "\u001b[2K     \u001b[38;2;114;156;31m━━━━━━━━━━━━━━━━━━━━━━━━━━━━━━━━━━━━━━━━\u001b[0m \u001b[32m12.8/12.8 MB\u001b[0m \u001b[31m7.3 MB/s\u001b[0m eta \u001b[36m0:00:00\u001b[0mm eta \u001b[36m0:00:01\u001b[0m[36m0:00:01\u001b[0m\n",
      "\u001b[?25hRequirement already satisfied: spacy<3.6.0,>=3.5.0 in /home/wjbmattingly/anaconda3/lib/python3.7/site-packages (from en-core-web-sm==3.5.0) (3.5.0)\n",
      "Requirement already satisfied: pydantic!=1.8,!=1.8.1,<1.11.0,>=1.7.4 in /home/wjbmattingly/anaconda3/lib/python3.7/site-packages (from spacy<3.6.0,>=3.5.0->en-core-web-sm==3.5.0) (1.10.5)\n",
      "Requirement already satisfied: preshed<3.1.0,>=3.0.2 in /home/wjbmattingly/anaconda3/lib/python3.7/site-packages (from spacy<3.6.0,>=3.5.0->en-core-web-sm==3.5.0) (3.0.8)\n",
      "Requirement already satisfied: spacy-legacy<3.1.0,>=3.0.11 in /home/wjbmattingly/anaconda3/lib/python3.7/site-packages (from spacy<3.6.0,>=3.5.0->en-core-web-sm==3.5.0) (3.0.12)\n",
      "Requirement already satisfied: spacy-loggers<2.0.0,>=1.0.0 in /home/wjbmattingly/anaconda3/lib/python3.7/site-packages (from spacy<3.6.0,>=3.5.0->en-core-web-sm==3.5.0) (1.0.4)\n",
      "Requirement already satisfied: jinja2 in /home/wjbmattingly/anaconda3/lib/python3.7/site-packages (from spacy<3.6.0,>=3.5.0->en-core-web-sm==3.5.0) (3.1.2)\n",
      "Requirement already satisfied: typing-extensions<4.5.0,>=3.7.4.1 in /home/wjbmattingly/anaconda3/lib/python3.7/site-packages (from spacy<3.6.0,>=3.5.0->en-core-web-sm==3.5.0) (4.4.0)\n",
      "Requirement already satisfied: catalogue<2.1.0,>=2.0.6 in /home/wjbmattingly/anaconda3/lib/python3.7/site-packages (from spacy<3.6.0,>=3.5.0->en-core-web-sm==3.5.0) (2.0.8)\n",
      "Requirement already satisfied: typer<0.8.0,>=0.3.0 in /home/wjbmattingly/anaconda3/lib/python3.7/site-packages (from spacy<3.6.0,>=3.5.0->en-core-web-sm==3.5.0) (0.7.0)\n",
      "Requirement already satisfied: tqdm<5.0.0,>=4.38.0 in /home/wjbmattingly/anaconda3/lib/python3.7/site-packages (from spacy<3.6.0,>=3.5.0->en-core-web-sm==3.5.0) (4.64.1)\n",
      "Requirement already satisfied: requests<3.0.0,>=2.13.0 in /home/wjbmattingly/anaconda3/lib/python3.7/site-packages (from spacy<3.6.0,>=3.5.0->en-core-web-sm==3.5.0) (2.28.1)\n",
      "Requirement already satisfied: packaging>=20.0 in /home/wjbmattingly/anaconda3/lib/python3.7/site-packages (from spacy<3.6.0,>=3.5.0->en-core-web-sm==3.5.0) (23.0)\n",
      "Requirement already satisfied: setuptools in /home/wjbmattingly/anaconda3/lib/python3.7/site-packages (from spacy<3.6.0,>=3.5.0->en-core-web-sm==3.5.0) (65.5.0)\n",
      "Requirement already satisfied: langcodes<4.0.0,>=3.2.0 in /home/wjbmattingly/anaconda3/lib/python3.7/site-packages (from spacy<3.6.0,>=3.5.0->en-core-web-sm==3.5.0) (3.3.0)\n",
      "Requirement already satisfied: murmurhash<1.1.0,>=0.28.0 in /home/wjbmattingly/anaconda3/lib/python3.7/site-packages (from spacy<3.6.0,>=3.5.0->en-core-web-sm==3.5.0) (1.0.9)\n",
      "Requirement already satisfied: wasabi<1.2.0,>=0.9.1 in /home/wjbmattingly/anaconda3/lib/python3.7/site-packages (from spacy<3.6.0,>=3.5.0->en-core-web-sm==3.5.0) (1.1.1)\n",
      "Requirement already satisfied: thinc<8.2.0,>=8.1.0 in /home/wjbmattingly/anaconda3/lib/python3.7/site-packages (from spacy<3.6.0,>=3.5.0->en-core-web-sm==3.5.0) (8.1.7)\n",
      "Requirement already satisfied: srsly<3.0.0,>=2.4.3 in /home/wjbmattingly/anaconda3/lib/python3.7/site-packages (from spacy<3.6.0,>=3.5.0->en-core-web-sm==3.5.0) (2.4.5)\n",
      "Requirement already satisfied: smart-open<7.0.0,>=5.2.1 in /home/wjbmattingly/anaconda3/lib/python3.7/site-packages (from spacy<3.6.0,>=3.5.0->en-core-web-sm==3.5.0) (5.2.1)\n",
      "Requirement already satisfied: pathy>=0.10.0 in /home/wjbmattingly/anaconda3/lib/python3.7/site-packages (from spacy<3.6.0,>=3.5.0->en-core-web-sm==3.5.0) (0.10.1)\n",
      "Requirement already satisfied: cymem<2.1.0,>=2.0.2 in /home/wjbmattingly/anaconda3/lib/python3.7/site-packages (from spacy<3.6.0,>=3.5.0->en-core-web-sm==3.5.0) (2.0.7)\n",
      "Requirement already satisfied: numpy>=1.15.0 in /home/wjbmattingly/anaconda3/lib/python3.7/site-packages (from spacy<3.6.0,>=3.5.0->en-core-web-sm==3.5.0) (1.21.6)\n",
      "Requirement already satisfied: zipp>=0.5 in /home/wjbmattingly/anaconda3/lib/python3.7/site-packages (from catalogue<2.1.0,>=2.0.6->spacy<3.6.0,>=3.5.0->en-core-web-sm==3.5.0) (3.11.0)\n",
      "Requirement already satisfied: certifi>=2017.4.17 in /home/wjbmattingly/anaconda3/lib/python3.7/site-packages (from requests<3.0.0,>=2.13.0->spacy<3.6.0,>=3.5.0->en-core-web-sm==3.5.0) (2022.12.7)\n",
      "Requirement already satisfied: idna<4,>=2.5 in /home/wjbmattingly/anaconda3/lib/python3.7/site-packages (from requests<3.0.0,>=2.13.0->spacy<3.6.0,>=3.5.0->en-core-web-sm==3.5.0) (3.4)\n",
      "Requirement already satisfied: urllib3<1.27,>=1.21.1 in /home/wjbmattingly/anaconda3/lib/python3.7/site-packages (from requests<3.0.0,>=2.13.0->spacy<3.6.0,>=3.5.0->en-core-web-sm==3.5.0) (1.26.13)\n",
      "Requirement already satisfied: charset-normalizer<3,>=2 in /home/wjbmattingly/anaconda3/lib/python3.7/site-packages (from requests<3.0.0,>=2.13.0->spacy<3.6.0,>=3.5.0->en-core-web-sm==3.5.0) (2.0.4)\n",
      "Requirement already satisfied: confection<1.0.0,>=0.0.1 in /home/wjbmattingly/anaconda3/lib/python3.7/site-packages (from thinc<8.2.0,>=8.1.0->spacy<3.6.0,>=3.5.0->en-core-web-sm==3.5.0) (0.0.4)\n",
      "Requirement already satisfied: blis<0.8.0,>=0.7.8 in /home/wjbmattingly/anaconda3/lib/python3.7/site-packages (from thinc<8.2.0,>=8.1.0->spacy<3.6.0,>=3.5.0->en-core-web-sm==3.5.0) (0.7.9)\n",
      "Requirement already satisfied: click<9.0.0,>=7.1.1 in /home/wjbmattingly/anaconda3/lib/python3.7/site-packages (from typer<0.8.0,>=0.3.0->spacy<3.6.0,>=3.5.0->en-core-web-sm==3.5.0) (8.1.3)\n",
      "Requirement already satisfied: MarkupSafe>=2.0 in /home/wjbmattingly/anaconda3/lib/python3.7/site-packages (from jinja2->spacy<3.6.0,>=3.5.0->en-core-web-sm==3.5.0) (2.1.1)\n",
      "Requirement already satisfied: importlib-metadata in /home/wjbmattingly/anaconda3/lib/python3.7/site-packages (from click<9.0.0,>=7.1.1->typer<0.8.0,>=0.3.0->spacy<3.6.0,>=3.5.0->en-core-web-sm==3.5.0) (4.11.3)\n",
      "\u001b[38;5;2m✔ Download and installation successful\u001b[0m\n",
      "You can now load the package via spacy.load('en_core_web_sm')\n",
      "Collecting en-core-web-lg==3.5.0\n",
      "  Downloading https://github.com/explosion/spacy-models/releases/download/en_core_web_lg-3.5.0/en_core_web_lg-3.5.0-py3-none-any.whl (587.7 MB)\n",
      "\u001b[2K     \u001b[38;2;114;156;31m━━━━━━━━━━━━━━━━━━━━━━━━━━━━━━━━━━━━━━━\u001b[0m \u001b[32m587.7/587.7 MB\u001b[0m \u001b[31m4.3 MB/s\u001b[0m eta \u001b[36m0:00:00\u001b[0mm eta \u001b[36m0:00:01\u001b[0m[36m0:00:02\u001b[0m\n",
      "\u001b[?25hRequirement already satisfied: spacy<3.6.0,>=3.5.0 in /home/wjbmattingly/anaconda3/lib/python3.7/site-packages (from en-core-web-lg==3.5.0) (3.5.0)\n",
      "Requirement already satisfied: numpy>=1.15.0 in /home/wjbmattingly/anaconda3/lib/python3.7/site-packages (from spacy<3.6.0,>=3.5.0->en-core-web-lg==3.5.0) (1.21.6)\n",
      "Requirement already satisfied: wasabi<1.2.0,>=0.9.1 in /home/wjbmattingly/anaconda3/lib/python3.7/site-packages (from spacy<3.6.0,>=3.5.0->en-core-web-lg==3.5.0) (1.1.1)\n",
      "Requirement already satisfied: thinc<8.2.0,>=8.1.0 in /home/wjbmattingly/anaconda3/lib/python3.7/site-packages (from spacy<3.6.0,>=3.5.0->en-core-web-lg==3.5.0) (8.1.7)\n",
      "Requirement already satisfied: typing-extensions<4.5.0,>=3.7.4.1 in /home/wjbmattingly/anaconda3/lib/python3.7/site-packages (from spacy<3.6.0,>=3.5.0->en-core-web-lg==3.5.0) (4.4.0)\n",
      "Requirement already satisfied: pydantic!=1.8,!=1.8.1,<1.11.0,>=1.7.4 in /home/wjbmattingly/anaconda3/lib/python3.7/site-packages (from spacy<3.6.0,>=3.5.0->en-core-web-lg==3.5.0) (1.10.5)\n",
      "Requirement already satisfied: spacy-legacy<3.1.0,>=3.0.11 in /home/wjbmattingly/anaconda3/lib/python3.7/site-packages (from spacy<3.6.0,>=3.5.0->en-core-web-lg==3.5.0) (3.0.12)\n",
      "Requirement already satisfied: srsly<3.0.0,>=2.4.3 in /home/wjbmattingly/anaconda3/lib/python3.7/site-packages (from spacy<3.6.0,>=3.5.0->en-core-web-lg==3.5.0) (2.4.5)\n",
      "Requirement already satisfied: typer<0.8.0,>=0.3.0 in /home/wjbmattingly/anaconda3/lib/python3.7/site-packages (from spacy<3.6.0,>=3.5.0->en-core-web-lg==3.5.0) (0.7.0)\n",
      "Requirement already satisfied: smart-open<7.0.0,>=5.2.1 in /home/wjbmattingly/anaconda3/lib/python3.7/site-packages (from spacy<3.6.0,>=3.5.0->en-core-web-lg==3.5.0) (5.2.1)\n",
      "Requirement already satisfied: pathy>=0.10.0 in /home/wjbmattingly/anaconda3/lib/python3.7/site-packages (from spacy<3.6.0,>=3.5.0->en-core-web-lg==3.5.0) (0.10.1)\n",
      "Requirement already satisfied: jinja2 in /home/wjbmattingly/anaconda3/lib/python3.7/site-packages (from spacy<3.6.0,>=3.5.0->en-core-web-lg==3.5.0) (3.1.2)\n",
      "Requirement already satisfied: cymem<2.1.0,>=2.0.2 in /home/wjbmattingly/anaconda3/lib/python3.7/site-packages (from spacy<3.6.0,>=3.5.0->en-core-web-lg==3.5.0) (2.0.7)\n",
      "Requirement already satisfied: requests<3.0.0,>=2.13.0 in /home/wjbmattingly/anaconda3/lib/python3.7/site-packages (from spacy<3.6.0,>=3.5.0->en-core-web-lg==3.5.0) (2.28.1)\n",
      "Requirement already satisfied: preshed<3.1.0,>=3.0.2 in /home/wjbmattingly/anaconda3/lib/python3.7/site-packages (from spacy<3.6.0,>=3.5.0->en-core-web-lg==3.5.0) (3.0.8)\n",
      "Requirement already satisfied: setuptools in /home/wjbmattingly/anaconda3/lib/python3.7/site-packages (from spacy<3.6.0,>=3.5.0->en-core-web-lg==3.5.0) (65.5.0)\n",
      "Requirement already satisfied: langcodes<4.0.0,>=3.2.0 in /home/wjbmattingly/anaconda3/lib/python3.7/site-packages (from spacy<3.6.0,>=3.5.0->en-core-web-lg==3.5.0) (3.3.0)\n",
      "Requirement already satisfied: catalogue<2.1.0,>=2.0.6 in /home/wjbmattingly/anaconda3/lib/python3.7/site-packages (from spacy<3.6.0,>=3.5.0->en-core-web-lg==3.5.0) (2.0.8)\n",
      "Requirement already satisfied: tqdm<5.0.0,>=4.38.0 in /home/wjbmattingly/anaconda3/lib/python3.7/site-packages (from spacy<3.6.0,>=3.5.0->en-core-web-lg==3.5.0) (4.64.1)\n",
      "Requirement already satisfied: murmurhash<1.1.0,>=0.28.0 in /home/wjbmattingly/anaconda3/lib/python3.7/site-packages (from spacy<3.6.0,>=3.5.0->en-core-web-lg==3.5.0) (1.0.9)\n",
      "Requirement already satisfied: spacy-loggers<2.0.0,>=1.0.0 in /home/wjbmattingly/anaconda3/lib/python3.7/site-packages (from spacy<3.6.0,>=3.5.0->en-core-web-lg==3.5.0) (1.0.4)\n",
      "Requirement already satisfied: packaging>=20.0 in /home/wjbmattingly/anaconda3/lib/python3.7/site-packages (from spacy<3.6.0,>=3.5.0->en-core-web-lg==3.5.0) (23.0)\n",
      "Requirement already satisfied: zipp>=0.5 in /home/wjbmattingly/anaconda3/lib/python3.7/site-packages (from catalogue<2.1.0,>=2.0.6->spacy<3.6.0,>=3.5.0->en-core-web-lg==3.5.0) (3.11.0)\n",
      "Requirement already satisfied: urllib3<1.27,>=1.21.1 in /home/wjbmattingly/anaconda3/lib/python3.7/site-packages (from requests<3.0.0,>=2.13.0->spacy<3.6.0,>=3.5.0->en-core-web-lg==3.5.0) (1.26.13)\n",
      "Requirement already satisfied: idna<4,>=2.5 in /home/wjbmattingly/anaconda3/lib/python3.7/site-packages (from requests<3.0.0,>=2.13.0->spacy<3.6.0,>=3.5.0->en-core-web-lg==3.5.0) (3.4)\n",
      "Requirement already satisfied: charset-normalizer<3,>=2 in /home/wjbmattingly/anaconda3/lib/python3.7/site-packages (from requests<3.0.0,>=2.13.0->spacy<3.6.0,>=3.5.0->en-core-web-lg==3.5.0) (2.0.4)\n",
      "Requirement already satisfied: certifi>=2017.4.17 in /home/wjbmattingly/anaconda3/lib/python3.7/site-packages (from requests<3.0.0,>=2.13.0->spacy<3.6.0,>=3.5.0->en-core-web-lg==3.5.0) (2022.12.7)\n",
      "Requirement already satisfied: confection<1.0.0,>=0.0.1 in /home/wjbmattingly/anaconda3/lib/python3.7/site-packages (from thinc<8.2.0,>=8.1.0->spacy<3.6.0,>=3.5.0->en-core-web-lg==3.5.0) (0.0.4)\n",
      "Requirement already satisfied: blis<0.8.0,>=0.7.8 in /home/wjbmattingly/anaconda3/lib/python3.7/site-packages (from thinc<8.2.0,>=8.1.0->spacy<3.6.0,>=3.5.0->en-core-web-lg==3.5.0) (0.7.9)\n",
      "Requirement already satisfied: click<9.0.0,>=7.1.1 in /home/wjbmattingly/anaconda3/lib/python3.7/site-packages (from typer<0.8.0,>=0.3.0->spacy<3.6.0,>=3.5.0->en-core-web-lg==3.5.0) (8.1.3)\n",
      "Requirement already satisfied: MarkupSafe>=2.0 in /home/wjbmattingly/anaconda3/lib/python3.7/site-packages (from jinja2->spacy<3.6.0,>=3.5.0->en-core-web-lg==3.5.0) (2.1.1)\n",
      "Requirement already satisfied: importlib-metadata in /home/wjbmattingly/anaconda3/lib/python3.7/site-packages (from click<9.0.0,>=7.1.1->typer<0.8.0,>=0.3.0->spacy<3.6.0,>=3.5.0->en-core-web-lg==3.5.0) (4.11.3)\n",
      "Installing collected packages: en-core-web-lg\n",
      "Successfully installed en-core-web-lg-3.5.0\n",
      "\u001b[38;5;2m✔ Download and installation successful\u001b[0m\n",
      "You can now load the package via spacy.load('en_core_web_lg')\n"
     ]
    }
   ],
   "source": [
    "# ### Install Libraries ###\n",
    "\n",
    "# # Using !pip installs\n",
    "!python -m spacy download en_core_web_sm\n",
    "!python -m spacy download en_core_web_lg\n",
    "\n",
    "\n",
    "# # Using %%bash magic with apt-get and yes prompt"
   ]
  },
  {
   "cell_type": "code",
   "execution_count": 2,
   "id": "5480e2a8",
   "metadata": {},
   "outputs": [
    {
     "name": "stderr",
     "output_type": "stream",
     "text": [
      "/home/wjbmattingly/.local/lib/python3.7/site-packages/pandas/compat/_optional.py:138: UserWarning: Pandas requires version '2.7.0' or newer of 'numexpr' (version '2.6.8' currently installed).\n",
      "  warnings.warn(msg, UserWarning)\n"
     ]
    }
   ],
   "source": [
    "import pandas as pd\n",
    "from spacy import displacy\n",
    "import spacy"
   ]
  },
  {
   "cell_type": "code",
   "execution_count": 3,
   "id": "d56dfc85",
   "metadata": {},
   "outputs": [
    {
     "data": {
      "text/plain": [
       "'Next day Frodo woke early, feeling refreshed and well. He walked along the terraces above the loud-flowing Bruinen and watched the pale, cool sun rise above the far mountains, and shine down. Slanting through the thin silver mist; the dew upon the ye'"
      ]
     },
     "execution_count": 3,
     "metadata": {},
     "output_type": "execute_result"
    }
   ],
   "source": [
    "with open(\"../data/lotr.txt\", \"r\") as f:\n",
    "    text = f.read().strip()\n",
    "text[:250]"
   ]
  },
  {
   "cell_type": "code",
   "execution_count": 4,
   "id": "6dbfbf7b",
   "metadata": {},
   "outputs": [],
   "source": [
    "nlp = spacy.load(\"en_core_web_lg\")"
   ]
  },
  {
   "cell_type": "code",
   "execution_count": 5,
   "id": "05f76843",
   "metadata": {},
   "outputs": [],
   "source": [
    "doc = nlp(text[:2500])"
   ]
  },
  {
   "cell_type": "code",
   "execution_count": 6,
   "id": "4ce465d1",
   "metadata": {},
   "outputs": [
    {
     "data": {
      "text/html": [
       "<span class=\"tex2jax_ignore\"><div class=\"entities\" style=\"line-height: 2.5; direction: ltr\">\n",
       "<mark class=\"entity\" style=\"background: #bfe1d9; padding: 0.45em 0.6em; margin: 0 0.25em; line-height: 1; border-radius: 0.35em;\">\n",
       "    Next day\n",
       "    <span style=\"font-size: 0.8em; font-weight: bold; line-height: 1; border-radius: 0.35em; vertical-align: middle; margin-left: 0.5rem\">DATE</span>\n",
       "</mark>\n",
       " \n",
       "<mark class=\"entity\" style=\"background: #aa9cfc; padding: 0.45em 0.6em; margin: 0 0.25em; line-height: 1; border-radius: 0.35em;\">\n",
       "    Frodo\n",
       "    <span style=\"font-size: 0.8em; font-weight: bold; line-height: 1; border-radius: 0.35em; vertical-align: middle; margin-left: 0.5rem\">PERSON</span>\n",
       "</mark>\n",
       " woke early, feeling refreshed and well. He walked along the terraces above the loud-flowing \n",
       "<mark class=\"entity\" style=\"background: #aa9cfc; padding: 0.45em 0.6em; margin: 0 0.25em; line-height: 1; border-radius: 0.35em;\">\n",
       "    Bruinen\n",
       "    <span style=\"font-size: 0.8em; font-weight: bold; line-height: 1; border-radius: 0.35em; vertical-align: middle; margin-left: 0.5rem\">PERSON</span>\n",
       "</mark>\n",
       " and watched the pale, cool sun rise above the far mountains, and shine down. Slanting through the thin silver mist; the dew upon the yellow leaves was glimmering, and the woven nets of gossamer twinkled on every bush. \n",
       "<mark class=\"entity\" style=\"background: #aa9cfc; padding: 0.45em 0.6em; margin: 0 0.25em; line-height: 1; border-radius: 0.35em;\">\n",
       "    Sam\n",
       "    <span style=\"font-size: 0.8em; font-weight: bold; line-height: 1; border-radius: 0.35em; vertical-align: middle; margin-left: 0.5rem\">PERSON</span>\n",
       "</mark>\n",
       " walked beside him, saying nothing. but sniffing the air, and looking every now and again with wonder in his eyes at the great heights in the \n",
       "<mark class=\"entity\" style=\"background: #ff9561; padding: 0.45em 0.6em; margin: 0 0.25em; line-height: 1; border-radius: 0.35em;\">\n",
       "    East\n",
       "    <span style=\"font-size: 0.8em; font-weight: bold; line-height: 1; border-radius: 0.35em; vertical-align: middle; margin-left: 0.5rem\">LOC</span>\n",
       "</mark>\n",
       ". The snow was white upon their peaks.</br>     On a seat cut in the stone beside a turn in the path they came upon \n",
       "<mark class=\"entity\" style=\"background: #aa9cfc; padding: 0.45em 0.6em; margin: 0 0.25em; line-height: 1; border-radius: 0.35em;\">\n",
       "    Gandalf\n",
       "    <span style=\"font-size: 0.8em; font-weight: bold; line-height: 1; border-radius: 0.35em; vertical-align: middle; margin-left: 0.5rem\">PERSON</span>\n",
       "</mark>\n",
       " and \n",
       "<mark class=\"entity\" style=\"background: #aa9cfc; padding: 0.45em 0.6em; margin: 0 0.25em; line-height: 1; border-radius: 0.35em;\">\n",
       "    Bilbo\n",
       "    <span style=\"font-size: 0.8em; font-weight: bold; line-height: 1; border-radius: 0.35em; vertical-align: middle; margin-left: 0.5rem\">PERSON</span>\n",
       "</mark>\n",
       " deep in talk. `\n",
       "<mark class=\"entity\" style=\"background: #7aecec; padding: 0.45em 0.6em; margin: 0 0.25em; line-height: 1; border-radius: 0.35em;\">\n",
       "    Hullo\n",
       "    <span style=\"font-size: 0.8em; font-weight: bold; line-height: 1; border-radius: 0.35em; vertical-align: middle; margin-left: 0.5rem\">ORG</span>\n",
       "</mark>\n",
       "! Good morning!' said \n",
       "<mark class=\"entity\" style=\"background: #aa9cfc; padding: 0.45em 0.6em; margin: 0 0.25em; line-height: 1; border-radius: 0.35em;\">\n",
       "    Bilbo\n",
       "    <span style=\"font-size: 0.8em; font-weight: bold; line-height: 1; border-radius: 0.35em; vertical-align: middle; margin-left: 0.5rem\">PERSON</span>\n",
       "</mark>\n",
       ". `Feel ready for the great council?'</br>     `I feel ready for anything,' answered \n",
       "<mark class=\"entity\" style=\"background: #aa9cfc; padding: 0.45em 0.6em; margin: 0 0.25em; line-height: 1; border-radius: 0.35em;\">\n",
       "    Frodo\n",
       "    <span style=\"font-size: 0.8em; font-weight: bold; line-height: 1; border-radius: 0.35em; vertical-align: middle; margin-left: 0.5rem\">PERSON</span>\n",
       "</mark>\n",
       ". `But most of all I should like to go walking \n",
       "<mark class=\"entity\" style=\"background: #bfe1d9; padding: 0.45em 0.6em; margin: 0 0.25em; line-height: 1; border-radius: 0.35em;\">\n",
       "    today\n",
       "    <span style=\"font-size: 0.8em; font-weight: bold; line-height: 1; border-radius: 0.35em; vertical-align: middle; margin-left: 0.5rem\">DATE</span>\n",
       "</mark>\n",
       " and explore the valley. I should like to get into those pine-woods up there.' He pointed away far up the side of \n",
       "<mark class=\"entity\" style=\"background: #7aecec; padding: 0.45em 0.6em; margin: 0 0.25em; line-height: 1; border-radius: 0.35em;\">\n",
       "    Rivendell\n",
       "    <span style=\"font-size: 0.8em; font-weight: bold; line-height: 1; border-radius: 0.35em; vertical-align: middle; margin-left: 0.5rem\">ORG</span>\n",
       "</mark>\n",
       " to the north.</br>     'You may have a chance later,' said \n",
       "<mark class=\"entity\" style=\"background: #aa9cfc; padding: 0.45em 0.6em; margin: 0 0.25em; line-height: 1; border-radius: 0.35em;\">\n",
       "    Gandalf\n",
       "    <span style=\"font-size: 0.8em; font-weight: bold; line-height: 1; border-radius: 0.35em; vertical-align: middle; margin-left: 0.5rem\">PERSON</span>\n",
       "</mark>\n",
       ". `But we cannot make any plans yet. There is much to hear and decide \n",
       "<mark class=\"entity\" style=\"background: #bfe1d9; padding: 0.45em 0.6em; margin: 0 0.25em; line-height: 1; border-radius: 0.35em;\">\n",
       "    today\n",
       "    <span style=\"font-size: 0.8em; font-weight: bold; line-height: 1; border-radius: 0.35em; vertical-align: middle; margin-left: 0.5rem\">DATE</span>\n",
       "</mark>\n",
       ".'</br>     Suddenly as they were talking a single clear bell rang out. `That is the warning bell for \n",
       "<mark class=\"entity\" style=\"background: #7aecec; padding: 0.45em 0.6em; margin: 0 0.25em; line-height: 1; border-radius: 0.35em;\">\n",
       "    the Council of Elrond\n",
       "    <span style=\"font-size: 0.8em; font-weight: bold; line-height: 1; border-radius: 0.35em; vertical-align: middle; margin-left: 0.5rem\">ORG</span>\n",
       "</mark>\n",
       ",' cried \n",
       "<mark class=\"entity\" style=\"background: #aa9cfc; padding: 0.45em 0.6em; margin: 0 0.25em; line-height: 1; border-radius: 0.35em;\">\n",
       "    Gandalf\n",
       "    <span style=\"font-size: 0.8em; font-weight: bold; line-height: 1; border-radius: 0.35em; vertical-align: middle; margin-left: 0.5rem\">PERSON</span>\n",
       "</mark>\n",
       ". `Come along now! Both you and \n",
       "<mark class=\"entity\" style=\"background: #aa9cfc; padding: 0.45em 0.6em; margin: 0 0.25em; line-height: 1; border-radius: 0.35em;\">\n",
       "    Bilbo\n",
       "    <span style=\"font-size: 0.8em; font-weight: bold; line-height: 1; border-radius: 0.35em; vertical-align: middle; margin-left: 0.5rem\">PERSON</span>\n",
       "</mark>\n",
       " are wanted.'</br>     \n",
       "<mark class=\"entity\" style=\"background: #aa9cfc; padding: 0.45em 0.6em; margin: 0 0.25em; line-height: 1; border-radius: 0.35em;\">\n",
       "    Frodo\n",
       "    <span style=\"font-size: 0.8em; font-weight: bold; line-height: 1; border-radius: 0.35em; vertical-align: middle; margin-left: 0.5rem\">PERSON</span>\n",
       "</mark>\n",
       " and \n",
       "<mark class=\"entity\" style=\"background: #aa9cfc; padding: 0.45em 0.6em; margin: 0 0.25em; line-height: 1; border-radius: 0.35em;\">\n",
       "    Bilbo\n",
       "    <span style=\"font-size: 0.8em; font-weight: bold; line-height: 1; border-radius: 0.35em; vertical-align: middle; margin-left: 0.5rem\">PERSON</span>\n",
       "</mark>\n",
       " followed the wizard quickly along the winding path back to the house; behind them, uninvited and for the moment forgotten, trotted \n",
       "<mark class=\"entity\" style=\"background: #aa9cfc; padding: 0.45em 0.6em; margin: 0 0.25em; line-height: 1; border-radius: 0.35em;\">\n",
       "    Sam\n",
       "    <span style=\"font-size: 0.8em; font-weight: bold; line-height: 1; border-radius: 0.35em; vertical-align: middle; margin-left: 0.5rem\">PERSON</span>\n",
       "</mark>\n",
       ".</br>     \n",
       "<mark class=\"entity\" style=\"background: #aa9cfc; padding: 0.45em 0.6em; margin: 0 0.25em; line-height: 1; border-radius: 0.35em;\">\n",
       "    Gandalf\n",
       "    <span style=\"font-size: 0.8em; font-weight: bold; line-height: 1; border-radius: 0.35em; vertical-align: middle; margin-left: 0.5rem\">PERSON</span>\n",
       "</mark>\n",
       " led them to the porch where \n",
       "<mark class=\"entity\" style=\"background: #aa9cfc; padding: 0.45em 0.6em; margin: 0 0.25em; line-height: 1; border-radius: 0.35em;\">\n",
       "    Frodo\n",
       "    <span style=\"font-size: 0.8em; font-weight: bold; line-height: 1; border-radius: 0.35em; vertical-align: middle; margin-left: 0.5rem\">PERSON</span>\n",
       "</mark>\n",
       " had found his friends the evening before. The light of the clear \n",
       "<mark class=\"entity\" style=\"background: #bfe1d9; padding: 0.45em 0.6em; margin: 0 0.25em; line-height: 1; border-radius: 0.35em;\">\n",
       "    autumn morning\n",
       "    <span style=\"font-size: 0.8em; font-weight: bold; line-height: 1; border-radius: 0.35em; vertical-align: middle; margin-left: 0.5rem\">TIME</span>\n",
       "</mark>\n",
       " was now glowing in the valley. The noise of bubbling waters came up from the foaming river-bed. Birds were singing, and a wholesome peace lay on the land. To \n",
       "<mark class=\"entity\" style=\"background: #aa9cfc; padding: 0.45em 0.6em; margin: 0 0.25em; line-height: 1; border-radius: 0.35em;\">\n",
       "    Frodo\n",
       "    <span style=\"font-size: 0.8em; font-weight: bold; line-height: 1; border-radius: 0.35em; vertical-align: middle; margin-left: 0.5rem\">PERSON</span>\n",
       "</mark>\n",
       " his dangerous flight, and the rumours of the darkness growing in the world outside, already seemed only the memories of a troubled dream; but the faces that were turned to meet them as they entered were grave.</br>     Elrond was there, and several others were seated in silence about him. \n",
       "<mark class=\"entity\" style=\"background: #aa9cfc; padding: 0.45em 0.6em; margin: 0 0.25em; line-height: 1; border-radius: 0.35em;\">\n",
       "    Frodo\n",
       "    <span style=\"font-size: 0.8em; font-weight: bold; line-height: 1; border-radius: 0.35em; vertical-align: middle; margin-left: 0.5rem\">PERSON</span>\n",
       "</mark>\n",
       " saw \n",
       "<mark class=\"entity\" style=\"background: #aa9cfc; padding: 0.45em 0.6em; margin: 0 0.25em; line-height: 1; border-radius: 0.35em;\">\n",
       "    Glorfindel\n",
       "    <span style=\"font-size: 0.8em; font-weight: bold; line-height: 1; border-radius: 0.35em; vertical-align: middle; margin-left: 0.5rem\">PERSON</span>\n",
       "</mark>\n",
       " and \n",
       "<mark class=\"entity\" style=\"background: #aa9cfc; padding: 0.45em 0.6em; margin: 0 0.25em; line-height: 1; border-radius: 0.35em;\">\n",
       "    Glóin\n",
       "    <span style=\"font-size: 0.8em; font-weight: bold; line-height: 1; border-radius: 0.35em; vertical-align: middle; margin-left: 0.5rem\">PERSON</span>\n",
       "</mark>\n",
       "; and in a corner alone \n",
       "<mark class=\"entity\" style=\"background: #9cc9cc; padding: 0.45em 0.6em; margin: 0 0.25em; line-height: 1; border-radius: 0.35em;\">\n",
       "    Strider\n",
       "    <span style=\"font-size: 0.8em; font-weight: bold; line-height: 1; border-radius: 0.35em; vertical-align: middle; margin-left: 0.5rem\">FAC</span>\n",
       "</mark>\n",
       " was sitting, clad in his old travel-worn clothes again. Elrond drew \n",
       "<mark class=\"entity\" style=\"background: #aa9cfc; padding: 0.45em 0.6em; margin: 0 0.25em; line-height: 1; border-radius: 0.35em;\">\n",
       "    Frodo\n",
       "    <span style=\"font-size: 0.8em; font-weight: bold; line-height: 1; border-radius: 0.35em; vertical-align: middle; margin-left: 0.5rem\">PERSON</span>\n",
       "</mark>\n",
       " to a seat by his side, and presented him to the company, saying:</br>     'Here, my friends is the hobbit, \n",
       "<mark class=\"entity\" style=\"background: #aa9cfc; padding: 0.45em 0.6em; margin: 0 0.25em; line-height: 1; border-radius: 0.35em;\">\n",
       "    Frodo\n",
       "    <span style=\"font-size: 0.8em; font-weight: bold; line-height: 1; border-radius: 0.35em; vertical-align: middle; margin-left: 0.5rem\">PERSON</span>\n",
       "</mark>\n",
       " son of \n",
       "<mark class=\"entity\" style=\"background: #7aecec; padding: 0.45em 0.6em; margin: 0 0.25em; line-height: 1; border-radius: 0.35em;\">\n",
       "    Drogo\n",
       "    <span style=\"font-size: 0.8em; font-weight: bold; line-height: 1; border-radius: 0.35em; vertical-align: middle; margin-left: 0.5rem\">ORG</span>\n",
       "</mark>\n",
       ". Few have ever come hither through greater peril or on an errand more urgent.'</br>     He then pointed out and named those whom \n",
       "<mark class=\"entity\" style=\"background: #aa9cfc; padding: 0.45em 0.6em; margin: 0 0.25em; line-height: 1; border-radius: 0.35em;\">\n",
       "    Frodo\n",
       "    <span style=\"font-size: 0.8em; font-weight: bold; line-height: 1; border-radius: 0.35em; vertical-align: middle; margin-left: 0.5rem\">PERSON</span>\n",
       "</mark>\n",
       " had not met before. There was a younger dwarf at \n",
       "<mark class=\"entity\" style=\"background: #aa9cfc; padding: 0.45em 0.6em; margin: 0 0.25em; line-height: 1; border-radius: 0.35em;\">\n",
       "    Glóin\n",
       "    <span style=\"font-size: 0.8em; font-weight: bold; line-height: 1; border-radius: 0.35em; vertical-align: middle; margin-left: 0.5rem\">PERSON</span>\n",
       "</mark>\n",
       "'s side: his son \n",
       "<mark class=\"entity\" style=\"background: #aa9cfc; padding: 0.45em 0.6em; margin: 0 0.25em; line-height: 1; border-radius: 0.35em;\">\n",
       "    Gimli\n",
       "    <span style=\"font-size: 0.8em; font-weight: bold; line-height: 1; border-radius: 0.35em; vertical-align: middle; margin-left: 0.5rem\">PERSON</span>\n",
       "</mark>\n",
       ". Beside \n",
       "<mark class=\"entity\" style=\"background: #aa9cfc; padding: 0.45em 0.6em; margin: 0 0.25em; line-height: 1; border-radius: 0.35em;\">\n",
       "    Glorfindel\n",
       "    <span style=\"font-size: 0.8em; font-weight: bold; line-height: 1; border-radius: 0.35em; vertical-align: middle; margin-left: 0.5rem\">PERSON</span>\n",
       "</mark>\n",
       " there were several other counsellors </div></span>"
      ],
      "text/plain": [
       "<IPython.core.display.HTML object>"
      ]
     },
     "metadata": {},
     "output_type": "display_data"
    }
   ],
   "source": [
    "displacy.render(doc, style=\"ent\")"
   ]
  },
  {
   "attachments": {},
   "cell_type": "markdown",
   "id": "e5c656be",
   "metadata": {},
   "source": [
    "Let's now take a look at our first token, `Next`."
   ]
  },
  {
   "attachments": {},
   "cell_type": "markdown",
   "id": "3dd40691",
   "metadata": {},
   "source": [
    "\n",
    "# Supervised Learning\n",
    "\n",
    "Supervised learning is fundamentally different from unsupervised learning. In supervised learning, we know the labels of our data. Our goal is to use that labeled data to teach a computer system to understand the key feature of our data that make it correspond to specific labels.\n",
    "\n",
    "\n",
    "In a supervised learning system, our data would look like this:\n",
    "\n",
    "SPORTS - The Boston Celtics won the championship.\n",
    "SPORTS - The Dallas Cowboys lost in overtime.\n",
    "SPORTS - Basketball is a sport enjoyed worldwide.\n",
    "POLITICS - The Senator from Florida voted against the bill.\n",
    "POLITICS - The Congressperson from New Hampshire is leaving office.\n",
    "POLITICS - A bill is a type of legal document.\n",
    "\n",
    "Here we have our data clearly labeled. This is precisely how spaCy's available pipelines work. They were trained on thousands of examples of texts that had annotations. Annotations are labels that we assign to specific tokens, or sequence of tokens, that correspond to a specific label. If we are training an NER system, our annotations will be things like: PERSON, GPE, LOC, etc."
   ]
  },
  {
   "attachments": {},
   "cell_type": "markdown",
   "id": "0e403bc6",
   "metadata": {},
   "source": [
    "# Annotations\n",
    "\n",
    "In order to understand what annotations are more deeply, let's take a look at a concrete example."
   ]
  },
  {
   "cell_type": "code",
   "execution_count": 104,
   "id": "69ceeb9b",
   "metadata": {},
   "outputs": [
    {
     "data": {
      "text/html": [
       "<span class=\"tex2jax_ignore\"><div class=\"entities\" style=\"line-height: 2.5; direction: ltr\">\n",
       "<mark class=\"entity\" style=\"background: #feca74; padding: 0.45em 0.6em; margin: 0 0.25em; line-height: 1; border-radius: 0.35em;\">\n",
       "    New York\n",
       "    <span style=\"font-size: 0.8em; font-weight: bold; line-height: 1; border-radius: 0.35em; vertical-align: middle; margin-left: 0.5rem\">GPE</span>\n",
       "</mark>\n",
       " is a state.</div></span>"
      ],
      "text/plain": [
       "<IPython.core.display.HTML object>"
      ]
     },
     "metadata": {},
     "output_type": "display_data"
    }
   ],
   "source": [
    "doc = nlp(\"New York is a state.\")\n",
    "displacy.render(doc, style=\"ent\")"
   ]
  },
  {
   "attachments": {},
   "cell_type": "markdown",
   "id": "808ce85c",
   "metadata": {},
   "source": [
    "As we can see in the example above, New York is identified as a state. Let's see what this doc looks like as an annotation. To convert it to an annotation, we can use doc.to_json()"
   ]
  },
  {
   "cell_type": "code",
   "execution_count": 105,
   "id": "08d0cd05",
   "metadata": {},
   "outputs": [
    {
     "data": {
      "text/plain": [
       "{'text': 'New York is a state.',\n",
       " 'ents': [{'start': 0, 'end': 8, 'label': 'GPE'}],\n",
       " 'sents': [{'start': 0, 'end': 20}],\n",
       " 'tokens': [{'id': 0,\n",
       "   'start': 0,\n",
       "   'end': 3,\n",
       "   'tag': 'NNP',\n",
       "   'pos': 'PROPN',\n",
       "   'morph': 'Number=Sing',\n",
       "   'lemma': 'New',\n",
       "   'dep': 'compound',\n",
       "   'head': 1},\n",
       "  {'id': 1,\n",
       "   'start': 4,\n",
       "   'end': 8,\n",
       "   'tag': 'NNP',\n",
       "   'pos': 'PROPN',\n",
       "   'morph': 'Number=Sing',\n",
       "   'lemma': 'York',\n",
       "   'dep': 'nsubj',\n",
       "   'head': 2},\n",
       "  {'id': 2,\n",
       "   'start': 9,\n",
       "   'end': 11,\n",
       "   'tag': 'VBZ',\n",
       "   'pos': 'AUX',\n",
       "   'morph': 'Mood=Ind|Number=Sing|Person=3|Tense=Pres|VerbForm=Fin',\n",
       "   'lemma': 'be',\n",
       "   'dep': 'ROOT',\n",
       "   'head': 2},\n",
       "  {'id': 3,\n",
       "   'start': 12,\n",
       "   'end': 13,\n",
       "   'tag': 'DT',\n",
       "   'pos': 'DET',\n",
       "   'morph': 'Definite=Ind|PronType=Art',\n",
       "   'lemma': 'a',\n",
       "   'dep': 'det',\n",
       "   'head': 4},\n",
       "  {'id': 4,\n",
       "   'start': 14,\n",
       "   'end': 19,\n",
       "   'tag': 'NN',\n",
       "   'pos': 'NOUN',\n",
       "   'morph': 'Number=Sing',\n",
       "   'lemma': 'state',\n",
       "   'dep': 'attr',\n",
       "   'head': 2},\n",
       "  {'id': 5,\n",
       "   'start': 19,\n",
       "   'end': 20,\n",
       "   'tag': '.',\n",
       "   'pos': 'PUNCT',\n",
       "   'morph': 'PunctType=Peri',\n",
       "   'lemma': '.',\n",
       "   'dep': 'punct',\n",
       "   'head': 2}]}"
      ]
     },
     "execution_count": 105,
     "metadata": {},
     "output_type": "execute_result"
    }
   ],
   "source": [
    "doc.to_json()"
   ]
  },
  {
   "attachments": {},
   "cell_type": "markdown",
   "id": "c5e5c64d",
   "metadata": {},
   "source": [
    "We have a lot of data here, so let's just focus on two parts of this, the text and the ents."
   ]
  },
  {
   "cell_type": "code",
   "execution_count": 106,
   "id": "5e0c81dc",
   "metadata": {},
   "outputs": [
    {
     "name": "stdout",
     "output_type": "stream",
     "text": [
      "New York is a state.\n",
      "[{'start': 0, 'end': 8, 'label': 'GPE'}]\n"
     ]
    }
   ],
   "source": [
    "text = doc.to_json()[\"text\"]\n",
    "ents = doc.to_json()[\"ents\"]\n",
    "\n",
    "print(text)\n",
    "print(ents)"
   ]
  },
  {
   "attachments": {},
   "cell_type": "markdown",
   "id": "479bb5cd",
   "metadata": {},
   "source": [
    "Here we can see get a close exmaple of what a machine learning annotation looks like for supervised learning. We have a string, a specific text, with labeled annotations. In our case, we have the entities labeled. Notice that each entity (we only have 1) has a dictionary which has 3 keys: start, end, and label. The start and end correspond to the start and end characters here. The label corresponds to the appropriate label for the thing that falls within that span of characters. In our case, this is `New York`.\n",
    "\n",
    "Later, we will be learning how to cultivate annotations like this with our own data."
   ]
  },
  {
   "attachments": {},
   "cell_type": "markdown",
   "id": "c1826d37",
   "metadata": {},
   "source": [
    "## Model Bias\n",
    "\n",
    "SpaCy provides numerous open-source pipelines and models for users for many languages. These models are, however, biased. In order to understand what this means and why it is important, let's take a look at a simple example."
   ]
  },
  {
   "cell_type": "code",
   "execution_count": 111,
   "id": "4ac7c8c0",
   "metadata": {},
   "outputs": [],
   "source": [
    "nlp = spacy.load(\"en_core_web_sm\")\n",
    "doc = nlp(\"John went to the store.\")"
   ]
  },
  {
   "attachments": {},
   "cell_type": "markdown",
   "id": "9d8603b0",
   "metadata": {},
   "source": [
    "Our text is simple: `John went to the store.` THe only entity we have in this is `John` who should be identified as `PERSON`"
   ]
  },
  {
   "cell_type": "code",
   "execution_count": 24,
   "id": "3442b156",
   "metadata": {},
   "outputs": [
    {
     "data": {
      "text/html": [
       "<span class=\"tex2jax_ignore\"><div class=\"entities\" style=\"line-height: 2.5; direction: ltr\">\n",
       "<mark class=\"entity\" style=\"background: #feca74; padding: 0.45em 0.6em; margin: 0 0.25em; line-height: 1; border-radius: 0.35em;\">\n",
       "    New York\n",
       "    <span style=\"font-size: 0.8em; font-weight: bold; line-height: 1; border-radius: 0.35em; vertical-align: middle; margin-left: 0.5rem\">GPE</span>\n",
       "</mark>\n",
       " is a state.</div></span>"
      ],
      "text/plain": [
       "<IPython.core.display.HTML object>"
      ]
     },
     "metadata": {},
     "output_type": "display_data"
    }
   ],
   "source": [
    "displacy.render(doc, style=\"ent\")"
   ]
  },
  {
   "attachments": {},
   "cell_type": "markdown",
   "id": "e08e4488",
   "metadata": {},
   "source": [
    "As we can see, the spaCy model has identified this perfectly for us. Why is that? The reason lies in the data that the model was trained on. The model was trained on a lot of English texts and John is a very common name in English. Therefore, the model, as one would expect, does well at predicting that John is a person. It is able to do this likely because it has memorized that John always functions as a name.\n",
    "\n",
    "Let's see how it performs with a South African name."
   ]
  },
  {
   "cell_type": "code",
   "execution_count": 113,
   "id": "fc14048e",
   "metadata": {},
   "outputs": [
    {
     "data": {
      "text/html": [
       "<span class=\"tex2jax_ignore\"><div class=\"entities\" style=\"line-height: 2.5; direction: ltr\">\n",
       "<mark class=\"entity\" style=\"background: #feca74; padding: 0.45em 0.6em; margin: 0 0.25em; line-height: 1; border-radius: 0.35em;\">\n",
       "    Zuri\n",
       "    <span style=\"font-size: 0.8em; font-weight: bold; line-height: 1; border-radius: 0.35em; vertical-align: middle; margin-left: 0.5rem\">GPE</span>\n",
       "</mark>\n",
       " went to the store.</div></span>"
      ],
      "text/plain": [
       "<IPython.core.display.HTML object>"
      ]
     },
     "metadata": {},
     "output_type": "display_data"
    }
   ],
   "source": [
    "doc = nlp(\"Zuri went to the store.\")\n",
    "displacy.render(doc, style=\"ent\")"
   ]
  },
  {
   "attachments": {},
   "cell_type": "markdown",
   "id": "3fe26087",
   "metadata": {},
   "source": [
    "As we can see, we have a false positive for Zuri as a GPE, rather than PERSON. This is an expected error for a few reasons. First, the model is biased towards Western English. When we speak about model biases, we are speaking about its tendency to fare better on specific types of data or model towards certain conclusions inconsistently. All models are biased because all data is biased as are all datasets. Without constraints, models can very easily replicate the biases of humans. In our case, the `en_core_web_sm` is biased towards Western names because it saw more Western names in the training data.\n",
    "\n",
    "In some instances, however, we may want to bias models intentionally. Imagine we had a language model that was good, but could not work well with data relevant to the Holocaust. In this example, we may want to fine-tune the model to Holocaust data. Fine-tuning models is a way that we can bias a model to a particular subject, or domain, or task. These instances require consideration for the intended use of the model and the application of it. Biasing a model towards a specific type of data will greatly improve the results when it runs over similar data, but when applied to more general use cases, it may perform more poorly. If we train a model to work specifically on Holocaust data, therefore, we may have a model that performs well when identifying places in eastern Europe, but may do poorly at classifying Denver as a city."
   ]
  },
  {
   "attachments": {},
   "cell_type": "markdown",
   "id": "a76afda0",
   "metadata": {},
   "source": [
    "# spaCy Machine Learning Pipes\n",
    "\n",
    "The spaCy library has numerous available machine learning components. Most of them are pre-built into the spaCy pipelines. They are trained on open-source datasets and benchmarked with each new version of spaCy. Let's dive into the components that are available to us. When we train a machine learning model in spaCy, spaCy will expect your data to be structured in a very specific format and then converted into binary files. Let's first take a look at the expected data format for each component.\n",
    "\n",
    "\n",
    "## Named Entity Recognition (NER)\n",
    "\n",
    "Named Entity Recognition (NER) identifies and classifies named entities within the text, such as names of people, organizations, locations, and more. In the given sentence, \"New York\" is recognized as a geopolitical entity (GPE), and this information can be utilized in many applications like information retrieval, summarization, and more.\n",
    "\n",
    "A great trick to identify the format spaCy expects is to convert your doc container into a JSON file. This will show you the output of a spaCy pipeline with each component's data stored as "
   ]
  },
  {
   "cell_type": "code",
   "execution_count": 25,
   "id": "64d8c20b",
   "metadata": {},
   "outputs": [
    {
     "name": "stdout",
     "output_type": "stream",
     "text": [
      "[{'start': 0, 'end': 8, 'label': 'GPE'}]\n"
     ]
    }
   ],
   "source": [
    "doc = nlp(\"New York is a state.\")\n",
    "json_doc = doc.to_json()\n",
    "print(json_doc['ents'])"
   ]
  },
  {
   "attachments": {},
   "cell_type": "markdown",
   "id": "fbf38681",
   "metadata": {},
   "source": [
    "This format provides for us the start character, end character, and label of or entity. In our case, this is the text: `New York` which has the label `GPE`. We will work very closely with training an NER model in the next notebook, so we will explore this format more closely. In spaCy 3x (or versions higher than spaCy 3), we work with training data as serialized `.spacy` files. These are compressed doc containers that are saved to disk. However, before we can get the data into a .spacy format, we must first create the Doc containers and to do that, it is often important to structure your training data in a consistent manner. The above format is the one you will frequently see for NER because it is how we used to structure training data for spaCy 2. When spaCy upgraded to spaCy 3, many continued to structure their JSON training data in the same format.\n",
    "\n",
    "Notice that our training data does not have an annotation for every token in the sentence. Instead, the NER training data is a sequence of dictionaries that correspond strictly to the spans that align with specific entities. Training data for other spaCy components will look fundamentally different.\n",
    "\n",
    "## Part-of-Speech (POS) Tagging\n",
    "\n",
    "Another machine learning model that you can train is the part-of-speech tagger. Part-of-Speech tagging assigns each token a POS tag, such as noun, verb, adjective, etc. These tags provide insights into the grammatical roles and structure of the sentence. Understanding POS is vital for many NLP tasks like syntactic parsing, text-to-speech conversion, and language translation.\n",
    "\n",
    "Unlike the NER training data, our part-of-speech training data is a sequence of tokens. These tokens each of which has a unique tag and part-of-speech. Because every token has a part-of-speech tag, our training data will look like a sequence of tags. When the spaCy part-of-speech tagger model trains, it will try to predict for each token its correct part-of-speech. These will be stored as a sequence of tags in training data. We can capture this in the following way:"
   ]
  },
  {
   "cell_type": "code",
   "execution_count": 29,
   "id": "56fd2138",
   "metadata": {},
   "outputs": [
    {
     "name": "stdout",
     "output_type": "stream",
     "text": [
      "['PROPN', 'PROPN', 'AUX', 'DET', 'NOUN', 'PUNCT']\n"
     ]
    }
   ],
   "source": [
    "tags = []\n",
    "for token in doc:\n",
    "    tags.append(token.pos_)\n",
    "print(tags)"
   ]
  },
  {
   "attachments": {},
   "cell_type": "markdown",
   "id": "5260985b",
   "metadata": {},
   "source": [
    "# SpanCat\n",
    "\n",
    "Another trainable component is the SpanCat component in spaCy. The SpanCat's training data structure looks precisely like the NER structure. Unlike the NER structure, however, we reference our spans as `spans` not `ents`. In the `spans` dictionary, these are stored under the key `sc` by default. `sc` stands for SpanCat. Unlike the NER (and like the SpanRuler), a SpanCat model is able to assign multiple labels to the same token. This makes it particularly well-suited to classification tasks that may have nested spans.\n",
    "\n",
    "Imagine if you wanted to capture first name, last name, and PERSON as 3 labels for the following text:\n",
    "\n",
    "```Joe Smith went to the store```\n",
    "\n",
    "We would want `Joe` to have the label of first name, `Smith` to have the label of last name, and `Joe Smith` to have the label of PERSON. In order to achieve this, we cannot use the NER model, rather we must use the SpanCat model."
   ]
  },
  {
   "attachments": {},
   "cell_type": "markdown",
   "id": "46856260",
   "metadata": {},
   "source": [
    "# TextCat\n",
    "\n",
    "Up until now, we have spoken strictly about classifying tokens (POS tagger) or spans (NER or SpanCat), but what if we wanted to classify entire texts? This is where the TextCat component comes into play. The TextCat model allows us to assign categories, or labels, to input texts. With the TextCat component we can perform text classification. A good way to think about the TextCat model is to consider the example of topic modeling from the previous lesson. In topic modeling we did not know the labels for our data. Instead, we wanted to find clusters within our corpus. Text classification is the exact opposite of this. In text classification we know the labels of our training data and we are seeking to train a TextCat model to learn the features of what makes a specific category a specific category. To do this, it will learn from the training data and ultimately be able to classify unseen documents."
   ]
  },
  {
   "attachments": {},
   "cell_type": "markdown",
   "id": "73de3bf7",
   "metadata": {},
   "source": [
    "# How to Choose Labels?\n",
    "\n",
    "When training a machine learning model, it is important to understand that this will be a trial-and-error process. This is true for all levels of training a model and the reason for this is because any time you are seeking to create a model to do something, you are creating something unique. Often times you are working with training data that you have cultivated that has not been used to train another model before. In order to figure out the right training data, the right model architecture, and the right labels, you must perform a series of tests.\n",
    "\n",
    "One of the things that is not given enough consideration frequently are the labels you choose. Remember, the labels are the ways in which you want to classify your documents. When choosing labels it is important to remember that if your labels are difficult for you to explain and differentiate to another human, this will likely be a major issue. This is a good indication that your label distinctions potentially overlap conceptually. This will lead to two major issues. First, it will mean that your annotators (or even you) will have a hard time consistently labeling the data. Second, it will mean that the model will likely struggle in being able to identify these distinctions that you want to identify.\n",
    "\n",
    "When creating labels, it is best to have labels that are clearly and conceptually distinct from one another. This does not mean that they cannot be part of a similar larger, category. In a current project, we are seeking to classify different types of places and how they appear in Holocaust oral testimonies. Our different types of places are clear and distinct however. Some are `ENVIRONMENTAL_FEATURE`, such as rivers and forests, while others are `POPULATED_PLACE`, such as a city or a ghetto, and others are labels such as `INTERIOR` to indicate a place that is inside another location. We have many other types of place labels we are using but each is distinct with few labels having cross-overs.\n",
    "\n",
    "It is equally important to consider the ethics behind your labels. Just because you can train a machine learning model to do something does not mean you should. A good example of this is a project rooted in violence in 20th century South Africa. We were interested in understanding victim-perpetrator relationships in oral testimonies. In order to do this, we need to be able to identify the victim in a text and then identify the perpetrator. There are ways to do this via machine learning. However, were we to train a model that could label VICTIM and PERPETRATOR as distinct entities, it may be right a certain percentage of the time. But what about the times its wrong? What if this model was given to the public to use? What if it made a wrong prediction and that output was not verified and instead used in a negative way? These are the questions that you should ask when cultivating labels.\n",
    "\n",
    "When constructing labels, therefore, consider these aspects."
   ]
  },
  {
   "attachments": {},
   "cell_type": "markdown",
   "id": "d8925f30",
   "metadata": {},
   "source": [
    "# Using spaCy to Cultivate Training Data\n",
    "\n",
    "When creating training data, it is important to use annotation software. There are many available. I personally use Prodigy, which comes from the creators of spaCy. It has a higher cost than its competitors, but it is far superior since it is designed to work specifically with spaCy. It makes the process of annotation-training seamless. It also has a very good research license that you can apply for.\n",
    "\n",
    "In this part of the notebook, I will demonstrate a trick that you can do, however, to use an EntityRuler (or SpanRuler), to assist in the cultivation of a quick dataset. The goal of this process is to not train a perfect model, rather a model that is good enough to then help in the annotation process in Prodigy.\n"
   ]
  },
  {
   "cell_type": "code",
   "execution_count": 34,
   "id": "4cf8179a",
   "metadata": {},
   "outputs": [
    {
     "data": {
      "text/plain": [
       "'Next day Frodo woke early, feeling refreshed and well. He walked along the terraces above the loud-flowing Bruinen and watched the pale, cool sun rise above the far mountains, and shine down. Slanting through the thin silver mist; the dew upon the ye'"
      ]
     },
     "execution_count": 34,
     "metadata": {},
     "output_type": "execute_result"
    }
   ],
   "source": [
    "with open(\"../data/lotr.txt\", \"r\") as f:\n",
    "    text = f.read().strip()\n",
    "text[:250]"
   ]
  },
  {
   "cell_type": "code",
   "execution_count": 62,
   "id": "05a49522",
   "metadata": {},
   "outputs": [
    {
     "name": "stderr",
     "output_type": "stream",
     "text": [
      "/home/wjbmattingly/anaconda3/lib/python3.7/site-packages/spacy/util.py:877: UserWarning: [W095] Model 'en_hobbit' (0.0.1) was trained with spaCy v3.6 and may not be 100% compatible with the current version (3.5.0). If you see errors or degraded performance, download a newer compatible model or retrain your custom model with the current spaCy version. For more details and available updates, run: python -m spacy validate\n",
      "  \n"
     ]
    }
   ],
   "source": [
    "nlp = spacy.load(\"en_hobbit\", disable=\"span_ruler\")"
   ]
  },
  {
   "cell_type": "code",
   "execution_count": 35,
   "id": "b35eb8e1",
   "metadata": {},
   "outputs": [
    {
     "data": {
      "text/html": [
       "<span class=\"tex2jax_ignore\"><div class=\"entities\" style=\"line-height: 2.5; direction: ltr\">Next day \n",
       "<mark class=\"entity\" style=\"background: #ddd; padding: 0.45em 0.6em; margin: 0 0.25em; line-height: 1; border-radius: 0.35em;\">\n",
       "    Frodo\n",
       "    <span style=\"font-size: 0.8em; font-weight: bold; line-height: 1; border-radius: 0.35em; vertical-align: middle; margin-left: 0.5rem\">HOBBIT</span>\n",
       "</mark>\n",
       " woke early, feeling refreshed and well. He walked along the terraces above the loud-flowing Bruinen and watched the pale, cool sun rise above the far mountains, and shine down. Slanting through the thin silver mist; the dew upon the yellow leaves was glimmering, and the woven nets of gossamer twinkled on every bush. Sam walked beside him, saying nothing. but sniffing the air, and looking every now and again with wonder in his eyes at the great heights in the East. The snow was white upon their peaks.</br>     On a seat cut in the stone beside a turn in the path they came upon \n",
       "<mark class=\"entity\" style=\"background: #ddd; padding: 0.45em 0.6em; margin: 0 0.25em; line-height: 1; border-radius: 0.35em;\">\n",
       "    Gandalf\n",
       "    <span style=\"font-size: 0.8em; font-weight: bold; line-height: 1; border-radius: 0.35em; vertical-align: middle; margin-left: 0.5rem\">AINUR</span>\n",
       "</mark>\n",
       " and \n",
       "<mark class=\"entity\" style=\"background: #ddd; padding: 0.45em 0.6em; margin: 0 0.25em; line-height: 1; border-radius: 0.35em;\">\n",
       "    Bilbo\n",
       "    <span style=\"font-size: 0.8em; font-weight: bold; line-height: 1; border-radius: 0.35em; vertical-align: middle; margin-left: 0.5rem\">HOBBIT</span>\n",
       "</mark>\n",
       " deep in talk. `Hullo! Good morning!' said \n",
       "<mark class=\"entity\" style=\"background: #ddd; padding: 0.45em 0.6em; margin: 0 0.25em; line-height: 1; border-radius: 0.35em;\">\n",
       "    Bilbo\n",
       "    <span style=\"font-size: 0.8em; font-weight: bold; line-height: 1; border-radius: 0.35em; vertical-align: middle; margin-left: 0.5rem\">HOBBIT</span>\n",
       "</mark>\n",
       ". `Feel ready for the great council?'</br>     `I feel ready for anything,' answered \n",
       "<mark class=\"entity\" style=\"background: #ddd; padding: 0.45em 0.6em; margin: 0 0.25em; line-height: 1; border-radius: 0.35em;\">\n",
       "    Frodo\n",
       "    <span style=\"font-size: 0.8em; font-weight: bold; line-height: 1; border-radius: 0.35em; vertical-align: middle; margin-left: 0.5rem\">HOBBIT</span>\n",
       "</mark>\n",
       ". `But most of all I should like to go walking today and explore the valley. I should like to get into those pine-woods up there.' He pointed away far up the side of \n",
       "<mark class=\"entity\" style=\"background: #ddd; padding: 0.45em 0.6em; margin: 0 0.25em; line-height: 1; border-radius: 0.35em;\">\n",
       "    Rivendell\n",
       "    <span style=\"font-size: 0.8em; font-weight: bold; line-height: 1; border-radius: 0.35em; vertical-align: middle; margin-left: 0.5rem\">REALM</span>\n",
       "</mark>\n",
       " to the north.</br>     'You may have a chance later,' said \n",
       "<mark class=\"entity\" style=\"background: #ddd; padding: 0.45em 0.6em; margin: 0 0.25em; line-height: 1; border-radius: 0.35em;\">\n",
       "    Gandalf\n",
       "    <span style=\"font-size: 0.8em; font-weight: bold; line-height: 1; border-radius: 0.35em; vertical-align: middle; margin-left: 0.5rem\">AINUR</span>\n",
       "</mark>\n",
       ". `But we cannot </div></span>"
      ],
      "text/plain": [
       "<IPython.core.display.HTML object>"
      ]
     },
     "metadata": {},
     "output_type": "display_data"
    }
   ],
   "source": [
    "doc = nlp(text[:1000])\n",
    "displacy.render(doc, style=\"ent\")"
   ]
  },
  {
   "cell_type": "code",
   "execution_count": 45,
   "id": "14720efe",
   "metadata": {},
   "outputs": [],
   "source": [
    "doc = nlp(text)"
   ]
  },
  {
   "cell_type": "code",
   "execution_count": 59,
   "id": "f5674f0f",
   "metadata": {},
   "outputs": [],
   "source": [
    "nlp2 = spacy.load('en_core_web_sm', disable=\"ner\")"
   ]
  },
  {
   "cell_type": "code",
   "execution_count": 60,
   "id": "4c4261f5",
   "metadata": {},
   "outputs": [],
   "source": [
    "doc2 = nlp2(text)"
   ]
  },
  {
   "cell_type": "code",
   "execution_count": 74,
   "id": "ea30ee08",
   "metadata": {},
   "outputs": [],
   "source": [
    "training_data = []\n",
    "\n",
    "for sent in doc2.sents:\n",
    "    doc = nlp(sent.text)\n",
    "    training_data.append(doc)\n",
    "    "
   ]
  },
  {
   "cell_type": "code",
   "execution_count": 64,
   "id": "b328362c",
   "metadata": {},
   "outputs": [
    {
     "data": {
      "text/plain": [
       "1111"
      ]
     },
     "execution_count": 64,
     "metadata": {},
     "output_type": "execute_result"
    }
   ],
   "source": [
    "len(training_data)"
   ]
  },
  {
   "cell_type": "code",
   "execution_count": 69,
   "id": "4c7b041c",
   "metadata": {},
   "outputs": [
    {
     "data": {
      "text/plain": [
       "{'text': 'Next day Frodo woke early, feeling refreshed and well.',\n",
       " 'ents': [{'start': 9, 'end': 14, 'label': 'HOBBIT'}],\n",
       " 'tokens': [{'id': 0, 'start': 0, 'end': 4},\n",
       "  {'id': 1, 'start': 5, 'end': 8},\n",
       "  {'id': 2, 'start': 9, 'end': 14},\n",
       "  {'id': 3, 'start': 15, 'end': 19},\n",
       "  {'id': 4, 'start': 20, 'end': 25},\n",
       "  {'id': 5, 'start': 25, 'end': 26},\n",
       "  {'id': 6, 'start': 27, 'end': 34},\n",
       "  {'id': 7, 'start': 35, 'end': 44},\n",
       "  {'id': 8, 'start': 45, 'end': 48},\n",
       "  {'id': 9, 'start': 49, 'end': 53},\n",
       "  {'id': 10, 'start': 53, 'end': 54}]}"
      ]
     },
     "execution_count": 69,
     "metadata": {},
     "output_type": "execute_result"
    }
   ],
   "source": [
    "training_data[0].to_json()"
   ]
  },
  {
   "attachments": {},
   "cell_type": "markdown",
   "id": "e61d140b",
   "metadata": {},
   "source": [
    "# Converting Docs to Serialized .spacy\n",
    "\n",
    "In order to train a spaCy model in spaCy 3x, there are a few steps that must be done. First, we must convert a doc container into a serialized binary file and save it to disk. We can also need to split our data into a training and validation set. To do these tasks, we can import DocBin from spaCy and train_test_split from sklearn. Sklearn is a machine learning library that handles a lot of tasks for us automatically."
   ]
  },
  {
   "cell_type": "code",
   "execution_count": 73,
   "id": "cb9acf38",
   "metadata": {},
   "outputs": [],
   "source": [
    "from spacy.tokens import DocBin\n",
    "from sklearn.model_selection import train_test_split\n"
   ]
  },
  {
   "attachments": {},
   "cell_type": "markdown",
   "id": "40d9a718",
   "metadata": {},
   "source": [
    "To save Doc containers to disk, we need to create a DocBin() class. This will hold multiple doc containers for us. Let's create one for our training data."
   ]
  },
  {
   "cell_type": "code",
   "execution_count": 80,
   "id": "c631b567",
   "metadata": {},
   "outputs": [],
   "source": [
    "train_db = DocBin()"
   ]
  },
  {
   "attachments": {},
   "cell_type": "markdown",
   "id": "70cdb1d2",
   "metadata": {},
   "source": [
    "And one for our validation data."
   ]
  },
  {
   "cell_type": "code",
   "execution_count": 81,
   "id": "c01bcdae",
   "metadata": {},
   "outputs": [],
   "source": [
    "valid_db = DocBin()"
   ]
  },
  {
   "attachments": {},
   "cell_type": "markdown",
   "id": "a734670a",
   "metadata": {},
   "source": [
    "Next, we neeed to split our training data into training and validation sets. These will be used during the training process."
   ]
  },
  {
   "cell_type": "code",
   "execution_count": 75,
   "metadata": {},
   "outputs": [],
   "source": [
    "train, valid = train_test_split(training_data, test_size=0.20, random_state=42)"
   ]
  },
  {
   "attachments": {},
   "cell_type": "markdown",
   "id": "7a6763bf",
   "metadata": {},
   "source": [
    "Let's take a look at each and each's length."
   ]
  },
  {
   "cell_type": "code",
   "execution_count": 76,
   "id": "663b4108",
   "metadata": {},
   "outputs": [
    {
     "data": {
      "text/plain": [
       "The world has changed much since I last was on the westward roads.\n",
       "     "
      ]
     },
     "execution_count": 76,
     "metadata": {},
     "output_type": "execute_result"
    }
   ],
   "source": [
    "train[0]"
   ]
  },
  {
   "cell_type": "code",
   "execution_count": 77,
   "id": "4b8ebd06",
   "metadata": {},
   "outputs": [
    {
     "data": {
      "text/plain": [
       "I do not know; but I trace here a copy of it, lest it fade beyond recall."
      ]
     },
     "execution_count": 77,
     "metadata": {},
     "output_type": "execute_result"
    }
   ],
   "source": [
    "valid[0]"
   ]
  },
  {
   "cell_type": "code",
   "execution_count": 78,
   "id": "a30e2687",
   "metadata": {},
   "outputs": [
    {
     "data": {
      "text/plain": [
       "888"
      ]
     },
     "execution_count": 78,
     "metadata": {},
     "output_type": "execute_result"
    }
   ],
   "source": [
    "len(train)"
   ]
  },
  {
   "cell_type": "code",
   "execution_count": 79,
   "id": "8d065449",
   "metadata": {},
   "outputs": [
    {
     "data": {
      "text/plain": [
       "223"
      ]
     },
     "execution_count": 79,
     "metadata": {},
     "output_type": "execute_result"
    }
   ],
   "source": [
    "len(valid)"
   ]
  },
  {
   "attachments": {},
   "cell_type": "markdown",
   "id": "9089339d",
   "metadata": {},
   "source": [
    "Now, let's add each doc container in the training and validation sets into their respective DocBin() classes. We can do this with `.add()` where we add each doc container."
   ]
  },
  {
   "cell_type": "code",
   "execution_count": 82,
   "id": "6ce8b2e9",
   "metadata": {},
   "outputs": [],
   "source": [
    "for t in train:\n",
    "    train_db.add(t)"
   ]
  },
  {
   "cell_type": "code",
   "execution_count": 83,
   "id": "77c9468c",
   "metadata": {},
   "outputs": [],
   "source": [
    "for v in valid:\n",
    "    valid_db.add(v)"
   ]
  },
  {
   "attachments": {},
   "cell_type": "markdown",
   "id": "be352849",
   "metadata": {},
   "source": [
    "Now, we can save each to disk. I am saving each of our data in the `data` folder of this repository as `train.spacy` and `valid.spacy`. We will need to specify where these files are located when we train our spaCy model."
   ]
  },
  {
   "cell_type": "code",
   "execution_count": 85,
   "id": "94ebd67f",
   "metadata": {},
   "outputs": [],
   "source": [
    "train_db.to_disk(\"../data/train.spacy\")"
   ]
  },
  {
   "cell_type": "code",
   "execution_count": 86,
   "id": "59a17989",
   "metadata": {},
   "outputs": [],
   "source": [
    "valid_db.to_disk(\"../data/valid.spacy\")"
   ]
  },
  {
   "attachments": {},
   "cell_type": "markdown",
   "id": "9e6dcb16",
   "metadata": {},
   "source": [
    "# Training\n",
    "\n",
    "Training in spaCY 3 is almost exclusively done in the command line. Because we are learning in JupyterLab, we will use `!` before each cell to indicate that this should be run as a command line prompt."
   ]
  },
  {
   "cell_type": "code",
   "execution_count": 88,
   "id": "c0132dcd",
   "metadata": {},
   "outputs": [
    {
     "name": "stdout",
     "output_type": "stream",
     "text": [
      "\u001b[38;5;2m✔ Auto-filled config with all values\u001b[0m\n",
      "\u001b[38;5;2m✔ Saved config\u001b[0m\n",
      "../data/config.cfg\n",
      "You can now add your data and train your pipeline:\n",
      "python -m spacy train config.cfg --paths.train ./train.spacy --paths.dev ./dev.spacy\n"
     ]
    }
   ],
   "source": [
    "!python -m spacy init fill-config ../data/base_config.cfg ../data/config.cfg"
   ]
  },
  {
   "cell_type": "code",
   "execution_count": 89,
   "id": "5b45017c",
   "metadata": {},
   "outputs": [
    {
     "name": "stdout",
     "output_type": "stream",
     "text": [
      "\u001b[38;5;2m✔ Created output directory: ../models/output\u001b[0m\n",
      "\u001b[38;5;4mℹ Saving to output directory: ../models/output\u001b[0m\n",
      "\u001b[38;5;4mℹ Using CPU\u001b[0m\n",
      "\u001b[1m\n",
      "=========================== Initializing pipeline ===========================\u001b[0m\n",
      "[2023-08-02 07:09:21,784] [INFO] Set up nlp object from config\n",
      "[2023-08-02 07:09:21,793] [INFO] Pipeline: ['tok2vec', 'ner']\n",
      "[2023-08-02 07:09:21,796] [INFO] Created vocabulary\n",
      "[2023-08-02 07:09:21,796] [INFO] Finished initializing nlp object\n",
      "[2023-08-02 07:09:22,175] [INFO] Initialized pipeline components: ['tok2vec', 'ner']\n",
      "\u001b[38;5;2m✔ Initialized pipeline\u001b[0m\n",
      "\u001b[1m\n",
      "============================= Training pipeline =============================\u001b[0m\n",
      "\u001b[38;5;4mℹ Pipeline: ['tok2vec', 'ner']\u001b[0m\n",
      "\u001b[38;5;4mℹ Initial learn rate: 0.001\u001b[0m\n",
      "E    #       LOSS TOK2VEC  LOSS NER  ENTS_F  ENTS_P  ENTS_R  SCORE \n",
      "---  ------  ------------  --------  ------  ------  ------  ------\n",
      "  0       0          0.00     42.87    0.00    0.00    0.00    0.00\n",
      "  1     200         29.27   1152.09   87.56   87.13   88.00    0.88\n",
      "  2     400         32.02     91.11   92.68   90.48   95.00    0.93\n",
      "  4     600         23.90     27.10   95.57   94.17   97.00    0.96\n",
      "  7     800         15.80     25.45   96.04   95.10   97.00    0.96\n",
      "  9    1000         16.70     21.89   98.49   98.99   98.00    0.98\n",
      " 13    1200         48.86     21.71   93.66   91.43   96.00    0.94\n",
      " 17    1400         23.80     25.59   96.04   95.10   97.00    0.96\n",
      " 23    1600         11.13     14.23   94.58   93.20   96.00    0.95\n",
      " 29    1800         17.33     19.27   95.10   93.27   97.00    0.95\n",
      " 38    2000         21.67     21.54   94.12   92.31   96.00    0.94\n",
      " 47    2200         23.47     24.29   96.00   96.00   96.00    0.96\n",
      " 59    2400         28.04     27.61   95.52   95.05   96.00    0.96\n",
      " 71    2600         30.79     29.47   96.48   96.97   96.00    0.96\n",
      "\u001b[38;5;2m✔ Saved pipeline to output directory\u001b[0m\n",
      "../models/output/model-last\n"
     ]
    }
   ],
   "source": [
    "!python -m spacy train ../data/config.cfg --output ../models/output"
   ]
  },
  {
   "attachments": {},
   "cell_type": "markdown",
   "id": "53da5a0b",
   "metadata": {},
   "source": [
    "# Using the Model\n",
    "\n",
    "We can now use this model by opening it as we would any other model. It is saved to disk in `../models/output-best`"
   ]
  },
  {
   "cell_type": "code",
   "execution_count": 93,
   "id": "726ef81b",
   "metadata": {},
   "outputs": [
    {
     "name": "stderr",
     "output_type": "stream",
     "text": [
      "/home/wjbmattingly/anaconda3/lib/python3.7/site-packages/spacy/util.py:877: UserWarning: [W095] Model 'en_pipeline' (0.0.0) was trained with spaCy v3.6 and may not be 100% compatible with the current version (3.5.0). If you see errors or degraded performance, download a newer compatible model or retrain your custom model with the current spaCy version. For more details and available updates, run: python -m spacy validate\n",
      "  \n"
     ]
    }
   ],
   "source": [
    "ml_hobbit = spacy.load(\"../models/output/model-best\")"
   ]
  },
  {
   "cell_type": "code",
   "execution_count": 97,
   "id": "8584a457",
   "metadata": {},
   "outputs": [
    {
     "data": {
      "text/html": [
       "<span class=\"tex2jax_ignore\"><div class=\"entities\" style=\"line-height: 2.5; direction: ltr\">Next day \n",
       "<mark class=\"entity\" style=\"background: #ddd; padding: 0.45em 0.6em; margin: 0 0.25em; line-height: 1; border-radius: 0.35em;\">\n",
       "    Frodo\n",
       "    <span style=\"font-size: 0.8em; font-weight: bold; line-height: 1; border-radius: 0.35em; vertical-align: middle; margin-left: 0.5rem\">HOBBIT</span>\n",
       "</mark>\n",
       " woke early, feeling refreshed and well. He walked along the terraces above the loud-flowing Bruinen and watched the pale, cool sun rise above the far mountains, and shine down. Slanting through the thin silver mist; the dew upon the yellow leaves was glimmering, and the woven nets of gossamer twinkled on every bush. Sam walked beside him, saying nothing. but sniffing the air, and looking every now and again with wonder in his eyes at the great heights in the East. The snow was white upon their peaks.</br>     On a seat cut in the stone beside a turn in the path they came upon \n",
       "<mark class=\"entity\" style=\"background: #ddd; padding: 0.45em 0.6em; margin: 0 0.25em; line-height: 1; border-radius: 0.35em;\">\n",
       "    Gandalf\n",
       "    <span style=\"font-size: 0.8em; font-weight: bold; line-height: 1; border-radius: 0.35em; vertical-align: middle; margin-left: 0.5rem\">AINUR</span>\n",
       "</mark>\n",
       " and \n",
       "<mark class=\"entity\" style=\"background: #ddd; padding: 0.45em 0.6em; margin: 0 0.25em; line-height: 1; border-radius: 0.35em;\">\n",
       "    Bilbo\n",
       "    <span style=\"font-size: 0.8em; font-weight: bold; line-height: 1; border-radius: 0.35em; vertical-align: middle; margin-left: 0.5rem\">HOBBIT</span>\n",
       "</mark>\n",
       " deep in talk. `Hullo! Good morning!' said \n",
       "<mark class=\"entity\" style=\"background: #ddd; padding: 0.45em 0.6em; margin: 0 0.25em; line-height: 1; border-radius: 0.35em;\">\n",
       "    Bilbo\n",
       "    <span style=\"font-size: 0.8em; font-weight: bold; line-height: 1; border-radius: 0.35em; vertical-align: middle; margin-left: 0.5rem\">HOBBIT</span>\n",
       "</mark>\n",
       ". `Feel ready for the great council?'</br>     `I feel ready for anything,' answered \n",
       "<mark class=\"entity\" style=\"background: #ddd; padding: 0.45em 0.6em; margin: 0 0.25em; line-height: 1; border-radius: 0.35em;\">\n",
       "    Frodo\n",
       "    <span style=\"font-size: 0.8em; font-weight: bold; line-height: 1; border-radius: 0.35em; vertical-align: middle; margin-left: 0.5rem\">HOBBIT</span>\n",
       "</mark>\n",
       ". `But most of all I should like to go walking today and explore the valley. I should like to get into those pine-woods up there.' He pointed away far up the side of \n",
       "<mark class=\"entity\" style=\"background: #ddd; padding: 0.45em 0.6em; margin: 0 0.25em; line-height: 1; border-radius: 0.35em;\">\n",
       "    Rivendell\n",
       "    <span style=\"font-size: 0.8em; font-weight: bold; line-height: 1; border-radius: 0.35em; vertical-align: middle; margin-left: 0.5rem\">REALM</span>\n",
       "</mark>\n",
       " to the north.</br>     'You may have a chance later,' said \n",
       "<mark class=\"entity\" style=\"background: #ddd; padding: 0.45em 0.6em; margin: 0 0.25em; line-height: 1; border-radius: 0.35em;\">\n",
       "    Gandalf\n",
       "    <span style=\"font-size: 0.8em; font-weight: bold; line-height: 1; border-radius: 0.35em; vertical-align: middle; margin-left: 0.5rem\">AINUR</span>\n",
       "</mark>\n",
       ". `But we cannot </div></span>"
      ],
      "text/plain": [
       "<IPython.core.display.HTML object>"
      ]
     },
     "metadata": {},
     "output_type": "display_data"
    }
   ],
   "source": [
    "doc = ml_hobbit(text[:1000])\n",
    "displacy.render(doc, style=\"ent\")"
   ]
  },
  {
   "cell_type": "code",
   "execution_count": 107,
   "id": "cf2aad5f",
   "metadata": {},
   "outputs": [
    {
     "data": {
      "text/html": [
       "<span class=\"tex2jax_ignore\"><div class=\"entities\" style=\"line-height: 2.5; direction: ltr\">The Lord of the Rings is about a few hobbits, like \n",
       "<mark class=\"entity\" style=\"background: #ddd; padding: 0.45em 0.6em; margin: 0 0.25em; line-height: 1; border-radius: 0.35em;\">\n",
       "    Frodo\n",
       "    <span style=\"font-size: 0.8em; font-weight: bold; line-height: 1; border-radius: 0.35em; vertical-align: middle; margin-left: 0.5rem\">HOBBIT</span>\n",
       "</mark>\n",
       " and Pippin who go to \n",
       "<mark class=\"entity\" style=\"background: #ddd; padding: 0.45em 0.6em; margin: 0 0.25em; line-height: 1; border-radius: 0.35em;\">\n",
       "    Mordor\n",
       "    <span style=\"font-size: 0.8em; font-weight: bold; line-height: 1; border-radius: 0.35em; vertical-align: middle; margin-left: 0.5rem\">REALM</span>\n",
       "</mark>\n",
       " to destroy the ring \n",
       "<mark class=\"entity\" style=\"background: #ddd; padding: 0.45em 0.6em; margin: 0 0.25em; line-height: 1; border-radius: 0.35em;\">\n",
       "    Sauron\n",
       "    <span style=\"font-size: 0.8em; font-weight: bold; line-height: 1; border-radius: 0.35em; vertical-align: middle; margin-left: 0.5rem\">AINUR</span>\n",
       "</mark>\n",
       ".</div></span>"
      ],
      "text/plain": [
       "<IPython.core.display.HTML object>"
      ]
     },
     "metadata": {},
     "output_type": "display_data"
    }
   ],
   "source": [
    "new_text = \"The Lord of the Rings is about a few hobbits, like Frodo and Pippin who go to Mordor to destroy the ring Sauron.\"\n",
    "doc = ml_hobbit(new_text)\n",
    "displacy.render(doc, style=\"ent\")"
   ]
  }
 ],
 "metadata": {
  "kernelspec": {
   "display_name": "Python 3 (ipykernel)",
   "language": "python",
   "name": "python3"
  },
  "language_info": {
   "codemirror_mode": {
    "name": "ipython",
    "version": 3
   },
   "file_extension": ".py",
   "mimetype": "text/x-python",
   "name": "python",
   "nbconvert_exporter": "python",
   "pygments_lexer": "ipython3",
   "version": "3.7.15"
  },
  "toc": {
   "base_numbering": 1,
   "nav_menu": {},
   "number_sections": true,
   "sideBar": true,
   "skip_h1_title": false,
   "title_cell": "Table of Contents",
   "title_sidebar": "Contents",
   "toc_cell": false,
   "toc_position": {},
   "toc_section_display": true,
   "toc_window_display": true
  }
 },
 "nbformat": 4,
 "nbformat_minor": 5
}
