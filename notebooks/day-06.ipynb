{
 "cells": [
  {
   "cell_type": "markdown",
   "id": "3e89c5b3",
   "metadata": {},
   "source": [
    "<img align=\"left\" src=\"https://ithaka-labs.s3.amazonaws.com/static-files/images/tdm/tdmdocs/tapi-logo-small.png\" />\n",
    "\n",
    "This notebook free for educational reuse under [Creative Commons CC BY License](https://creativecommons.org/licenses/by/4.0/).\n",
    "\n",
    "Created by [Firstname Lastname](https://) for the 2022 Text Analysis Pedagogy Institute, with support from the [National Endowment for the Humanities](https://neh.gov), [JSTOR Labs](https://labs.jstor.org/), and [University of Arizona Libraries](https://new.library.arizona.edu/).\n",
    "\n",
    "For questions/comments/improvements, email author@email.address.<br />\n",
    "____"
   ]
  },
  {
   "cell_type": "markdown",
   "id": "68f932d1",
   "metadata": {},
   "source": [
    "# `spaCy 2` `3`\n",
    "\n",
    "This is lesson `1` of 3 in the educational series on `spaCy and NLP`. This notebook is intended `to teach the spaCy EntityRuler and the basics of Rules-Based NLP`. \n",
    "\n",
    "**Audience:** `Teachers` / `Learners` / `Researchers`\n",
    "\n",
    "**Use case:** `Tutorial` / `How-To` / `Explanation` \n",
    "\n",
    "`Include the use case definition from [here](https://constellate.org/docs/documentation-categories)`\n",
    "\n",
    "**Difficulty:** `Intermediate`\n",
    "\n",
    "`Beginner assumes users are relatively new to Python and Jupyter Notebooks. The user is helped step-by-step with lots of explanatory text.`\n",
    "`Intermediate assumes users are familiar with Python and have been programming for 6+ months. Code makes up a larger part of the notebook and basic concepts related to Python are not explained.`\n",
    "`Advanced assumes users are very familiar with Python and have been programming for years, but they may not be familiar with the process being explained.`\n",
    "\n",
    "**Completion time:** `90 minutes`\n",
    "\n",
    "**Knowledge Required:** \n",
    "```\n",
    "* Python basics (variables, flow control, functions, lists, dictionaries)\n",
    "* A basic understanding of spaCy (see notebooks 1-3)\n",
    "```\n",
    "\n",
    "**Knowledge Recommended:**\n",
    "```\n",
    "* Basic file operations (open, close, read, write)\n",
    "* Loading data with Pandas\n",
    "```\n",
    "\n",
    "**Learning Objectives:**\n",
    "After this lesson, learners will be able to:\n",
    "```\n",
    "1. Learn about custom components\n",
    "```\n",
    "___"
   ]
  },
  {
   "cell_type": "code",
   "execution_count": 63,
   "id": "e8a220f5",
   "metadata": {},
   "outputs": [
    {
     "name": "stdout",
     "output_type": "stream",
     "text": [
      "Requirement already satisfied: spacy in c:\\users\\wma22\\anaconda3\\lib\\site-packages (3.6.0)\n",
      "Requirement already satisfied: setuptools in c:\\users\\wma22\\anaconda3\\lib\\site-packages (from spacy) (66.0.0)\n",
      "Requirement already satisfied: thinc<8.2.0,>=8.1.8 in c:\\users\\wma22\\anaconda3\\lib\\site-packages (from spacy) (8.1.10)\n",
      "Requirement already satisfied: packaging>=20.0 in c:\\users\\wma22\\anaconda3\\lib\\site-packages (from spacy) (23.0)\n",
      "Requirement already satisfied: requests<3.0.0,>=2.13.0 in c:\\users\\wma22\\anaconda3\\lib\\site-packages (from spacy) (2.28.2)\n",
      "Requirement already satisfied: spacy-loggers<2.0.0,>=1.0.0 in c:\\users\\wma22\\anaconda3\\lib\\site-packages (from spacy) (1.0.4)\n",
      "Requirement already satisfied: tqdm<5.0.0,>=4.38.0 in c:\\users\\wma22\\anaconda3\\lib\\site-packages (from spacy) (4.64.1)\n",
      "Requirement already satisfied: catalogue<2.1.0,>=2.0.6 in c:\\users\\wma22\\anaconda3\\lib\\site-packages (from spacy) (2.0.8)\n",
      "Requirement already satisfied: pydantic!=1.8,!=1.8.1,<1.11.0,>=1.7.4 in c:\\users\\wma22\\anaconda3\\lib\\site-packages (from spacy) (1.10.4)\n",
      "Requirement already satisfied: smart-open<7.0.0,>=5.2.1 in c:\\users\\wma22\\anaconda3\\lib\\site-packages (from spacy) (6.3.0)\n",
      "Requirement already satisfied: numpy>=1.15.0 in c:\\users\\wma22\\anaconda3\\lib\\site-packages (from spacy) (1.24.2)\n",
      "Requirement already satisfied: preshed<3.1.0,>=3.0.2 in c:\\users\\wma22\\anaconda3\\lib\\site-packages (from spacy) (3.0.8)\n",
      "Requirement already satisfied: jinja2 in c:\\users\\wma22\\anaconda3\\lib\\site-packages (from spacy) (3.1.2)\n",
      "Requirement already satisfied: spacy-legacy<3.1.0,>=3.0.11 in c:\\users\\wma22\\anaconda3\\lib\\site-packages (from spacy) (3.0.11)\n",
      "Requirement already satisfied: wasabi<1.2.0,>=0.9.1 in c:\\users\\wma22\\anaconda3\\lib\\site-packages (from spacy) (0.10.1)\n",
      "Requirement already satisfied: typer<0.10.0,>=0.3.0 in c:\\users\\wma22\\anaconda3\\lib\\site-packages (from spacy) (0.7.0)\n",
      "Requirement already satisfied: srsly<3.0.0,>=2.4.3 in c:\\users\\wma22\\anaconda3\\lib\\site-packages (from spacy) (2.4.5)\n",
      "Requirement already satisfied: cymem<2.1.0,>=2.0.2 in c:\\users\\wma22\\anaconda3\\lib\\site-packages (from spacy) (2.0.7)\n",
      "Requirement already satisfied: murmurhash<1.1.0,>=0.28.0 in c:\\users\\wma22\\anaconda3\\lib\\site-packages (from spacy) (1.0.9)\n",
      "Requirement already satisfied: langcodes<4.0.0,>=3.2.0 in c:\\users\\wma22\\anaconda3\\lib\\site-packages (from spacy) (3.3.0)\n",
      "Requirement already satisfied: pathy>=0.10.0 in c:\\users\\wma22\\anaconda3\\lib\\site-packages (from spacy) (0.10.1)\n",
      "Requirement already satisfied: typing-extensions>=4.2.0 in c:\\users\\wma22\\anaconda3\\lib\\site-packages (from pydantic!=1.8,!=1.8.1,<1.11.0,>=1.7.4->spacy) (4.4.0)\n",
      "Requirement already satisfied: charset-normalizer<4,>=2 in c:\\users\\wma22\\appdata\\roaming\\python\\python38\\site-packages (from requests<3.0.0,>=2.13.0->spacy) (2.1.1)\n",
      "Requirement already satisfied: certifi>=2017.4.17 in c:\\users\\wma22\\anaconda3\\lib\\site-packages (from requests<3.0.0,>=2.13.0->spacy) (2022.12.7)\n",
      "Requirement already satisfied: urllib3<1.27,>=1.21.1 in c:\\users\\wma22\\anaconda3\\lib\\site-packages (from requests<3.0.0,>=2.13.0->spacy) (1.26.14)\n",
      "Requirement already satisfied: idna<4,>=2.5 in c:\\users\\wma22\\anaconda3\\lib\\site-packages (from requests<3.0.0,>=2.13.0->spacy) (3.4)\n",
      "Requirement already satisfied: confection<1.0.0,>=0.0.1 in c:\\users\\wma22\\anaconda3\\lib\\site-packages (from thinc<8.2.0,>=8.1.8->spacy) (0.0.4)\n",
      "Requirement already satisfied: blis<0.8.0,>=0.7.8 in c:\\users\\wma22\\anaconda3\\lib\\site-packages (from thinc<8.2.0,>=8.1.8->spacy) (0.7.9)\n",
      "Requirement already satisfied: colorama in c:\\users\\wma22\\anaconda3\\lib\\site-packages (from tqdm<5.0.0,>=4.38.0->spacy) (0.4.6)\n",
      "Requirement already satisfied: click<9.0.0,>=7.1.1 in c:\\users\\wma22\\anaconda3\\lib\\site-packages (from typer<0.10.0,>=0.3.0->spacy) (8.1.3)\n",
      "Requirement already satisfied: MarkupSafe>=2.0 in c:\\users\\wma22\\anaconda3\\lib\\site-packages (from jinja2->spacy) (2.1.2)\n"
     ]
    },
    {
     "name": "stderr",
     "output_type": "stream",
     "text": [
      "WARNING: Ignoring invalid distribution -otobuf (c:\\users\\wma22\\anaconda3\\lib\\site-packages)\n",
      "WARNING: Ignoring invalid distribution -rotobuf (c:\\users\\wma22\\anaconda3\\lib\\site-packages)\n",
      "WARNING: Ignoring invalid distribution -illow (c:\\users\\wma22\\anaconda3\\lib\\site-packages)\n",
      "WARNING: Ignoring invalid distribution - (c:\\users\\wma22\\anaconda3\\lib\\site-packages)\n",
      "WARNING: Ignoring invalid distribution -otobuf (c:\\users\\wma22\\anaconda3\\lib\\site-packages)\n",
      "WARNING: Ignoring invalid distribution -rotobuf (c:\\users\\wma22\\anaconda3\\lib\\site-packages)\n",
      "WARNING: Ignoring invalid distribution -illow (c:\\users\\wma22\\anaconda3\\lib\\site-packages)\n",
      "WARNING: Ignoring invalid distribution - (c:\\users\\wma22\\anaconda3\\lib\\site-packages)\n",
      "WARNING: Ignoring invalid distribution -otobuf (c:\\users\\wma22\\anaconda3\\lib\\site-packages)\n",
      "WARNING: Ignoring invalid distribution -rotobuf (c:\\users\\wma22\\anaconda3\\lib\\site-packages)\n",
      "WARNING: Ignoring invalid distribution -illow (c:\\users\\wma22\\anaconda3\\lib\\site-packages)\n",
      "WARNING: Ignoring invalid distribution - (c:\\users\\wma22\\anaconda3\\lib\\site-packages)\n",
      "WARNING: Ignoring invalid distribution -otobuf (c:\\users\\wma22\\anaconda3\\lib\\site-packages)\n",
      "WARNING: Ignoring invalid distribution -rotobuf (c:\\users\\wma22\\anaconda3\\lib\\site-packages)\n",
      "WARNING: Ignoring invalid distribution -illow (c:\\users\\wma22\\anaconda3\\lib\\site-packages)\n",
      "WARNING: Ignoring invalid distribution - (c:\\users\\wma22\\anaconda3\\lib\\site-packages)\n",
      "WARNING: Ignoring invalid distribution -otobuf (c:\\users\\wma22\\anaconda3\\lib\\site-packages)\n",
      "WARNING: Ignoring invalid distribution -rotobuf (c:\\users\\wma22\\anaconda3\\lib\\site-packages)\n",
      "WARNING: Ignoring invalid distribution -illow (c:\\users\\wma22\\anaconda3\\lib\\site-packages)\n",
      "WARNING: Ignoring invalid distribution - (c:\\users\\wma22\\anaconda3\\lib\\site-packages)\n",
      "WARNING: Ignoring invalid distribution -otobuf (c:\\users\\wma22\\anaconda3\\lib\\site-packages)\n",
      "WARNING: Ignoring invalid distribution -rotobuf (c:\\users\\wma22\\anaconda3\\lib\\site-packages)\n",
      "WARNING: Ignoring invalid distribution -illow (c:\\users\\wma22\\anaconda3\\lib\\site-packages)\n",
      "WARNING: Ignoring invalid distribution - (c:\\users\\wma22\\anaconda3\\lib\\site-packages)\n"
     ]
    },
    {
     "name": "stdout",
     "output_type": "stream",
     "text": [
      "Requirement already satisfied: pandas in c:\\users\\wma22\\anaconda3\\lib\\site-packages (1.5.1)\n",
      "Requirement already satisfied: python-dateutil>=2.8.1 in c:\\users\\wma22\\anaconda3\\lib\\site-packages (from pandas) (2.8.1)\n",
      "Requirement already satisfied: numpy>=1.20.3 in c:\\users\\wma22\\anaconda3\\lib\\site-packages (from pandas) (1.24.2)\n",
      "Requirement already satisfied: pytz>=2020.1 in c:\\users\\wma22\\anaconda3\\lib\\site-packages (from pandas) (2022.6)\n",
      "Requirement already satisfied: six>=1.5 in c:\\users\\wma22\\appdata\\roaming\\python\\python38\\site-packages (from python-dateutil>=2.8.1->pandas) (1.16.0)\n"
     ]
    },
    {
     "name": "stderr",
     "output_type": "stream",
     "text": [
      "WARNING: Ignoring invalid distribution -otobuf (c:\\users\\wma22\\anaconda3\\lib\\site-packages)\n",
      "WARNING: Ignoring invalid distribution -rotobuf (c:\\users\\wma22\\anaconda3\\lib\\site-packages)\n",
      "WARNING: Ignoring invalid distribution -illow (c:\\users\\wma22\\anaconda3\\lib\\site-packages)\n",
      "WARNING: Ignoring invalid distribution - (c:\\users\\wma22\\anaconda3\\lib\\site-packages)\n",
      "WARNING: Ignoring invalid distribution -otobuf (c:\\users\\wma22\\anaconda3\\lib\\site-packages)\n",
      "WARNING: Ignoring invalid distribution -rotobuf (c:\\users\\wma22\\anaconda3\\lib\\site-packages)\n",
      "WARNING: Ignoring invalid distribution -illow (c:\\users\\wma22\\anaconda3\\lib\\site-packages)\n",
      "WARNING: Ignoring invalid distribution - (c:\\users\\wma22\\anaconda3\\lib\\site-packages)\n",
      "WARNING: Ignoring invalid distribution -otobuf (c:\\users\\wma22\\anaconda3\\lib\\site-packages)\n",
      "WARNING: Ignoring invalid distribution -rotobuf (c:\\users\\wma22\\anaconda3\\lib\\site-packages)\n",
      "WARNING: Ignoring invalid distribution -illow (c:\\users\\wma22\\anaconda3\\lib\\site-packages)\n",
      "WARNING: Ignoring invalid distribution - (c:\\users\\wma22\\anaconda3\\lib\\site-packages)\n",
      "WARNING: Ignoring invalid distribution -otobuf (c:\\users\\wma22\\anaconda3\\lib\\site-packages)\n",
      "WARNING: Ignoring invalid distribution -rotobuf (c:\\users\\wma22\\anaconda3\\lib\\site-packages)\n",
      "WARNING: Ignoring invalid distribution -illow (c:\\users\\wma22\\anaconda3\\lib\\site-packages)\n",
      "WARNING: Ignoring invalid distribution - (c:\\users\\wma22\\anaconda3\\lib\\site-packages)\n",
      "WARNING: Ignoring invalid distribution -otobuf (c:\\users\\wma22\\anaconda3\\lib\\site-packages)\n",
      "WARNING: Ignoring invalid distribution -rotobuf (c:\\users\\wma22\\anaconda3\\lib\\site-packages)\n",
      "WARNING: Ignoring invalid distribution -illow (c:\\users\\wma22\\anaconda3\\lib\\site-packages)\n",
      "WARNING: Ignoring invalid distribution - (c:\\users\\wma22\\anaconda3\\lib\\site-packages)\n",
      "WARNING: Ignoring invalid distribution -otobuf (c:\\users\\wma22\\anaconda3\\lib\\site-packages)\n",
      "WARNING: Ignoring invalid distribution -rotobuf (c:\\users\\wma22\\anaconda3\\lib\\site-packages)\n",
      "WARNING: Ignoring invalid distribution -illow (c:\\users\\wma22\\anaconda3\\lib\\site-packages)\n",
      "WARNING: Ignoring invalid distribution - (c:\\users\\wma22\\anaconda3\\lib\\site-packages)\n"
     ]
    },
    {
     "name": "stdout",
     "output_type": "stream",
     "text": [
      "Requirement already satisfied: en-hobbit in c:\\users\\wma22\\anaconda3\\lib\\site-packages (0.0.1)\n",
      "Requirement already satisfied: spacy<3.7.0,>=3.6.0 in c:\\users\\wma22\\anaconda3\\lib\\site-packages (from en-hobbit) (3.6.0)\n",
      "Requirement already satisfied: spacy-legacy<3.1.0,>=3.0.11 in c:\\users\\wma22\\anaconda3\\lib\\site-packages (from spacy<3.7.0,>=3.6.0->en-hobbit) (3.0.11)\n",
      "Requirement already satisfied: packaging>=20.0 in c:\\users\\wma22\\anaconda3\\lib\\site-packages (from spacy<3.7.0,>=3.6.0->en-hobbit) (23.0)\n",
      "Requirement already satisfied: numpy>=1.15.0 in c:\\users\\wma22\\anaconda3\\lib\\site-packages (from spacy<3.7.0,>=3.6.0->en-hobbit) (1.24.2)\n",
      "Requirement already satisfied: catalogue<2.1.0,>=2.0.6 in c:\\users\\wma22\\anaconda3\\lib\\site-packages (from spacy<3.7.0,>=3.6.0->en-hobbit) (2.0.8)\n",
      "Requirement already satisfied: wasabi<1.2.0,>=0.9.1 in c:\\users\\wma22\\anaconda3\\lib\\site-packages (from spacy<3.7.0,>=3.6.0->en-hobbit) (0.10.1)\n",
      "Requirement already satisfied: preshed<3.1.0,>=3.0.2 in c:\\users\\wma22\\anaconda3\\lib\\site-packages (from spacy<3.7.0,>=3.6.0->en-hobbit) (3.0.8)\n",
      "Requirement already satisfied: smart-open<7.0.0,>=5.2.1 in c:\\users\\wma22\\anaconda3\\lib\\site-packages (from spacy<3.7.0,>=3.6.0->en-hobbit) (6.3.0)\n",
      "Requirement already satisfied: pathy>=0.10.0 in c:\\users\\wma22\\anaconda3\\lib\\site-packages (from spacy<3.7.0,>=3.6.0->en-hobbit) (0.10.1)\n",
      "Requirement already satisfied: typer<0.10.0,>=0.3.0 in c:\\users\\wma22\\anaconda3\\lib\\site-packages (from spacy<3.7.0,>=3.6.0->en-hobbit) (0.7.0)\n",
      "Requirement already satisfied: requests<3.0.0,>=2.13.0 in c:\\users\\wma22\\anaconda3\\lib\\site-packages (from spacy<3.7.0,>=3.6.0->en-hobbit) (2.28.2)\n",
      "Requirement already satisfied: jinja2 in c:\\users\\wma22\\anaconda3\\lib\\site-packages (from spacy<3.7.0,>=3.6.0->en-hobbit) (3.1.2)\n",
      "Requirement already satisfied: tqdm<5.0.0,>=4.38.0 in c:\\users\\wma22\\anaconda3\\lib\\site-packages (from spacy<3.7.0,>=3.6.0->en-hobbit) (4.64.1)\n",
      "Requirement already satisfied: cymem<2.1.0,>=2.0.2 in c:\\users\\wma22\\anaconda3\\lib\\site-packages (from spacy<3.7.0,>=3.6.0->en-hobbit) (2.0.7)\n",
      "Requirement already satisfied: langcodes<4.0.0,>=3.2.0 in c:\\users\\wma22\\anaconda3\\lib\\site-packages (from spacy<3.7.0,>=3.6.0->en-hobbit) (3.3.0)\n",
      "Requirement already satisfied: thinc<8.2.0,>=8.1.8 in c:\\users\\wma22\\anaconda3\\lib\\site-packages (from spacy<3.7.0,>=3.6.0->en-hobbit) (8.1.10)\n",
      "Requirement already satisfied: pydantic!=1.8,!=1.8.1,<1.11.0,>=1.7.4 in c:\\users\\wma22\\anaconda3\\lib\\site-packages (from spacy<3.7.0,>=3.6.0->en-hobbit) (1.10.4)\n",
      "Requirement already satisfied: murmurhash<1.1.0,>=0.28.0 in c:\\users\\wma22\\anaconda3\\lib\\site-packages (from spacy<3.7.0,>=3.6.0->en-hobbit) (1.0.9)\n",
      "Requirement already satisfied: spacy-loggers<2.0.0,>=1.0.0 in c:\\users\\wma22\\anaconda3\\lib\\site-packages (from spacy<3.7.0,>=3.6.0->en-hobbit) (1.0.4)\n",
      "Requirement already satisfied: srsly<3.0.0,>=2.4.3 in c:\\users\\wma22\\anaconda3\\lib\\site-packages (from spacy<3.7.0,>=3.6.0->en-hobbit) (2.4.5)\n",
      "Requirement already satisfied: setuptools in c:\\users\\wma22\\anaconda3\\lib\\site-packages (from spacy<3.7.0,>=3.6.0->en-hobbit) (66.0.0)\n",
      "Requirement already satisfied: typing-extensions>=4.2.0 in c:\\users\\wma22\\anaconda3\\lib\\site-packages (from pydantic!=1.8,!=1.8.1,<1.11.0,>=1.7.4->spacy<3.7.0,>=3.6.0->en-hobbit) (4.4.0)\n",
      "Requirement already satisfied: certifi>=2017.4.17 in c:\\users\\wma22\\anaconda3\\lib\\site-packages (from requests<3.0.0,>=2.13.0->spacy<3.7.0,>=3.6.0->en-hobbit) (2022.12.7)\n",
      "Requirement already satisfied: idna<4,>=2.5 in c:\\users\\wma22\\anaconda3\\lib\\site-packages (from requests<3.0.0,>=2.13.0->spacy<3.7.0,>=3.6.0->en-hobbit) (3.4)\n",
      "Requirement already satisfied: charset-normalizer<4,>=2 in c:\\users\\wma22\\appdata\\roaming\\python\\python38\\site-packages (from requests<3.0.0,>=2.13.0->spacy<3.7.0,>=3.6.0->en-hobbit) (2.1.1)\n",
      "Requirement already satisfied: urllib3<1.27,>=1.21.1 in c:\\users\\wma22\\anaconda3\\lib\\site-packages (from requests<3.0.0,>=2.13.0->spacy<3.7.0,>=3.6.0->en-hobbit) (1.26.14)\n",
      "Requirement already satisfied: blis<0.8.0,>=0.7.8 in c:\\users\\wma22\\anaconda3\\lib\\site-packages (from thinc<8.2.0,>=8.1.8->spacy<3.7.0,>=3.6.0->en-hobbit) (0.7.9)\n",
      "Requirement already satisfied: confection<1.0.0,>=0.0.1 in c:\\users\\wma22\\anaconda3\\lib\\site-packages (from thinc<8.2.0,>=8.1.8->spacy<3.7.0,>=3.6.0->en-hobbit) (0.0.4)\n",
      "Requirement already satisfied: colorama in c:\\users\\wma22\\anaconda3\\lib\\site-packages (from tqdm<5.0.0,>=4.38.0->spacy<3.7.0,>=3.6.0->en-hobbit) (0.4.6)\n",
      "Requirement already satisfied: click<9.0.0,>=7.1.1 in c:\\users\\wma22\\anaconda3\\lib\\site-packages (from typer<0.10.0,>=0.3.0->spacy<3.7.0,>=3.6.0->en-hobbit) (8.1.3)\n",
      "Requirement already satisfied: MarkupSafe>=2.0 in c:\\users\\wma22\\anaconda3\\lib\\site-packages (from jinja2->spacy<3.7.0,>=3.6.0->en-hobbit) (2.1.2)\n"
     ]
    },
    {
     "name": "stderr",
     "output_type": "stream",
     "text": [
      "WARNING: Ignoring invalid distribution -otobuf (c:\\users\\wma22\\anaconda3\\lib\\site-packages)\n",
      "WARNING: Ignoring invalid distribution -rotobuf (c:\\users\\wma22\\anaconda3\\lib\\site-packages)\n",
      "WARNING: Ignoring invalid distribution -illow (c:\\users\\wma22\\anaconda3\\lib\\site-packages)\n",
      "WARNING: Ignoring invalid distribution - (c:\\users\\wma22\\anaconda3\\lib\\site-packages)\n",
      "WARNING: Ignoring invalid distribution -otobuf (c:\\users\\wma22\\anaconda3\\lib\\site-packages)\n",
      "WARNING: Ignoring invalid distribution -rotobuf (c:\\users\\wma22\\anaconda3\\lib\\site-packages)\n",
      "WARNING: Ignoring invalid distribution -illow (c:\\users\\wma22\\anaconda3\\lib\\site-packages)\n",
      "WARNING: Ignoring invalid distribution - (c:\\users\\wma22\\anaconda3\\lib\\site-packages)\n",
      "WARNING: Ignoring invalid distribution -otobuf (c:\\users\\wma22\\anaconda3\\lib\\site-packages)\n",
      "WARNING: Ignoring invalid distribution -rotobuf (c:\\users\\wma22\\anaconda3\\lib\\site-packages)\n",
      "WARNING: Ignoring invalid distribution -illow (c:\\users\\wma22\\anaconda3\\lib\\site-packages)\n",
      "WARNING: Ignoring invalid distribution - (c:\\users\\wma22\\anaconda3\\lib\\site-packages)\n",
      "WARNING: Ignoring invalid distribution -otobuf (c:\\users\\wma22\\anaconda3\\lib\\site-packages)\n",
      "WARNING: Ignoring invalid distribution -rotobuf (c:\\users\\wma22\\anaconda3\\lib\\site-packages)\n",
      "WARNING: Ignoring invalid distribution -illow (c:\\users\\wma22\\anaconda3\\lib\\site-packages)\n",
      "WARNING: Ignoring invalid distribution - (c:\\users\\wma22\\anaconda3\\lib\\site-packages)\n",
      "WARNING: Ignoring invalid distribution -otobuf (c:\\users\\wma22\\anaconda3\\lib\\site-packages)\n",
      "WARNING: Ignoring invalid distribution -rotobuf (c:\\users\\wma22\\anaconda3\\lib\\site-packages)\n",
      "WARNING: Ignoring invalid distribution -illow (c:\\users\\wma22\\anaconda3\\lib\\site-packages)\n",
      "WARNING: Ignoring invalid distribution - (c:\\users\\wma22\\anaconda3\\lib\\site-packages)\n",
      "WARNING: Ignoring invalid distribution -otobuf (c:\\users\\wma22\\anaconda3\\lib\\site-packages)\n",
      "WARNING: Ignoring invalid distribution -rotobuf (c:\\users\\wma22\\anaconda3\\lib\\site-packages)\n",
      "WARNING: Ignoring invalid distribution -illow (c:\\users\\wma22\\anaconda3\\lib\\site-packages)\n",
      "WARNING: Ignoring invalid distribution - (c:\\users\\wma22\\anaconda3\\lib\\site-packages)\n"
     ]
    }
   ],
   "source": [
    "### Install Libraries ###\n",
    "\n",
    "# Using !pip installs\n",
    "!pip install spacy\n",
    "!pip install pandas\n",
    "!python -m download en_core_web_sm\n",
    "!pip install en-hobbit\n",
    "\n",
    "# Using %%bash magic with apt-get and yes prompt"
   ]
  },
  {
   "cell_type": "code",
   "execution_count": 15,
   "id": "5480e2a8",
   "metadata": {},
   "outputs": [],
   "source": [
    "import pandas as pd\n",
    "from spacy import displacy\n",
    "import spacy\n",
    "from collections import Counter\n",
    "from spacy.language import Language\n",
    "from spacy.tokens import Doc, Span\n",
    "import re"
   ]
  },
  {
   "cell_type": "markdown",
   "id": "8dedd148",
   "metadata": {},
   "source": [
    "# Required Data\n",
    "\n",
    "We will be using a CSV file that contains a list of characters in Lord of the Rings (see link below).\n",
    "\n",
    "\n",
    "## Download Required Data"
   ]
  },
  {
   "cell_type": "code",
   "execution_count": 3,
   "id": "9f9da404",
   "metadata": {},
   "outputs": [
    {
     "data": {
      "text/html": [
       "<div>\n",
       "<style scoped>\n",
       "    .dataframe tbody tr th:only-of-type {\n",
       "        vertical-align: middle;\n",
       "    }\n",
       "\n",
       "    .dataframe tbody tr th {\n",
       "        vertical-align: top;\n",
       "    }\n",
       "\n",
       "    .dataframe thead th {\n",
       "        text-align: right;\n",
       "    }\n",
       "</style>\n",
       "<table border=\"1\" class=\"dataframe\">\n",
       "  <thead>\n",
       "    <tr style=\"text-align: right;\">\n",
       "      <th></th>\n",
       "      <th>name</th>\n",
       "      <th>race</th>\n",
       "    </tr>\n",
       "  </thead>\n",
       "  <tbody>\n",
       "    <tr>\n",
       "      <th>0</th>\n",
       "      <td>Aragorn II</td>\n",
       "      <td>Man</td>\n",
       "    </tr>\n",
       "    <tr>\n",
       "      <th>1</th>\n",
       "      <td>Arwen</td>\n",
       "      <td>Elf</td>\n",
       "    </tr>\n",
       "    <tr>\n",
       "      <th>2</th>\n",
       "      <td>Elrond</td>\n",
       "      <td>Elf</td>\n",
       "    </tr>\n",
       "    <tr>\n",
       "      <th>3</th>\n",
       "      <td>Celebrían</td>\n",
       "      <td>Elf</td>\n",
       "    </tr>\n",
       "    <tr>\n",
       "      <th>4</th>\n",
       "      <td>Elrohir</td>\n",
       "      <td>Elf</td>\n",
       "    </tr>\n",
       "    <tr>\n",
       "      <th>...</th>\n",
       "      <td>...</td>\n",
       "      <td>...</td>\n",
       "    </tr>\n",
       "    <tr>\n",
       "      <th>822</th>\n",
       "      <td>Brodda</td>\n",
       "      <td>Man</td>\n",
       "    </tr>\n",
       "    <tr>\n",
       "      <th>823</th>\n",
       "      <td>Annael</td>\n",
       "      <td>Elf</td>\n",
       "    </tr>\n",
       "    <tr>\n",
       "      <th>824</th>\n",
       "      <td>Gelmir</td>\n",
       "      <td>Elf</td>\n",
       "    </tr>\n",
       "    <tr>\n",
       "      <th>825</th>\n",
       "      <td>Arminas</td>\n",
       "      <td>Elf</td>\n",
       "    </tr>\n",
       "    <tr>\n",
       "      <th>826</th>\n",
       "      <td>Gildor</td>\n",
       "      <td>Man</td>\n",
       "    </tr>\n",
       "  </tbody>\n",
       "</table>\n",
       "<p>827 rows × 2 columns</p>\n",
       "</div>"
      ],
      "text/plain": [
       "           name race\n",
       "0    Aragorn II  Man\n",
       "1         Arwen  Elf\n",
       "2        Elrond  Elf\n",
       "3     Celebrían  Elf\n",
       "4       Elrohir  Elf\n",
       "..          ...  ...\n",
       "822      Brodda  Man\n",
       "823      Annael  Elf\n",
       "824      Gelmir  Elf\n",
       "825     Arminas  Elf\n",
       "826      Gildor  Man\n",
       "\n",
       "[827 rows x 2 columns]"
      ]
     },
     "execution_count": 3,
     "metadata": {},
     "output_type": "execute_result"
    }
   ],
   "source": [
    "### Grab files with Pandas' read CSV\n",
    "url = \"https://raw.githubusercontent.com/juandes/lotr-names-classification/master/characters_data.csv\"\n",
    "df = pd.read_csv(url)\n",
    "df"
   ]
  },
  {
   "cell_type": "markdown",
   "id": "f53edaa2",
   "metadata": {},
   "source": [
    "# Introduction\n",
    "\n",
    "In this notebook, we will once again be working with Hobbit spaCy. We will seek to modify the behavior of this pipeline through custom components and custom attributes. We will also learn how to save a nlp pipeline to disk and load it from disk.\n",
    "\n",
    "Let's once again load up our pipeline"
   ]
  },
  {
   "cell_type": "code",
   "execution_count": 5,
   "id": "c1e4b892",
   "metadata": {},
   "outputs": [],
   "source": [
    "nlp = spacy.load(\"en_hobbit\")"
   ]
  },
  {
   "cell_type": "markdown",
   "id": "bbb54bbc",
   "metadata": {},
   "source": [
    "And once again let's grab our text, the Council of Elrond."
   ]
  },
  {
   "cell_type": "code",
   "execution_count": 6,
   "id": "a3819962",
   "metadata": {},
   "outputs": [
    {
     "data": {
      "text/plain": [
       "'     Next day Frodo woke early, feeling refreshed and well. He walked along the terraces above the loud-flowing Bruinen and watched the pale, cool sun rise above the far mountains, and shine down. Slanting through the thin silver mist; the dew upon the yellow leaves was glimmering, and the woven nets of gossamer twinkled on every bush. Sam walked beside him, saying nothing. but sniffing the air, and looking every now and again with wonder in his eyes at the great heights in the East. The snow wa'"
      ]
     },
     "execution_count": 6,
     "metadata": {},
     "output_type": "execute_result"
    }
   ],
   "source": [
    "with open(\"../data/lotr.txt\", \"r\") as f:\n",
    "    text = f.read()\n",
    "text[:500]"
   ]
  },
  {
   "cell_type": "code",
   "execution_count": 8,
   "id": "d12b7549",
   "metadata": {},
   "outputs": [],
   "source": [
    "doc = nlp(text[:2500])"
   ]
  },
  {
   "cell_type": "markdown",
   "id": "486b8fa5",
   "metadata": {},
   "source": [
    "Once again lets add some color to the display and render our data."
   ]
  },
  {
   "cell_type": "code",
   "execution_count": 52,
   "id": "32abdfbf",
   "metadata": {},
   "outputs": [
    {
     "name": "stdout",
     "output_type": "stream",
     "text": [
      "[Frodo son of Drogo]\n"
     ]
    },
    {
     "data": {
      "text/html": [
       "<span class=\"tex2jax_ignore\"><div class=\"entities\" style=\"line-height: 2.5; direction: ltr\">     Next day \n",
       "<mark class=\"entity\" style=\"background: #C3B7FF; padding: 0.45em 0.6em; margin: 0 0.25em; line-height: 1; border-radius: 0.35em;\">\n",
       "    Frodo\n",
       "    <span style=\"font-size: 0.8em; font-weight: bold; line-height: 1; border-radius: 0.35em; vertical-align: middle; margin-left: 0.5rem\">HOBBIT</span>\n",
       "</mark>\n",
       " woke early, feeling refreshed and well. He walked along the terraces above the loud-flowing Bruinen and watched the pale, cool sun rise above the far mountains, and shine down. Slanting through the thin silver mist; the dew upon the yellow leaves was glimmering, and the woven nets of gossamer twinkled on every bush. Sam walked beside him, saying nothing. but sniffing the air, and looking every now and again with wonder in his eyes at the great heights in the East. The snow was white upon their peaks.</br>     On a seat cut in the stone beside a turn in the path they came upon \n",
       "<mark class=\"entity\" style=\"background: #FFFB8B; padding: 0.45em 0.6em; margin: 0 0.25em; line-height: 1; border-radius: 0.35em;\">\n",
       "    Gandalf\n",
       "    <span style=\"font-size: 0.8em; font-weight: bold; line-height: 1; border-radius: 0.35em; vertical-align: middle; margin-left: 0.5rem\">AINUR</span>\n",
       "</mark>\n",
       " and \n",
       "<mark class=\"entity\" style=\"background: #C3B7FF; padding: 0.45em 0.6em; margin: 0 0.25em; line-height: 1; border-radius: 0.35em;\">\n",
       "    Bilbo\n",
       "    <span style=\"font-size: 0.8em; font-weight: bold; line-height: 1; border-radius: 0.35em; vertical-align: middle; margin-left: 0.5rem\">HOBBIT</span>\n",
       "</mark>\n",
       " deep in talk. `Hullo! Good morning!' said \n",
       "<mark class=\"entity\" style=\"background: #C3B7FF; padding: 0.45em 0.6em; margin: 0 0.25em; line-height: 1; border-radius: 0.35em;\">\n",
       "    Bilbo\n",
       "    <span style=\"font-size: 0.8em; font-weight: bold; line-height: 1; border-radius: 0.35em; vertical-align: middle; margin-left: 0.5rem\">HOBBIT</span>\n",
       "</mark>\n",
       ". `Feel ready for the great council?'</br>     `I feel ready for anything,' answered \n",
       "<mark class=\"entity\" style=\"background: #C3B7FF; padding: 0.45em 0.6em; margin: 0 0.25em; line-height: 1; border-radius: 0.35em;\">\n",
       "    Frodo\n",
       "    <span style=\"font-size: 0.8em; font-weight: bold; line-height: 1; border-radius: 0.35em; vertical-align: middle; margin-left: 0.5rem\">HOBBIT</span>\n",
       "</mark>\n",
       ". `But most of all I should like to go walking today and explore the valley. I should like to get into those pine-woods up there.' He pointed away far up the side of \n",
       "<mark class=\"entity\" style=\"background: #E6EC9C; padding: 0.45em 0.6em; margin: 0 0.25em; line-height: 1; border-radius: 0.35em;\">\n",
       "    Rivendell\n",
       "    <span style=\"font-size: 0.8em; font-weight: bold; line-height: 1; border-radius: 0.35em; vertical-align: middle; margin-left: 0.5rem\">REALM</span>\n",
       "</mark>\n",
       " to the north.</br>     'You may have a chance later,' said \n",
       "<mark class=\"entity\" style=\"background: #FFFB8B; padding: 0.45em 0.6em; margin: 0 0.25em; line-height: 1; border-radius: 0.35em;\">\n",
       "    Gandalf\n",
       "    <span style=\"font-size: 0.8em; font-weight: bold; line-height: 1; border-radius: 0.35em; vertical-align: middle; margin-left: 0.5rem\">AINUR</span>\n",
       "</mark>\n",
       ". `But we cannot make any plans yet. There is much to hear and decide today.'</br>     Suddenly as they were talking a single clear bell rang out. `That is the warning bell for the Council of \n",
       "<mark class=\"entity\" style=\"background: #B79292; padding: 0.45em 0.6em; margin: 0 0.25em; line-height: 1; border-radius: 0.35em;\">\n",
       "    Elrond\n",
       "    <span style=\"font-size: 0.8em; font-weight: bold; line-height: 1; border-radius: 0.35em; vertical-align: middle; margin-left: 0.5rem\">ELF</span>\n",
       "</mark>\n",
       ",' cried \n",
       "<mark class=\"entity\" style=\"background: #FFFB8B; padding: 0.45em 0.6em; margin: 0 0.25em; line-height: 1; border-radius: 0.35em;\">\n",
       "    Gandalf\n",
       "    <span style=\"font-size: 0.8em; font-weight: bold; line-height: 1; border-radius: 0.35em; vertical-align: middle; margin-left: 0.5rem\">AINUR</span>\n",
       "</mark>\n",
       ". `Come along now! Both you and \n",
       "<mark class=\"entity\" style=\"background: #C3B7FF; padding: 0.45em 0.6em; margin: 0 0.25em; line-height: 1; border-radius: 0.35em;\">\n",
       "    Bilbo\n",
       "    <span style=\"font-size: 0.8em; font-weight: bold; line-height: 1; border-radius: 0.35em; vertical-align: middle; margin-left: 0.5rem\">HOBBIT</span>\n",
       "</mark>\n",
       " are wanted.'</br>     \n",
       "<mark class=\"entity\" style=\"background: #C3B7FF; padding: 0.45em 0.6em; margin: 0 0.25em; line-height: 1; border-radius: 0.35em;\">\n",
       "    Frodo\n",
       "    <span style=\"font-size: 0.8em; font-weight: bold; line-height: 1; border-radius: 0.35em; vertical-align: middle; margin-left: 0.5rem\">HOBBIT</span>\n",
       "</mark>\n",
       " and \n",
       "<mark class=\"entity\" style=\"background: #C3B7FF; padding: 0.45em 0.6em; margin: 0 0.25em; line-height: 1; border-radius: 0.35em;\">\n",
       "    Bilbo\n",
       "    <span style=\"font-size: 0.8em; font-weight: bold; line-height: 1; border-radius: 0.35em; vertical-align: middle; margin-left: 0.5rem\">HOBBIT</span>\n",
       "</mark>\n",
       " followed the wizard quickly along the winding path back to the house; behind them, uninvited and for the moment forgotten, trotted Sam.</br>     \n",
       "<mark class=\"entity\" style=\"background: #FFFB8B; padding: 0.45em 0.6em; margin: 0 0.25em; line-height: 1; border-radius: 0.35em;\">\n",
       "    Gandalf\n",
       "    <span style=\"font-size: 0.8em; font-weight: bold; line-height: 1; border-radius: 0.35em; vertical-align: middle; margin-left: 0.5rem\">AINUR</span>\n",
       "</mark>\n",
       " led them to the porch where \n",
       "<mark class=\"entity\" style=\"background: #C3B7FF; padding: 0.45em 0.6em; margin: 0 0.25em; line-height: 1; border-radius: 0.35em;\">\n",
       "    Frodo\n",
       "    <span style=\"font-size: 0.8em; font-weight: bold; line-height: 1; border-radius: 0.35em; vertical-align: middle; margin-left: 0.5rem\">HOBBIT</span>\n",
       "</mark>\n",
       " had found his friends the evening before. The light of the clear autumn morning was now glowing in the valley. The noise of bubbling waters came up from the foaming river-bed. Birds were singing, and a wholesome peace lay on the land. To \n",
       "<mark class=\"entity\" style=\"background: #C3B7FF; padding: 0.45em 0.6em; margin: 0 0.25em; line-height: 1; border-radius: 0.35em;\">\n",
       "    Frodo\n",
       "    <span style=\"font-size: 0.8em; font-weight: bold; line-height: 1; border-radius: 0.35em; vertical-align: middle; margin-left: 0.5rem\">HOBBIT</span>\n",
       "</mark>\n",
       " his dangerous flight, and the rumours of the darkness growing in the world outside, already seemed only the memories of a troubled dream; but the faces that were turned to meet them as they entered were grave.</br>     \n",
       "<mark class=\"entity\" style=\"background: #B79292; padding: 0.45em 0.6em; margin: 0 0.25em; line-height: 1; border-radius: 0.35em;\">\n",
       "    Elrond\n",
       "    <span style=\"font-size: 0.8em; font-weight: bold; line-height: 1; border-radius: 0.35em; vertical-align: middle; margin-left: 0.5rem\">ELF</span>\n",
       "</mark>\n",
       " was there, and several others were seated in silence about him. \n",
       "<mark class=\"entity\" style=\"background: #C3B7FF; padding: 0.45em 0.6em; margin: 0 0.25em; line-height: 1; border-radius: 0.35em;\">\n",
       "    Frodo\n",
       "    <span style=\"font-size: 0.8em; font-weight: bold; line-height: 1; border-radius: 0.35em; vertical-align: middle; margin-left: 0.5rem\">HOBBIT</span>\n",
       "</mark>\n",
       " saw \n",
       "<mark class=\"entity\" style=\"background: #B79292; padding: 0.45em 0.6em; margin: 0 0.25em; line-height: 1; border-radius: 0.35em;\">\n",
       "    Glorfindel\n",
       "    <span style=\"font-size: 0.8em; font-weight: bold; line-height: 1; border-radius: 0.35em; vertical-align: middle; margin-left: 0.5rem\">ELF</span>\n",
       "</mark>\n",
       " and \n",
       "<mark class=\"entity\" style=\"background: #88CCEE; padding: 0.45em 0.6em; margin: 0 0.25em; line-height: 1; border-radius: 0.35em;\">\n",
       "    Glóin\n",
       "    <span style=\"font-size: 0.8em; font-weight: bold; line-height: 1; border-radius: 0.35em; vertical-align: middle; margin-left: 0.5rem\">DWARF</span>\n",
       "</mark>\n",
       "; and in a corner alone Strider was sitting, clad in his old travel-worn clothes again. \n",
       "<mark class=\"entity\" style=\"background: #B79292; padding: 0.45em 0.6em; margin: 0 0.25em; line-height: 1; border-radius: 0.35em;\">\n",
       "    Elrond\n",
       "    <span style=\"font-size: 0.8em; font-weight: bold; line-height: 1; border-radius: 0.35em; vertical-align: middle; margin-left: 0.5rem\">ELF</span>\n",
       "</mark>\n",
       " drew \n",
       "<mark class=\"entity\" style=\"background: #C3B7FF; padding: 0.45em 0.6em; margin: 0 0.25em; line-height: 1; border-radius: 0.35em;\">\n",
       "    Frodo\n",
       "    <span style=\"font-size: 0.8em; font-weight: bold; line-height: 1; border-radius: 0.35em; vertical-align: middle; margin-left: 0.5rem\">HOBBIT</span>\n",
       "</mark>\n",
       " to a seat by his side, and presented him to the company, saying:</br>     'Here, my friends is the hobbit, \n",
       "<mark class=\"entity\" style=\"background: #C3B7FF; padding: 0.45em 0.6em; margin: 0 0.25em; line-height: 1; border-radius: 0.35em;\">\n",
       "    Frodo\n",
       "    <span style=\"font-size: 0.8em; font-weight: bold; line-height: 1; border-radius: 0.35em; vertical-align: middle; margin-left: 0.5rem\">HOBBIT</span>\n",
       "</mark>\n",
       " son of \n",
       "<mark class=\"entity\" style=\"background: #C3B7FF; padding: 0.45em 0.6em; margin: 0 0.25em; line-height: 1; border-radius: 0.35em;\">\n",
       "    Drogo\n",
       "    <span style=\"font-size: 0.8em; font-weight: bold; line-height: 1; border-radius: 0.35em; vertical-align: middle; margin-left: 0.5rem\">HOBBIT</span>\n",
       "</mark>\n",
       ". Few have ever come hither through greater peril or on an errand more urgent.'</br>     He then pointed out and named those whom \n",
       "<mark class=\"entity\" style=\"background: #C3B7FF; padding: 0.45em 0.6em; margin: 0 0.25em; line-height: 1; border-radius: 0.35em;\">\n",
       "    Frodo\n",
       "    <span style=\"font-size: 0.8em; font-weight: bold; line-height: 1; border-radius: 0.35em; vertical-align: middle; margin-left: 0.5rem\">HOBBIT</span>\n",
       "</mark>\n",
       " had not met before. There was a younger dwarf at \n",
       "<mark class=\"entity\" style=\"background: #88CCEE; padding: 0.45em 0.6em; margin: 0 0.25em; line-height: 1; border-radius: 0.35em;\">\n",
       "    Glóin\n",
       "    <span style=\"font-size: 0.8em; font-weight: bold; line-height: 1; border-radius: 0.35em; vertical-align: middle; margin-left: 0.5rem\">DWARF</span>\n",
       "</mark>\n",
       "'s side: his son \n",
       "<mark class=\"entity\" style=\"background: #88CCEE; padding: 0.45em 0.6em; margin: 0 0.25em; line-height: 1; border-radius: 0.35em;\">\n",
       "    Gimli\n",
       "    <span style=\"font-size: 0.8em; font-weight: bold; line-height: 1; border-radius: 0.35em; vertical-align: middle; margin-left: 0.5rem\">DWARF</span>\n",
       "</mark>\n",
       ". Beside \n",
       "<mark class=\"entity\" style=\"background: #B79292; padding: 0.45em 0.6em; margin: 0 0.25em; line-height: 1; border-radius: 0.35em;\">\n",
       "    Glorfindel\n",
       "    <span style=\"font-size: 0.8em; font-weight: bold; line-height: 1; border-radius: 0.35em; vertical-align: middle; margin-left: 0.5rem\">ELF</span>\n",
       "</mark>\n",
       " there were several other counsel</div></span>"
      ],
      "text/plain": [
       "<IPython.core.display.HTML object>"
      ]
     },
     "metadata": {},
     "output_type": "display_data"
    }
   ],
   "source": [
    "colors = {\n",
    "    'HOBBIT': \"#C3B7FF\",  \n",
    "    'REALM': \"#E6EC9C\",    \n",
    "    'MAN': \"#9DECDF\",    \n",
    "    'DWARF': \"#88CCEE\",    \n",
    "    'ELF': \"#B79292\",      \n",
    "    'AINUR': \"#FFFB8B\"     \n",
    "}\n",
    "\n",
    "options = {\"ents\": ['HOBBIT', 'REALM', 'MAN', 'DWARF', 'ELF', 'AINUR'], \"colors\": colors}\n",
    "print(doc.spans[\"ruler\"])\n",
    "displacy.render(doc, style=\"ent\", options=options)\n"
   ]
  },
  {
   "cell_type": "markdown",
   "id": "611054be",
   "metadata": {},
   "source": [
    "# Using a spaCy Output\n",
    "\n",
    "Once we run a spaCy pipeline over data, we can cultivate the output and apply it in some meaningful way. Let's try and create a function that can count each of the entities. One way to do this would be to loop over each entity and store their name in a dictionary with a key of 1 upon the first time they are found and then moving that integer up 1 each time they are found again. Let's see how this might look in code."
   ]
  },
  {
   "cell_type": "code",
   "execution_count": 20,
   "id": "5b492b8f",
   "metadata": {},
   "outputs": [
    {
     "name": "stdout",
     "output_type": "stream",
     "text": [
      "{'Frodo': 9, 'Gandalf': 4, 'Bilbo': 4, 'Rivendell': 1, 'Elrond': 3, 'Glorfindel': 2, 'Glóin': 2, 'Drogo': 1, 'Gimli': 1}\n"
     ]
    }
   ],
   "source": [
    "def count_entities(doc):\n",
    "    ent_counts = {}\n",
    "    for ent in doc.ents:\n",
    "        if ent.text in ent_counts:\n",
    "            ent_counts[ent.text] += 1\n",
    "        else:\n",
    "            ent_counts[ent.text] = 1\n",
    "    print(ent_counts)\n",
    "count_entities(doc)"
   ]
  },
  {
   "cell_type": "markdown",
   "id": "3ca8b9a0",
   "metadata": {},
   "source": [
    "This is a lot of code, however, and we can much more easily achieve this precise same result by using the built-in Python function `Counter()` which is in the built-in library `collections`. `Counter()` takes a list and outputs a dictionary that has the precise same structure. The nice thing about this approach is that it does not require us to check to see if a key exists in a `Counter` object that functions rather like a dictionary. It's a cleaner implementation and more polished code."
   ]
  },
  {
   "cell_type": "code",
   "execution_count": 26,
   "id": "bb9be1df",
   "metadata": {},
   "outputs": [
    {
     "name": "stdout",
     "output_type": "stream",
     "text": [
      "Counter({'Frodo': 9, 'Gandalf': 4, 'Bilbo': 4, 'Elrond': 3, 'Glorfindel': 2, 'Glóin': 2, 'Rivendell': 1, 'Drogo': 1, 'Gimli': 1})\n"
     ]
    }
   ],
   "source": [
    "def count_entities2(doc):\n",
    "    entities = []\n",
    "    for ent in doc.ents:\n",
    "        entities.append(ent.text)\n",
    "    ent_counts = Counter(entities)\n",
    "    print(ent_counts)\n",
    "count_entities2(doc)"
   ]
  },
  {
   "cell_type": "markdown",
   "id": "c2c64ad2",
   "metadata": {},
   "source": [
    "## First Exercise (10 minutes):\n",
    "\n",
    "In the code block below, modify the code so that you count the number of time each entity label appears in the Doc container. If you finish early, try to create a function to do something else entirely."
   ]
  },
  {
   "cell_type": "code",
   "execution_count": 29,
   "id": "c988e076",
   "metadata": {},
   "outputs": [],
   "source": [
    "# You will need to remove `pass`\n",
    "def label_counter(doc):\n",
    "    pass\n",
    "\n",
    "\n",
    "label_counter(doc)"
   ]
  },
  {
   "cell_type": "markdown",
   "id": "4904c297",
   "metadata": {},
   "source": [
    "# Applying our Function Inside of a spaCy Pipeline\n",
    "\n",
    "In the above example, we are using the output of a spaCy pipeline to do some downstream task outside of spaCy. What if we had to do this action in a lot of different Python scripts or notebooks? What if our users would need to do this same thing? Wouldn't it be nice to provide ourselves and users with this precise data each and every single time the pipeline runs?\n",
    "\n",
    "To do this, we can leverage what are known as custom components or factories. Components in spaCy are functions, while factories are more elaborate classes. We will just be using components for now.\n",
    "\n",
    "To create a custom component, we need to create to use a decorator (`@`). The construction looks like this:\n",
    "\n",
    "```python\n",
    "@Language.component(<NAME OF COMPONENT>)\n",
    "```\n",
    "\n",
    "Decorators are more advanced Python and beyond the scope of this notebook. At a very basic level, they allow us to manipulate a function or class' behavior by allowing that function or class to inherit the properties of the decorated function.\n",
    "\n",
    "The decorator will sit immediately above the line where you declare a function. This decorator allows us to pass this function into the spaCy pipeline so that every time we pass a new text to the pipeline, this function will run automatically. It can be positioned anywhere we like in the pipeline. It will always take one argument: `doc` which is the `doc` container object that is being passed through the pipeline. It also must return the `doc` container. If the function does not return the `doc` container, the pipeline breaks because the `doc` container is not passed to the next pipe.\n",
    "\n",
    "Inside the function, everything can function precisely the same as above.\n",
    "\n",
    "In total, our code will look like this:\n",
    "\n",
    "```python\n",
    "@Language.component(\"counter_component\")\n",
    "def counter_component(doc):\n",
    "    entities = []\n",
    "    for ent in doc.ents:\n",
    "        entities.append(ent.text)\n",
    "    counts = Counter(entities)\n",
    "    print(counts)\n",
    "    return doc\n",
    "```"
   ]
  },
  {
   "cell_type": "code",
   "execution_count": 35,
   "id": "1cb35b73",
   "metadata": {},
   "outputs": [
    {
     "name": "stdout",
     "output_type": "stream",
     "text": [
      "Counter({'Frodo': 9, 'Gandalf': 4, 'Bilbo': 4, 'Elrond': 3, 'Glorfindel': 2, 'Glóin': 2, 'Rivendell': 1, 'Drogo': 1, 'Gimli': 1})\n"
     ]
    }
   ],
   "source": [
    "\n",
    "@Language.component(\"counter_component\")\n",
    "def counter_component(doc):\n",
    "    entities = []\n",
    "    for ent in doc.ents:\n",
    "        entities.append(ent.text)\n",
    "    counts = Counter(entities)\n",
    "    print(counts)\n",
    "    return doc\n",
    "\n",
    "nlp = spacy.load(\"en_hobbit\")\n",
    "nlp.add_pipe(\"counter_component\")\n",
    "\n",
    "doc = nlp(text[:2500])"
   ]
  },
  {
   "cell_type": "markdown",
   "id": "2fbe801b",
   "metadata": {},
   "source": [
    "# Assigning Custom Attributes\n",
    "\n",
    "What makes spaCy useful is that we can also store data inside of the Doc container. The can be entirely custom attributes. A good way to think about a spaCy attribute is to think about it as metadata. We can store attributes at the Doc-level, Token-level, or Span-level. For now, we will only work with the Doc-level.\n",
    "\n",
    "When we store custom attributes, we can access the data by using `._.<ATTRIBUTE NAME>` on the container. If we are working with data in the Doc container that is stored at `ent_counter`, therefore, wew could grab that data with the following command: `doc._.ent_counter`.\n",
    "\n",
    "In order to create a special extension, it needs to be manually created inside of your script and set. We can do this with the following line:\n",
    "\n",
    "\n",
    "```python\n",
    "Doc.set_extension(\"ent_counter\", default=Counter(), force=True)\n",
    "```\n",
    "\n",
    "Here, we are grabbing the Doc class and using the `.set_extension()` method. Here, we are essentially customizing the spaCy Doc class by adding a special attribute that does not currently exist. In doing so, we are creating an attribute that we can assign data to in the middle of a pipeline. We use the keyword argument `default` here to specify what we want its default value to be. Since this will be an attribute that contains a counter, it seems fitting to have the default value be an empty counter. The argument `force=True` is something I like to do in my notebooks because it overwrites an earlier attribute of the same name. When you are prototyping a pipeline, this can be helpful.\n",
    "\n",
    "Notice in the code snippet below, we use the precise same function, but instead of printing off the counter, we are using this line:\n",
    "\n",
    "```python\n",
    "doc._.ent_counter = counts\n",
    "```\n",
    "\n",
    "here, we are setting the `doc._.ent_counter` attribute to our counter, thus storing the data in the doc container."
   ]
  },
  {
   "cell_type": "code",
   "execution_count": 41,
   "id": "eb075e5f",
   "metadata": {},
   "outputs": [],
   "source": [
    "Doc.set_extension(\"ent_counter\", default=Counter(), force=True)\n",
    "\n",
    "@Language.component(\"counter_component\")\n",
    "def counter_component(doc):\n",
    "    entities = []\n",
    "    for ent in doc.ents:\n",
    "        entities.append(ent.text)\n",
    "    counts = Counter(entities)\n",
    "    doc._.ent_counter = counts\n",
    "    return doc\n",
    "\n",
    "nlp = spacy.load(\"en_hobbit\")\n",
    "nlp.add_pipe(\"counter_component\")\n",
    "\n",
    "doc = nlp(text[:2500])"
   ]
  },
  {
   "cell_type": "markdown",
   "id": "2deca2d0",
   "metadata": {},
   "source": [
    "Now, we will not see the result printed each time. Instead, we can grab the data when necessary. This is a cleaner implementation and more useful because the data is now available to us for downstream tasks.\n",
    "\n",
    "Let's grab the data and print it off."
   ]
  },
  {
   "cell_type": "code",
   "execution_count": 42,
   "id": "b4d1c046",
   "metadata": {},
   "outputs": [
    {
     "name": "stdout",
     "output_type": "stream",
     "text": [
      "Counter({'Frodo': 9, 'Gandalf': 4, 'Bilbo': 4, 'Elrond': 3, 'Glorfindel': 2, 'Glóin': 2, 'Rivendell': 1, 'Drogo': 1, 'Gimli': 1})\n"
     ]
    }
   ],
   "source": [
    "print(doc._.ent_counter)"
   ]
  },
  {
   "cell_type": "markdown",
   "id": "7482372c",
   "metadata": {},
   "source": [
    "# Second Exercise (15 Minutes)\n",
    "\n",
    "In the code snipet below, create a custom attribute to count the number of times specific labels appear in the output from the entity_ruler."
   ]
  },
  {
   "cell_type": "code",
   "execution_count": 55,
   "id": "c484b91d",
   "metadata": {},
   "outputs": [],
   "source": [
    "# 1. create your custom attribute here. Don't forget to set it!\n",
    "\n",
    "\n",
    "# 2. Use the decorator to the Language class here\n",
    "\n",
    "def counter_component(doc):\n",
    "        \n",
    "    # 3. add the bits of the function that grab all the labels and count them\n",
    "\n",
    "    # 4. set the extension\n",
    "\n",
    "    # 5. don't forget to return the doc!\n",
    "\n",
    "\n",
    "\n",
    "nlp = spacy.load(\"en_hobbit\")\n",
    "\n",
    "\n",
    "# 6. add the component to your pipeline\n",
    "\n",
    "\n",
    "doc = nlp(text[:2500])\n",
    "\n",
    "# 7. print off the results here"
   ]
  },
  {
   "cell_type": "markdown",
   "id": "4529a09b",
   "metadata": {},
   "source": [
    "# Components that Identify Multiword Tokens with Regex"
   ]
  },
  {
   "cell_type": "markdown",
   "id": "3f400e78",
   "metadata": {},
   "source": [
    "What if we wanted to write a rule that used Regular Expressions that worked across multiple tokens? We have two choices: convert that RegEx into a spaCy pattern sequences (sometimes challenging) or insert that RegEx into the pipeline as a special component. In the code snippet below, we have an example of how to do just that. Let's break down what's happening in each line.\n",
    "\n",
    "In order to achieve this there are steps that we must follow."
   ]
  },
  {
   "cell_type": "code",
   "execution_count": 20,
   "id": "72cbbe08",
   "metadata": {},
   "outputs": [
    {
     "name": "stderr",
     "output_type": "stream",
     "text": [
      "c:\\Users\\wma22\\anaconda3\\lib\\site-packages\\spacy\\pipeline\\entityruler.py:405: UserWarning: [W036] The component 'entity_ruler' does not have any patterns defined.\n",
      "  warnings.warn(Warnings.W036.format(name=self.name))\n"
     ]
    },
    {
     "data": {
      "text/html": [
       "<span class=\"tex2jax_ignore\"><div class=\"entities\" style=\"line-height: 2.5; direction: ltr\">\n",
       "<mark class=\"entity\" style=\"background: #ddd; padding: 0.45em 0.6em; margin: 0 0.25em; line-height: 1; border-radius: 0.35em;\">\n",
       "    Captain John Luc Picard\n",
       "    <span style=\"font-size: 0.8em; font-weight: bold; line-height: 1; border-radius: 0.35em; vertical-align: middle; margin-left: 0.5rem\">MILITARY</span>\n",
       "</mark>\n",
       " commands the Enterprise.</div></span>"
      ],
      "text/plain": [
       "<IPython.core.display.HTML object>"
      ]
     },
     "metadata": {},
     "output_type": "display_data"
    }
   ],
   "source": [
    "@Language.component(\"military_finder\")\n",
    "def military_finder(doc):\n",
    "    military_pattern = \"(?:Captain|Cpt\\.|Major|Maj)\\s(?:[A-Z]\\w+\\s)+[A-Z]\\w+\"\n",
    "    entities = list(doc.ents)\n",
    "    for match in re.finditer(military_pattern, doc.text):\n",
    "        start, end = match.span()\n",
    "        span = doc.char_span(start, end, alignment_mode=\"expand\")\n",
    "        if span is not None:\n",
    "            entities.append(Span(doc, span.start, span.end, label=\"MILITARY\"))\n",
    "    doc.ents = entities\n",
    "    return doc\n",
    "\n",
    "nlp = spacy.blank(\"en\")\n",
    "nlp.add_pipe(\"entity_ruler\")\n",
    "nlp.add_pipe(\"military_finder\", before=\"entity_ruler\")\n",
    "\n",
    "doc = nlp(\"Captain John Luc Picard commands the Enterprise.\")\n",
    "displacy.render(doc, style=\"ent\")"
   ]
  },
  {
   "cell_type": "markdown",
   "id": "4b56c5b2",
   "metadata": {},
   "source": [
    "# Saving a spaCy Pipeline to Disk and Stacking Rulers (Live Coding)"
   ]
  },
  {
   "cell_type": "code",
   "execution_count": null,
   "id": "428419ff",
   "metadata": {},
   "outputs": [],
   "source": [
    "pattern1 = {\"pattern\": \"Captain John Luc Picard\", \"label\": \"PERSON\"}\n",
    "pattern2 = {\"pattern\": \"Enterprise\", \"label\": \"VESSEL\"}\n",
    "\n",
    "nlp = spacy.blank(\"en\")\n",
    "ruler1 = nlp.add_pipe(\"entity_ruler\")\n",
    "ruler1.add_patterns([pattern1])\n",
    "\n",
    "ruler2 = nlp.add_pipe(\"entity_ruler\")\n",
    "ruler2.add_patterns([pattern2])\n",
    "\n",
    "doc = nlp(\"Captain John Luc Picard commands the Enterprise.\")\n",
    "displacy.render(doc, style=\"ent\")"
   ]
  },
  {
   "cell_type": "code",
   "execution_count": null,
   "id": "d56dfc85",
   "metadata": {},
   "outputs": [],
   "source": []
  }
 ],
 "metadata": {
  "kernelspec": {
   "display_name": "Python 3 (ipykernel)",
   "language": "python",
   "name": "python3"
  },
  "language_info": {
   "codemirror_mode": {
    "name": "ipython",
    "version": 3
   },
   "file_extension": ".py",
   "mimetype": "text/x-python",
   "name": "python",
   "nbconvert_exporter": "python",
   "pygments_lexer": "ipython3",
   "version": "3.8.5"
  },
  "toc": {
   "base_numbering": 1,
   "nav_menu": {},
   "number_sections": true,
   "sideBar": true,
   "skip_h1_title": false,
   "title_cell": "Table of Contents",
   "title_sidebar": "Contents",
   "toc_cell": false,
   "toc_position": {},
   "toc_section_display": true,
   "toc_window_display": true
  }
 },
 "nbformat": 4,
 "nbformat_minor": 5
}
