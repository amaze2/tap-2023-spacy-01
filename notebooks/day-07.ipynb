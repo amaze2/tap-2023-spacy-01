{
 "cells": [
  {
   "attachments": {},
   "cell_type": "markdown",
   "id": "3e89c5b3",
   "metadata": {},
   "source": [
    "<img align=\"left\" src=\"https://ithaka-labs.s3.amazonaws.com/static-files/images/tdm/tdmdocs/tapi-logo-small.png\" />\n",
    "\n",
    "This notebook free for educational reuse under [Creative Commons CC BY License](https://creativecommons.org/licenses/by/4.0/).\n",
    "\n",
    "Created by [Firstname Lastname](https://) for the 2022 Text Analysis Pedagogy Institute, with support from the [National Endowment for the Humanities](https://neh.gov), [JSTOR Labs](https://labs.jstor.org/), and [University of Arizona Libraries](https://new.library.arizona.edu/).\n",
    "\n",
    "For questions/comments/improvements, email author@email.address.<br />\n",
    "____"
   ]
  },
  {
   "attachments": {},
   "cell_type": "markdown",
   "id": "68f932d1",
   "metadata": {},
   "source": [
    "# `spaCy 3` `1`\n",
    "\n",
    "This is lesson `1` of 3 in the educational series on `spaCy and NLP`. This notebook is intended `to teach the spaCy EntityRuler and the basics of Rules-Based NLP`. \n",
    "\n",
    "**Audience:** `Teachers` / `Learners` / `Researchers`\n",
    "\n",
    "**Use case:** `Tutorial` / `How-To` / `Explanation` \n",
    "\n",
    "`Include the use case definition from [here](https://constellate.org/docs/documentation-categories)`\n",
    "\n",
    "**Difficulty:** `Intermediate`\n",
    "\n",
    "`Beginner assumes users are relatively new to Python and Jupyter Notebooks. The user is helped step-by-step with lots of explanatory text.`\n",
    "`Intermediate assumes users are familiar with Python and have been programming for 6+ months. Code makes up a larger part of the notebook and basic concepts related to Python are not explained.`\n",
    "`Advanced assumes users are very familiar with Python and have been programming for years, but they may not be familiar with the process being explained.`\n",
    "\n",
    "**Completion time:** `90 minutes`\n",
    "\n",
    "**Knowledge Required:** \n",
    "```\n",
    "* Python basics (variables, flow control, functions, lists, dictionaries)\n",
    "* A basic understanding of spaCy (see notebooks 1-3)\n",
    "```\n",
    "\n",
    "**Knowledge Recommended:**\n",
    "```\n",
    "* Basic file operations (open, close, read, write)\n",
    "* Loading data with Pandas\n",
    "```\n",
    "\n",
    "**Learning Objectives:**\n",
    "After this lesson, learners will be able to:\n",
    "```\n",
    "1. Learn about the basics of machine learning and the machine learning components of spaCy\n",
    "```\n",
    "___"
   ]
  },
  {
   "cell_type": "code",
   "execution_count": 1,
   "id": "e8a220f5",
   "metadata": {},
   "outputs": [
    {
     "name": "stdout",
     "output_type": "stream",
     "text": [
      "Requirement already satisfied: umap-learn in c:\\users\\wma22\\anaconda3\\lib\\site-packages (0.5.3)\n",
      "Requirement already satisfied: scipy>=1.0 in c:\\users\\wma22\\anaconda3\\lib\\site-packages (from umap-learn) (1.8.0)\n",
      "Requirement already satisfied: scikit-learn>=0.22 in c:\\users\\wma22\\appdata\\roaming\\python\\python38\\site-packages (from umap-learn) (1.2.2)\n",
      "Requirement already satisfied: tqdm in c:\\users\\wma22\\anaconda3\\lib\\site-packages (from umap-learn) (4.64.1)\n",
      "Requirement already satisfied: pynndescent>=0.5 in c:\\users\\wma22\\anaconda3\\lib\\site-packages (from umap-learn) (0.5.7)\n",
      "Requirement already satisfied: numba>=0.49 in c:\\users\\wma22\\anaconda3\\lib\\site-packages (from umap-learn) (0.55.1)\n",
      "Requirement already satisfied: numpy>=1.17 in c:\\users\\wma22\\anaconda3\\lib\\site-packages (from umap-learn) (1.24.2)\n",
      "Collecting datashader\n",
      "  Downloading datashader-0.15.1-py2.py3-none-any.whl (18.3 MB)\n",
      "     ---------------------------------------- 18.3/18.3 MB 3.9 MB/s eta 0:00:00\n",
      "Requirement already satisfied: seaborn in c:\\users\\wma22\\anaconda3\\lib\\site-packages (from umap-learn) (0.11.2)\n",
      "Requirement already satisfied: scikit-image in c:\\users\\wma22\\anaconda3\\lib\\site-packages (from umap-learn) (0.19.2)\n",
      "Requirement already satisfied: pandas in c:\\users\\wma22\\anaconda3\\lib\\site-packages (from umap-learn) (1.5.1)\n",
      "Collecting holoviews\n",
      "  Downloading holoviews-1.17.0-py2.py3-none-any.whl (4.3 MB)\n",
      "     ---------------------------------------- 4.3/4.3 MB 4.0 MB/s eta 0:00:00\n",
      "Collecting colorcet\n",
      "  Downloading colorcet-3.0.1-py2.py3-none-any.whl (1.7 MB)\n",
      "     ---------------------------------------- 1.7/1.7 MB 3.1 MB/s eta 0:00:00\n",
      "Requirement already satisfied: bokeh in c:\\users\\wma22\\anaconda3\\lib\\site-packages (from umap-learn) (2.4.2)\n",
      "Requirement already satisfied: matplotlib in c:\\users\\wma22\\anaconda3\\lib\\site-packages (from umap-learn) (3.2.2)\n",
      "Requirement already satisfied: llvmlite<0.39,>=0.38.0rc1 in c:\\users\\wma22\\anaconda3\\lib\\site-packages (from numba>=0.49->umap-learn) (0.38.0)\n",
      "Requirement already satisfied: setuptools in c:\\users\\wma22\\anaconda3\\lib\\site-packages (from numba>=0.49->umap-learn) (66.0.0)\n",
      "Collecting numpy>=1.17\n",
      "  Using cached numpy-1.21.6-cp38-cp38-win_amd64.whl (14.0 MB)\n",
      "Requirement already satisfied: joblib>=0.11 in c:\\users\\wma22\\appdata\\roaming\\python\\python38\\site-packages (from pynndescent>=0.5->umap-learn) (1.2.0)\n",
      "Requirement already satisfied: threadpoolctl>=2.0.0 in c:\\users\\wma22\\appdata\\roaming\\python\\python38\\site-packages (from scikit-learn>=0.22->umap-learn) (3.1.0)\n",
      "Requirement already satisfied: pillow>=7.1.0 in c:\\users\\wma22\\appdata\\roaming\\python\\python38\\site-packages (from bokeh->umap-learn) (9.4.0)\n",
      "Requirement already satisfied: tornado>=5.1 in c:\\users\\wma22\\anaconda3\\lib\\site-packages (from bokeh->umap-learn) (6.1)\n",
      "Requirement already satisfied: Jinja2>=2.9 in c:\\users\\wma22\\anaconda3\\lib\\site-packages (from bokeh->umap-learn) (3.1.2)\n",
      "Requirement already satisfied: PyYAML>=3.10 in c:\\users\\wma22\\appdata\\roaming\\python\\python38\\site-packages (from bokeh->umap-learn) (6.0)\n",
      "Requirement already satisfied: packaging>=16.8 in c:\\users\\wma22\\anaconda3\\lib\\site-packages (from bokeh->umap-learn) (23.0)\n",
      "Requirement already satisfied: typing-extensions>=3.10.0 in c:\\users\\wma22\\anaconda3\\lib\\site-packages (from bokeh->umap-learn) (4.4.0)\n",
      "Collecting pyct>=0.4.4\n",
      "  Downloading pyct-0.5.0-py2.py3-none-any.whl (15 kB)\n",
      "Collecting datashape\n",
      "  Downloading datashape-0.5.2.tar.gz (76 kB)\n",
      "     ---------------------------------------- 76.5/76.5 KB 4.1 MB/s eta 0:00:00\n",
      "  Preparing metadata (setup.py): started\n",
      "  Preparing metadata (setup.py): finished with status 'done'\n",
      "Collecting xarray\n",
      "  Downloading xarray-2023.1.0-py3-none-any.whl (973 kB)\n",
      "     -------------------------------------- 973.1/973.1 KB 3.6 MB/s eta 0:00:00\n",
      "Requirement already satisfied: toolz in c:\\users\\wma22\\anaconda3\\lib\\site-packages (from datashader->umap-learn) (0.11.2)\n",
      "Collecting param\n",
      "  Downloading param-1.13.0-py2.py3-none-any.whl (87 kB)\n",
      "     ---------------------------------------- 87.3/87.3 KB 2.4 MB/s eta 0:00:00\n",
      "Requirement already satisfied: requests in c:\\users\\wma22\\anaconda3\\lib\\site-packages (from datashader->umap-learn) (2.28.2)\n",
      "Requirement already satisfied: dask in c:\\users\\wma22\\anaconda3\\lib\\site-packages (from datashader->umap-learn) (2022.4.1)\n",
      "Collecting pyviz-comms>=0.7.4\n",
      "  Downloading pyviz_comms-2.3.2-py2.py3-none-any.whl (79 kB)\n",
      "     ---------------------------------------- 79.8/79.8 KB 4.3 MB/s eta 0:00:00\n",
      "Collecting panel>=0.13.1\n",
      "  Downloading panel-1.2.1-py2.py3-none-any.whl (20.0 MB)\n",
      "     ---------------------------------------- 20.0/20.0 MB 3.8 MB/s eta 0:00:00\n",
      "Requirement already satisfied: pytz>=2020.1 in c:\\users\\wma22\\anaconda3\\lib\\site-packages (from pandas->umap-learn) (2022.6)\n",
      "Requirement already satisfied: python-dateutil>=2.8.1 in c:\\users\\wma22\\anaconda3\\lib\\site-packages (from pandas->umap-learn) (2.8.1)\n",
      "Requirement already satisfied: pyparsing!=2.0.4,!=2.1.2,!=2.1.6,>=2.0.1 in c:\\users\\wma22\\anaconda3\\lib\\site-packages (from matplotlib->umap-learn) (3.0.8)\n",
      "Requirement already satisfied: kiwisolver>=1.0.1 in c:\\users\\wma22\\anaconda3\\lib\\site-packages (from matplotlib->umap-learn) (1.4.2)\n",
      "Requirement already satisfied: cycler>=0.10 in c:\\users\\wma22\\anaconda3\\lib\\site-packages (from matplotlib->umap-learn) (0.11.0)\n",
      "Requirement already satisfied: tifffile>=2019.7.26 in c:\\users\\wma22\\anaconda3\\lib\\site-packages (from scikit-image->umap-learn) (2022.4.8)\n",
      "Requirement already satisfied: networkx>=2.2 in c:\\users\\wma22\\anaconda3\\lib\\site-packages (from scikit-image->umap-learn) (2.8)\n",
      "Requirement already satisfied: PyWavelets>=1.1.1 in c:\\users\\wma22\\anaconda3\\lib\\site-packages (from scikit-image->umap-learn) (1.3.0)\n",
      "Requirement already satisfied: imageio>=2.4.1 in c:\\users\\wma22\\anaconda3\\lib\\site-packages (from scikit-image->umap-learn) (2.16.2)\n",
      "Requirement already satisfied: colorama in c:\\users\\wma22\\anaconda3\\lib\\site-packages (from tqdm->umap-learn) (0.4.6)\n",
      "Requirement already satisfied: MarkupSafe>=2.0 in c:\\users\\wma22\\anaconda3\\lib\\site-packages (from Jinja2>=2.9->bokeh->umap-learn) (2.1.2)\n",
      "Requirement already satisfied: xyzservices>=2021.09.1 in c:\\users\\wma22\\anaconda3\\lib\\site-packages (from panel>=0.13.1->holoviews->umap-learn) (2022.9.0)\n",
      "Collecting bokeh\n",
      "  Downloading bokeh-3.1.1-py3-none-any.whl (8.3 MB)\n",
      "     ---------------------------------------- 8.3/8.3 MB 3.9 MB/s eta 0:00:00\n",
      "Requirement already satisfied: linkify-it-py in c:\\users\\wma22\\anaconda3\\lib\\site-packages (from panel>=0.13.1->holoviews->umap-learn) (1.0.3)\n",
      "Requirement already satisfied: bleach in c:\\users\\wma22\\anaconda3\\lib\\site-packages (from panel>=0.13.1->holoviews->umap-learn) (5.0.0)\n",
      "Requirement already satisfied: markdown-it-py in c:\\users\\wma22\\anaconda3\\lib\\site-packages (from panel>=0.13.1->holoviews->umap-learn) (1.1.0)\n",
      "Requirement already satisfied: markdown in c:\\users\\wma22\\anaconda3\\lib\\site-packages (from panel>=0.13.1->holoviews->umap-learn) (3.3.6)\n",
      "Requirement already satisfied: mdit-py-plugins in c:\\users\\wma22\\anaconda3\\lib\\site-packages (from panel>=0.13.1->holoviews->umap-learn) (0.2.8)\n",
      "Collecting contourpy>=1\n",
      "  Downloading contourpy-1.1.0-cp38-cp38-win_amd64.whl (470 kB)\n",
      "     -------------------------------------- 470.4/470.4 KB 4.2 MB/s eta 0:00:00\n",
      "Requirement already satisfied: six>=1.5 in c:\\users\\wma22\\appdata\\roaming\\python\\python38\\site-packages (from python-dateutil>=2.8.1->pandas->umap-learn) (1.16.0)\n",
      "Requirement already satisfied: cloudpickle>=1.1.1 in c:\\users\\wma22\\anaconda3\\lib\\site-packages (from dask->datashader->umap-learn) (2.0.0)\n",
      "Requirement already satisfied: fsspec>=0.6.0 in c:\\users\\wma22\\anaconda3\\lib\\site-packages (from dask->datashader->umap-learn) (2022.3.0)\n",
      "Requirement already satisfied: partd>=0.3.10 in c:\\users\\wma22\\anaconda3\\lib\\site-packages (from dask->datashader->umap-learn) (1.2.0)\n",
      "Requirement already satisfied: multipledispatch>=0.4.7 in c:\\users\\wma22\\anaconda3\\lib\\site-packages (from datashape->datashader->umap-learn) (0.6.0)\n",
      "Requirement already satisfied: idna<4,>=2.5 in c:\\users\\wma22\\anaconda3\\lib\\site-packages (from requests->datashader->umap-learn) (3.4)\n",
      "Requirement already satisfied: charset-normalizer<4,>=2 in c:\\users\\wma22\\appdata\\roaming\\python\\python38\\site-packages (from requests->datashader->umap-learn) (2.1.1)\n",
      "Requirement already satisfied: certifi>=2017.4.17 in c:\\users\\wma22\\anaconda3\\lib\\site-packages (from requests->datashader->umap-learn) (2022.12.7)\n",
      "Requirement already satisfied: urllib3<1.27,>=1.21.1 in c:\\users\\wma22\\anaconda3\\lib\\site-packages (from requests->datashader->umap-learn) (1.26.14)\n",
      "Requirement already satisfied: locket in c:\\users\\wma22\\anaconda3\\lib\\site-packages (from partd>=0.3.10->dask->datashader->umap-learn) (0.2.0)\n",
      "Requirement already satisfied: webencodings in c:\\users\\wma22\\anaconda3\\lib\\site-packages (from bleach->panel>=0.13.1->holoviews->umap-learn) (0.5.1)\n",
      "Requirement already satisfied: uc-micro-py in c:\\users\\wma22\\anaconda3\\lib\\site-packages (from linkify-it-py->panel>=0.13.1->holoviews->umap-learn) (1.0.1)\n",
      "Requirement already satisfied: importlib-metadata>=4.4 in c:\\users\\wma22\\anaconda3\\lib\\site-packages (from markdown->panel>=0.13.1->holoviews->umap-learn) (4.11.3)\n",
      "Requirement already satisfied: attrs<22,>=19 in c:\\users\\wma22\\anaconda3\\lib\\site-packages (from markdown-it-py->panel>=0.13.1->holoviews->umap-learn) (21.4.0)\n",
      "Requirement already satisfied: zipp>=0.5 in c:\\users\\wma22\\anaconda3\\lib\\site-packages (from importlib-metadata>=4.4->markdown->panel>=0.13.1->holoviews->umap-learn) (3.8.0)\n",
      "Building wheels for collected packages: datashape\n",
      "  Building wheel for datashape (setup.py): started\n",
      "  Building wheel for datashape (setup.py): finished with status 'done'\n",
      "  Created wheel for datashape: filename=datashape-0.5.2-py3-none-any.whl size=59437 sha256=ed4b715d8148f9ea51cadd00989b23f6a171e3905ee341a128ee4eba2443d433\n",
      "  Stored in directory: c:\\users\\wma22\\appdata\\local\\pip\\cache\\wheels\\6d\\79\\c4\\c425774559165f472d32e5ef592ff9a71179abb31f05dbc98b\n",
      "Successfully built datashape\n",
      "Installing collected packages: param, numpy, pyviz-comms, pyct, datashape, contourpy, xarray, colorcet, bokeh, panel, datashader, holoviews\n",
      "  Attempting uninstall: numpy\n",
      "    Found existing installation: numpy 1.24.2\n",
      "    Uninstalling numpy-1.24.2:\n",
      "      Successfully uninstalled numpy-1.24.2\n",
      "  Attempting uninstall: bokeh\n",
      "    Found existing installation: bokeh 2.4.2\n",
      "    Uninstalling bokeh-2.4.2:\n",
      "      Successfully uninstalled bokeh-2.4.2\n",
      "Successfully installed bokeh-3.1.1 colorcet-3.0.1 contourpy-1.1.0 datashader-0.15.1 datashape-0.5.2 holoviews-1.17.0 numpy-1.23.1 panel-1.2.1 param-1.13.0 pyct-0.5.0 pyviz-comms-2.3.2 xarray-2023.1.0\n"
     ]
    },
    {
     "name": "stderr",
     "output_type": "stream",
     "text": [
      "WARNING: Ignoring invalid distribution -otobuf (c:\\users\\wma22\\anaconda3\\lib\\site-packages)\n",
      "WARNING: Ignoring invalid distribution -rotobuf (c:\\users\\wma22\\anaconda3\\lib\\site-packages)\n",
      "WARNING: Ignoring invalid distribution -illow (c:\\users\\wma22\\anaconda3\\lib\\site-packages)\n",
      "WARNING: Ignoring invalid distribution - (c:\\users\\wma22\\anaconda3\\lib\\site-packages)\n",
      "WARNING: Ignoring invalid distribution -otobuf (c:\\users\\wma22\\anaconda3\\lib\\site-packages)\n",
      "WARNING: Ignoring invalid distribution -rotobuf (c:\\users\\wma22\\anaconda3\\lib\\site-packages)\n",
      "WARNING: Ignoring invalid distribution -illow (c:\\users\\wma22\\anaconda3\\lib\\site-packages)\n",
      "WARNING: Ignoring invalid distribution - (c:\\users\\wma22\\anaconda3\\lib\\site-packages)\n",
      "WARNING: Ignoring invalid distribution -otobuf (c:\\users\\wma22\\anaconda3\\lib\\site-packages)\n",
      "WARNING: Ignoring invalid distribution -rotobuf (c:\\users\\wma22\\anaconda3\\lib\\site-packages)\n",
      "WARNING: Ignoring invalid distribution -illow (c:\\users\\wma22\\anaconda3\\lib\\site-packages)\n",
      "WARNING: Ignoring invalid distribution - (c:\\users\\wma22\\anaconda3\\lib\\site-packages)\n",
      "    WARNING: Ignoring invalid distribution -otobuf (c:\\users\\wma22\\anaconda3\\lib\\site-packages)\n",
      "    WARNING: Ignoring invalid distribution -rotobuf (c:\\users\\wma22\\anaconda3\\lib\\site-packages)\n",
      "    WARNING: Ignoring invalid distribution -illow (c:\\users\\wma22\\anaconda3\\lib\\site-packages)\n",
      "    WARNING: Ignoring invalid distribution - (c:\\users\\wma22\\anaconda3\\lib\\site-packages)\n",
      "    WARNING: Ignoring invalid distribution -otobuf (c:\\users\\wma22\\anaconda3\\lib\\site-packages)\n",
      "    WARNING: Ignoring invalid distribution -rotobuf (c:\\users\\wma22\\anaconda3\\lib\\site-packages)\n",
      "    WARNING: Ignoring invalid distribution -illow (c:\\users\\wma22\\anaconda3\\lib\\site-packages)\n",
      "    WARNING: Ignoring invalid distribution - (c:\\users\\wma22\\anaconda3\\lib\\site-packages)\n",
      "WARNING: Ignoring invalid distribution -otobuf (c:\\users\\wma22\\anaconda3\\lib\\site-packages)\n",
      "WARNING: Ignoring invalid distribution -rotobuf (c:\\users\\wma22\\anaconda3\\lib\\site-packages)\n",
      "WARNING: Ignoring invalid distribution -illow (c:\\users\\wma22\\anaconda3\\lib\\site-packages)\n",
      "WARNING: Ignoring invalid distribution - (c:\\users\\wma22\\anaconda3\\lib\\site-packages)\n",
      "WARNING: Ignoring invalid distribution -otobuf (c:\\users\\wma22\\anaconda3\\lib\\site-packages)\n",
      "WARNING: Ignoring invalid distribution -rotobuf (c:\\users\\wma22\\anaconda3\\lib\\site-packages)\n",
      "WARNING: Ignoring invalid distribution -illow (c:\\users\\wma22\\anaconda3\\lib\\site-packages)\n",
      "WARNING: Ignoring invalid distribution - (c:\\users\\wma22\\anaconda3\\lib\\site-packages)\n",
      "WARNING: Ignoring invalid distribution -otobuf (c:\\users\\wma22\\anaconda3\\lib\\site-packages)\n",
      "WARNING: Ignoring invalid distribution -rotobuf (c:\\users\\wma22\\anaconda3\\lib\\site-packages)\n",
      "WARNING: Ignoring invalid distribution -illow (c:\\users\\wma22\\anaconda3\\lib\\site-packages)\n",
      "WARNING: Ignoring invalid distribution - (c:\\users\\wma22\\anaconda3\\lib\\site-packages)\n",
      "WARNING: Ignoring invalid distribution -otobuf (c:\\users\\wma22\\anaconda3\\lib\\site-packages)\n",
      "WARNING: Ignoring invalid distribution -rotobuf (c:\\users\\wma22\\anaconda3\\lib\\site-packages)\n",
      "WARNING: Ignoring invalid distribution -illow (c:\\users\\wma22\\anaconda3\\lib\\site-packages)\n",
      "WARNING: Ignoring invalid distribution - (c:\\users\\wma22\\anaconda3\\lib\\site-packages)\n",
      "WARNING: Ignoring invalid distribution -otobuf (c:\\users\\wma22\\anaconda3\\lib\\site-packages)\n",
      "WARNING: Ignoring invalid distribution -rotobuf (c:\\users\\wma22\\anaconda3\\lib\\site-packages)\n",
      "WARNING: Ignoring invalid distribution -illow (c:\\users\\wma22\\anaconda3\\lib\\site-packages)\n",
      "WARNING: Ignoring invalid distribution - (c:\\users\\wma22\\anaconda3\\lib\\site-packages)\n",
      "WARNING: Ignoring invalid distribution -otobuf (c:\\users\\wma22\\anaconda3\\lib\\site-packages)\n",
      "WARNING: Ignoring invalid distribution -rotobuf (c:\\users\\wma22\\anaconda3\\lib\\site-packages)\n",
      "WARNING: Ignoring invalid distribution -illow (c:\\users\\wma22\\anaconda3\\lib\\site-packages)\n",
      "WARNING: Ignoring invalid distribution - (c:\\users\\wma22\\anaconda3\\lib\\site-packages)\n",
      "WARNING: Ignoring invalid distribution -otobuf (c:\\users\\wma22\\anaconda3\\lib\\site-packages)\n",
      "WARNING: Ignoring invalid distribution -rotobuf (c:\\users\\wma22\\anaconda3\\lib\\site-packages)\n",
      "WARNING: Ignoring invalid distribution -illow (c:\\users\\wma22\\anaconda3\\lib\\site-packages)\n",
      "WARNING: Ignoring invalid distribution - (c:\\users\\wma22\\anaconda3\\lib\\site-packages)\n",
      "WARNING: Ignoring invalid distribution -otobuf (c:\\users\\wma22\\anaconda3\\lib\\site-packages)\n",
      "WARNING: Ignoring invalid distribution -rotobuf (c:\\users\\wma22\\anaconda3\\lib\\site-packages)\n",
      "WARNING: Ignoring invalid distribution -illow (c:\\users\\wma22\\anaconda3\\lib\\site-packages)\n",
      "WARNING: Ignoring invalid distribution - (c:\\users\\wma22\\anaconda3\\lib\\site-packages)\n",
      "WARNING: Ignoring invalid distribution -otobuf (c:\\users\\wma22\\anaconda3\\lib\\site-packages)\n",
      "WARNING: Ignoring invalid distribution -rotobuf (c:\\users\\wma22\\anaconda3\\lib\\site-packages)\n",
      "WARNING: Ignoring invalid distribution -illow (c:\\users\\wma22\\anaconda3\\lib\\site-packages)\n",
      "WARNING: Ignoring invalid distribution - (c:\\users\\wma22\\anaconda3\\lib\\site-packages)\n",
      "WARNING: Ignoring invalid distribution -otobuf (c:\\users\\wma22\\anaconda3\\lib\\site-packages)\n",
      "WARNING: Ignoring invalid distribution -rotobuf (c:\\users\\wma22\\anaconda3\\lib\\site-packages)\n",
      "WARNING: Ignoring invalid distribution -illow (c:\\users\\wma22\\anaconda3\\lib\\site-packages)\n",
      "WARNING: Ignoring invalid distribution - (c:\\users\\wma22\\anaconda3\\lib\\site-packages)\n",
      "WARNING: Ignoring invalid distribution -otobuf (c:\\users\\wma22\\anaconda3\\lib\\site-packages)\n",
      "WARNING: Ignoring invalid distribution -rotobuf (c:\\users\\wma22\\anaconda3\\lib\\site-packages)\n",
      "WARNING: Ignoring invalid distribution -illow (c:\\users\\wma22\\anaconda3\\lib\\site-packages)\n",
      "WARNING: Ignoring invalid distribution - (c:\\users\\wma22\\anaconda3\\lib\\site-packages)\n",
      "WARNING: Ignoring invalid distribution -otobuf (c:\\users\\wma22\\anaconda3\\lib\\site-packages)\n",
      "WARNING: Ignoring invalid distribution -rotobuf (c:\\users\\wma22\\anaconda3\\lib\\site-packages)\n",
      "WARNING: Ignoring invalid distribution -illow (c:\\users\\wma22\\anaconda3\\lib\\site-packages)\n",
      "WARNING: Ignoring invalid distribution - (c:\\users\\wma22\\anaconda3\\lib\\site-packages)\n",
      "ERROR: pip's dependency resolver does not currently take into account all the packages that are installed. This behaviour is the source of the following dependency conflicts.\n",
      "leet-topic 0.0.10 requires bokeh<2.4.3,>=2.4.0, but you have bokeh 3.1.1 which is incompatible.\n",
      "leet-topic 0.0.10 requires protobuf<=3.20.0, but you have protobuf 4.23.3 which is incompatible.\n",
      "label-studio 1.4.1.post1 requires pydantic<=1.8.2,>=1.7.3, but you have pydantic 1.10.4 which is incompatible.\n",
      "label-studio 1.4.1.post1 requires pytz==2019.3, but you have pytz 2022.6 which is incompatible.\n",
      "kraken 4.3.9 requires numpy~=1.23.0, but you have numpy 1.21.6 which is incompatible.\n",
      "coremltools 6.3.0 requires protobuf<=4.0.0,>=3.1.0, but you have protobuf 4.23.3 which is incompatible.\n",
      "allennlp 2.9.3 requires spacy<3.3,>=2.1.0, but you have spacy 3.6.0 which is incompatible.\n",
      "texthero 1.1.0 requires gensim<4.0,>=3.6.0, but you have gensim 4.3.0 which is incompatible.\n",
      "texthero 1.1.0 requires spacy<3.0.0, but you have spacy 3.6.0 which is incompatible.\n",
      "tensorboardx 2.5.1 requires protobuf<=3.20.1,>=3.8.0, but you have protobuf 4.23.3 which is incompatible.\n",
      "spacy-experimental 0.6.1 requires spacy<3.5.0,>=3.3.0, but you have spacy 3.6.0 which is incompatible.\n",
      "onnx 1.12.0 requires protobuf<=3.20.1,>=3.12.2, but you have protobuf 4.23.3 which is incompatible.\n",
      "mpl-scatter-density 0.7 requires fast-histogram>=0.3, but you have fast-histogram 0.0.0 which is incompatible.\n",
      "hr-core-news-sm 3.4.0 requires spacy<3.5.0,>=3.4.0, but you have spacy 3.6.0 which is incompatible.\n",
      "es-core-news-sm 3.3.0 requires spacy<3.4.0,>=3.3.0.dev0, but you have spacy 3.6.0 which is incompatible.\n",
      "en-ww2spacy 0.0.9 requires spacy<3.5.0,>=3.4.4, but you have spacy 3.6.0 which is incompatible.\n",
      "en-coreference-web-trf 3.4.0a0 requires spacy<3.5.0,>=3.3.0, but you have spacy 3.6.0 which is incompatible.\n",
      "en-core-web-trf 3.4.1 requires spacy<3.5.0,>=3.4.1, but you have spacy 3.6.0 which is incompatible.\n",
      "en-bookscribs 0.0.2 requires spacy<3.4.0,>=3.3.1, but you have spacy 3.6.0 which is incompatible.\n",
      "en-biospacy 0.0.1 requires spacy<3.5.0,>=3.4.4, but you have spacy 3.6.0 which is incompatible.\n",
      "da-core-news-sm 3.3.0 requires spacy<3.4.0,>=3.3.0.dev0, but you have spacy 3.6.0 which is incompatible.\n",
      "WARNING: Ignoring invalid distribution -otobuf (c:\\users\\wma22\\anaconda3\\lib\\site-packages)\n",
      "WARNING: Ignoring invalid distribution -rotobuf (c:\\users\\wma22\\anaconda3\\lib\\site-packages)\n",
      "WARNING: Ignoring invalid distribution -illow (c:\\users\\wma22\\anaconda3\\lib\\site-packages)\n",
      "WARNING: Ignoring invalid distribution - (c:\\users\\wma22\\anaconda3\\lib\\site-packages)\n",
      "WARNING: Ignoring invalid distribution -otobuf (c:\\users\\wma22\\anaconda3\\lib\\site-packages)\n",
      "WARNING: Ignoring invalid distribution -rotobuf (c:\\users\\wma22\\anaconda3\\lib\\site-packages)\n",
      "WARNING: Ignoring invalid distribution -illow (c:\\users\\wma22\\anaconda3\\lib\\site-packages)\n",
      "WARNING: Ignoring invalid distribution - (c:\\users\\wma22\\anaconda3\\lib\\site-packages)\n",
      "WARNING: Ignoring invalid distribution -otobuf (c:\\users\\wma22\\anaconda3\\lib\\site-packages)\n",
      "WARNING: Ignoring invalid distribution -rotobuf (c:\\users\\wma22\\anaconda3\\lib\\site-packages)\n",
      "WARNING: Ignoring invalid distribution -illow (c:\\users\\wma22\\anaconda3\\lib\\site-packages)\n",
      "WARNING: Ignoring invalid distribution - (c:\\users\\wma22\\anaconda3\\lib\\site-packages)\n"
     ]
    }
   ],
   "source": [
    "# ### Install Libraries ###\n",
    "\n",
    "# # Using !pip installs\n",
    "!pip install spacy\n",
    "!pip install pandas\n",
    "# !python -m spacy download en_core_web_sm\n",
    "!python -m spacy download en_core_web_lg\n",
    "!pip install umap-learn umap-learn[plot]\n",
    "!pip install hbdscan\n",
    "\n",
    "# # Using %%bash magic with apt-get and yes prompt"
   ]
  },
  {
   "cell_type": "code",
   "execution_count": 1,
   "id": "5480e2a8",
   "metadata": {},
   "outputs": [
    {
     "name": "stderr",
     "output_type": "stream",
     "text": [
      "c:\\Users\\wma22\\anaconda3\\envs\\tap\\lib\\site-packages\\umap\\distances.py:1063: NumbaDeprecationWarning: \u001b[1mThe 'nopython' keyword argument was not supplied to the 'numba.jit' decorator. The implicit default value for this argument is currently False, but it will be changed to True in Numba 0.59.0. See https://numba.readthedocs.io/en/stable/reference/deprecation.html#deprecation-of-object-mode-fall-back-behaviour-when-using-jit for details.\u001b[0m\n",
      "  @numba.jit()\n",
      "c:\\Users\\wma22\\anaconda3\\envs\\tap\\lib\\site-packages\\umap\\distances.py:1071: NumbaDeprecationWarning: \u001b[1mThe 'nopython' keyword argument was not supplied to the 'numba.jit' decorator. The implicit default value for this argument is currently False, but it will be changed to True in Numba 0.59.0. See https://numba.readthedocs.io/en/stable/reference/deprecation.html#deprecation-of-object-mode-fall-back-behaviour-when-using-jit for details.\u001b[0m\n",
      "  @numba.jit()\n",
      "c:\\Users\\wma22\\anaconda3\\envs\\tap\\lib\\site-packages\\umap\\distances.py:1086: NumbaDeprecationWarning: \u001b[1mThe 'nopython' keyword argument was not supplied to the 'numba.jit' decorator. The implicit default value for this argument is currently False, but it will be changed to True in Numba 0.59.0. See https://numba.readthedocs.io/en/stable/reference/deprecation.html#deprecation-of-object-mode-fall-back-behaviour-when-using-jit for details.\u001b[0m\n",
      "  @numba.jit()\n",
      "c:\\Users\\wma22\\anaconda3\\envs\\tap\\lib\\site-packages\\umap\\umap_.py:660: NumbaDeprecationWarning: \u001b[1mThe 'nopython' keyword argument was not supplied to the 'numba.jit' decorator. The implicit default value for this argument is currently False, but it will be changed to True in Numba 0.59.0. See https://numba.readthedocs.io/en/stable/reference/deprecation.html#deprecation-of-object-mode-fall-back-behaviour-when-using-jit for details.\u001b[0m\n",
      "  @numba.jit()\n",
      "c:\\Users\\wma22\\anaconda3\\envs\\tap\\lib\\site-packages\\umap\\plot.py:203: NumbaDeprecationWarning: \u001b[1mThe 'nopython' keyword argument was not supplied to the 'numba.jit' decorator. The implicit default value for this argument is currently False, but it will be changed to True in Numba 0.59.0. See https://numba.readthedocs.io/en/stable/reference/deprecation.html#deprecation-of-object-mode-fall-back-behaviour-when-using-jit for details.\u001b[0m\n",
      "  @numba.jit()\n"
     ]
    }
   ],
   "source": [
    "import pandas as pd\n",
    "from spacy import displacy\n",
    "import spacy\n",
    "import umap\n",
    "import umap.plot\n",
    "import hdbscan"
   ]
  },
  {
   "attachments": {},
   "cell_type": "markdown",
   "id": "0010b796",
   "metadata": {},
   "source": [
    "# What is Machine Learning?\n",
    "\n",
    "Machine learning, or ML, is the process by which we train algorithms to perform specific tasks, typically on computer systems. These tasks are achieved through the use of statistical methods and neural networks. In this discussion, we won't be delving into the specifics of how machine learning works. Rather, we will focus on some of the fundamental concepts necessary to understand how to leverage machine learning algorithms and, most importantly, be aware of their expected limitations. For those interested in doing a deep dive into machine learning conceptually, the TAP Institute has resources available. In this course, we are more interested in applied machine learning.\n",
    "\n",
    "There are many types of machine learning: supervised learning, unsupervised learning, reinforcement learning, semi-supervised learning, etc. In this notebook, we will cover supervised and unsupervised learning. Regardless of the type of machine learning you are doing, everything comes down to numbers. No matter what type of data you are dealing with, from dates, weather, images, texts, etc---everything must be reduced to a number.\n",
    "\n",
    "How do we convert text into numbers?\n",
    "\n",
    "# Text as Numbers\n",
    "\n",
    "We have a lot of different methods for doing this. An older approach is known as a bag-of-words approach, often abbreviated to BoW. This is where we assign each word to an integer, often beginning at 1 and moving up each time a new word is discovered in the corpus. We can then convert any text in our corpus into a numerical vector by indicating the presence or absence of a given word in a text. This would be known as a document embedding. Each word would receive a 1 (True) if the text used that word or a 0 (False) if it did not.\n",
    "\n",
    "Let's consider this bag of words example:\n",
    "\n",
    "\n",
    "| Word    | Vector Value |\n",
    "|---------|--------------|\n",
    "| We      |      1       |\n",
    "| have    |      2       |\n",
    "| a       |      3       |\n",
    "| lot     |      4       |\n",
    "| of      |      5       |\n",
    "| different|    6       |\n",
    "| methods |      7       |\n",
    "| for     |      8       |\n",
    "| doing   |      9       |\n",
    "| this    |     10       |\n",
    "\n",
    "This is all the words we have in our bag of words. Each has a unique integer. Now, let's take a look at three sentences:\n",
    "\n",
    "1. \"We have a lot of methods for doing this.\"\n",
    "2. \"This method does not require a lot of resources.\"\n",
    "3. \"There are a lot of ways to approach this.\"\n",
    "\n",
    "For sentence 1, the corresponding bag-of-words vector might be [1, 1, 1, 1, 1, 1, 1, 1, 1, 1], because all the words from our table are present in this sentence.\n",
    "\n",
    "For sentence 2, the bag-of-words vector might be [0, 0, 1, 1, 1, 0, 0, 0, 0, 1]. This indicates that 'We', 'have', 'different', 'methods', 'for', and 'doing' are absent (0), while 'a', 'lot', 'of', and 'this' are present (1).\n",
    "\n",
    "For sentence 3, the bag-of-words vector might be [1, 0, 1, 1, 1, 1, 0, 0, 0, 1]. 'We', 'have', 'methods', 'for', and 'doing' are absent (0), whereas 'a', 'lot', 'of', 'different', and 'this' are present (1).\n",
    "\n",
    "## Limitations of Bag-of-Words\n",
    "\n",
    "Bag of words are great for certain tasks and are still used today, notably in LDA Topic Modeling (we will see a new version of this below). However, bag of words suffer from two major limitations. First, the numbers themselves do not correspond to meaning. Consider the following example:\n",
    "\n",
    "| Word    | Vector Value |\n",
    "|---------|--------------|\n",
    "| Apple   |      2       |\n",
    "| Chair   |      3       |\n",
    "| Cat     |      4       |\n",
    "| Car     |      5       |\n",
    "| Book    |      6       |\n",
    "| Bicycle |      7       |\n",
    "\n",
    "In this example, 'Apple' is assigned the value 2, 'Chair' is assigned the value 3, 'Cat' is assigned the value 4, 'Car' is assigned the value 5, 'Book' is assigned the value 6, and 'Bicycle' is assigned the value 7. However, these numbers do not imply any meaningful connection or similarity between these words. The numerical representations are purely arbitrary, bearing no inherent semantic relationship.\n",
    "\n",
    "Second, we do not have any context. We do not know the word order; we do not know what words surround this word; we do not know how it used. How then, can we capture semantic and syntactic meaning in a bag-of-words system? The answer is that we really can't. This is where word vectors come into play.\n",
    "\n",
    "# What is a Word Vector?\n",
    "\n",
    "When working with texts, the backbone of all machine learning lies in quality word vectors. Word vectors, or word embeddings, are complex numerical representations of text that ideally contain semantic and syntactic information. A vector is created via a language model that has examined large quantities of texts and learned what specific words mean relative to other words. Words that have similar usages will have similar numerical values.\n",
    "\n",
    "It should be emphasized similar usages does not correlate to synonyms. In the context of Harry Potter, for example, Hufflepuff and Slytherin may be mapped close to each other in a lnaguage model, but these are completely opposite houses in Harry Potter. Why would they be mapped close to each other? Because they frequently appear in similar contexts and are linked by a larger conceptually idea of a Hogwarts House.\n",
    "\n",
    "Throughout this notebook, we will learn about word vectors as we learn about machine learning concepts. For now, let's dive into word vectors with our Lord of the Rings text. For now, let's open up our data and jump in to learn about word vectors, unsupervised learning, and supervised learning within the context of spaCy.\n",
    "\n",
    "# Loading our Data"
   ]
  },
  {
   "cell_type": "code",
   "execution_count": 2,
   "id": "d56dfc85",
   "metadata": {},
   "outputs": [],
   "source": [
    "with open(\"../data/lotr.txt\", \"r\") as f:\n",
    "    text = f.read().strip()"
   ]
  },
  {
   "cell_type": "code",
   "execution_count": 3,
   "id": "ee497d84",
   "metadata": {},
   "outputs": [
    {
     "data": {
      "text/plain": [
       "'Next day Frodo woke early, feeling refreshed and well. He walked along the terraces above the loud-flowing Bruinen and watched the pale, cool sun rise above the far mountains, and shine down. Slanting through the thin silver mist; the dew upon the ye'"
      ]
     },
     "execution_count": 3,
     "metadata": {},
     "output_type": "execute_result"
    }
   ],
   "source": [
    "text[:250]"
   ]
  },
  {
   "attachments": {},
   "cell_type": "markdown",
   "id": "65970664",
   "metadata": {},
   "source": [
    "For this notebook, we will use the large model from spaCy, but these precise same steps can be done with the large model. The transformer model requires a few extra steps to perform similar tasks."
   ]
  },
  {
   "cell_type": "code",
   "execution_count": 7,
   "id": "6dbfbf7b",
   "metadata": {},
   "outputs": [],
   "source": [
    "nlp = spacy.load(\"en_core_web_lg\")"
   ]
  },
  {
   "cell_type": "code",
   "execution_count": 8,
   "id": "05f76843",
   "metadata": {},
   "outputs": [],
   "source": [
    "doc = nlp(text[:2500])"
   ]
  },
  {
   "cell_type": "code",
   "execution_count": 9,
   "id": "4ce465d1",
   "metadata": {},
   "outputs": [
    {
     "data": {
      "text/html": [
       "<span class=\"tex2jax_ignore\"><div class=\"entities\" style=\"line-height: 2.5; direction: ltr\">\n",
       "<mark class=\"entity\" style=\"background: #bfe1d9; padding: 0.45em 0.6em; margin: 0 0.25em; line-height: 1; border-radius: 0.35em;\">\n",
       "    Next day\n",
       "    <span style=\"font-size: 0.8em; font-weight: bold; line-height: 1; border-radius: 0.35em; vertical-align: middle; margin-left: 0.5rem\">DATE</span>\n",
       "</mark>\n",
       " \n",
       "<mark class=\"entity\" style=\"background: #aa9cfc; padding: 0.45em 0.6em; margin: 0 0.25em; line-height: 1; border-radius: 0.35em;\">\n",
       "    Frodo\n",
       "    <span style=\"font-size: 0.8em; font-weight: bold; line-height: 1; border-radius: 0.35em; vertical-align: middle; margin-left: 0.5rem\">PERSON</span>\n",
       "</mark>\n",
       " woke early, feeling refreshed and well. He walked along the terraces above the loud-flowing \n",
       "<mark class=\"entity\" style=\"background: #aa9cfc; padding: 0.45em 0.6em; margin: 0 0.25em; line-height: 1; border-radius: 0.35em;\">\n",
       "    Bruinen\n",
       "    <span style=\"font-size: 0.8em; font-weight: bold; line-height: 1; border-radius: 0.35em; vertical-align: middle; margin-left: 0.5rem\">PERSON</span>\n",
       "</mark>\n",
       " and watched the pale, cool sun rise above the far mountains, and shine down. Slanting through the thin silver mist; the dew upon the yellow leaves was glimmering, and the woven nets of gossamer twinkled on every bush. \n",
       "<mark class=\"entity\" style=\"background: #aa9cfc; padding: 0.45em 0.6em; margin: 0 0.25em; line-height: 1; border-radius: 0.35em;\">\n",
       "    Sam\n",
       "    <span style=\"font-size: 0.8em; font-weight: bold; line-height: 1; border-radius: 0.35em; vertical-align: middle; margin-left: 0.5rem\">PERSON</span>\n",
       "</mark>\n",
       " walked beside him, saying nothing. but sniffing the air, and looking every now and again with wonder in his eyes at the great heights in the \n",
       "<mark class=\"entity\" style=\"background: #ff9561; padding: 0.45em 0.6em; margin: 0 0.25em; line-height: 1; border-radius: 0.35em;\">\n",
       "    East\n",
       "    <span style=\"font-size: 0.8em; font-weight: bold; line-height: 1; border-radius: 0.35em; vertical-align: middle; margin-left: 0.5rem\">LOC</span>\n",
       "</mark>\n",
       ". The snow was white upon their peaks.</br>     On a seat cut in the stone beside a turn in the path they came upon \n",
       "<mark class=\"entity\" style=\"background: #aa9cfc; padding: 0.45em 0.6em; margin: 0 0.25em; line-height: 1; border-radius: 0.35em;\">\n",
       "    Gandalf\n",
       "    <span style=\"font-size: 0.8em; font-weight: bold; line-height: 1; border-radius: 0.35em; vertical-align: middle; margin-left: 0.5rem\">PERSON</span>\n",
       "</mark>\n",
       " and \n",
       "<mark class=\"entity\" style=\"background: #aa9cfc; padding: 0.45em 0.6em; margin: 0 0.25em; line-height: 1; border-radius: 0.35em;\">\n",
       "    Bilbo\n",
       "    <span style=\"font-size: 0.8em; font-weight: bold; line-height: 1; border-radius: 0.35em; vertical-align: middle; margin-left: 0.5rem\">PERSON</span>\n",
       "</mark>\n",
       " deep in talk. `\n",
       "<mark class=\"entity\" style=\"background: #7aecec; padding: 0.45em 0.6em; margin: 0 0.25em; line-height: 1; border-radius: 0.35em;\">\n",
       "    Hullo\n",
       "    <span style=\"font-size: 0.8em; font-weight: bold; line-height: 1; border-radius: 0.35em; vertical-align: middle; margin-left: 0.5rem\">ORG</span>\n",
       "</mark>\n",
       "! Good morning!' said \n",
       "<mark class=\"entity\" style=\"background: #aa9cfc; padding: 0.45em 0.6em; margin: 0 0.25em; line-height: 1; border-radius: 0.35em;\">\n",
       "    Bilbo\n",
       "    <span style=\"font-size: 0.8em; font-weight: bold; line-height: 1; border-radius: 0.35em; vertical-align: middle; margin-left: 0.5rem\">PERSON</span>\n",
       "</mark>\n",
       ". `Feel ready for the great council?'</br>     `I feel ready for anything,' answered \n",
       "<mark class=\"entity\" style=\"background: #aa9cfc; padding: 0.45em 0.6em; margin: 0 0.25em; line-height: 1; border-radius: 0.35em;\">\n",
       "    Frodo\n",
       "    <span style=\"font-size: 0.8em; font-weight: bold; line-height: 1; border-radius: 0.35em; vertical-align: middle; margin-left: 0.5rem\">PERSON</span>\n",
       "</mark>\n",
       ". `But most of all I should like to go walking \n",
       "<mark class=\"entity\" style=\"background: #bfe1d9; padding: 0.45em 0.6em; margin: 0 0.25em; line-height: 1; border-radius: 0.35em;\">\n",
       "    today\n",
       "    <span style=\"font-size: 0.8em; font-weight: bold; line-height: 1; border-radius: 0.35em; vertical-align: middle; margin-left: 0.5rem\">DATE</span>\n",
       "</mark>\n",
       " and explore the valley. I should like to get into those pine-woods up there.' He pointed away far up the side of \n",
       "<mark class=\"entity\" style=\"background: #7aecec; padding: 0.45em 0.6em; margin: 0 0.25em; line-height: 1; border-radius: 0.35em;\">\n",
       "    Rivendell\n",
       "    <span style=\"font-size: 0.8em; font-weight: bold; line-height: 1; border-radius: 0.35em; vertical-align: middle; margin-left: 0.5rem\">ORG</span>\n",
       "</mark>\n",
       " to the north.</br>     'You may have a chance later,' said \n",
       "<mark class=\"entity\" style=\"background: #aa9cfc; padding: 0.45em 0.6em; margin: 0 0.25em; line-height: 1; border-radius: 0.35em;\">\n",
       "    Gandalf\n",
       "    <span style=\"font-size: 0.8em; font-weight: bold; line-height: 1; border-radius: 0.35em; vertical-align: middle; margin-left: 0.5rem\">PERSON</span>\n",
       "</mark>\n",
       ". `But we cannot make any plans yet. There is much to hear and decide \n",
       "<mark class=\"entity\" style=\"background: #bfe1d9; padding: 0.45em 0.6em; margin: 0 0.25em; line-height: 1; border-radius: 0.35em;\">\n",
       "    today\n",
       "    <span style=\"font-size: 0.8em; font-weight: bold; line-height: 1; border-radius: 0.35em; vertical-align: middle; margin-left: 0.5rem\">DATE</span>\n",
       "</mark>\n",
       ".'</br>     Suddenly as they were talking a single clear bell rang out. `That is the warning bell for \n",
       "<mark class=\"entity\" style=\"background: #7aecec; padding: 0.45em 0.6em; margin: 0 0.25em; line-height: 1; border-radius: 0.35em;\">\n",
       "    the Council of Elrond\n",
       "    <span style=\"font-size: 0.8em; font-weight: bold; line-height: 1; border-radius: 0.35em; vertical-align: middle; margin-left: 0.5rem\">ORG</span>\n",
       "</mark>\n",
       ",' cried \n",
       "<mark class=\"entity\" style=\"background: #aa9cfc; padding: 0.45em 0.6em; margin: 0 0.25em; line-height: 1; border-radius: 0.35em;\">\n",
       "    Gandalf\n",
       "    <span style=\"font-size: 0.8em; font-weight: bold; line-height: 1; border-radius: 0.35em; vertical-align: middle; margin-left: 0.5rem\">PERSON</span>\n",
       "</mark>\n",
       ". `Come along now! Both you and \n",
       "<mark class=\"entity\" style=\"background: #aa9cfc; padding: 0.45em 0.6em; margin: 0 0.25em; line-height: 1; border-radius: 0.35em;\">\n",
       "    Bilbo\n",
       "    <span style=\"font-size: 0.8em; font-weight: bold; line-height: 1; border-radius: 0.35em; vertical-align: middle; margin-left: 0.5rem\">PERSON</span>\n",
       "</mark>\n",
       " are wanted.'</br>     \n",
       "<mark class=\"entity\" style=\"background: #aa9cfc; padding: 0.45em 0.6em; margin: 0 0.25em; line-height: 1; border-radius: 0.35em;\">\n",
       "    Frodo\n",
       "    <span style=\"font-size: 0.8em; font-weight: bold; line-height: 1; border-radius: 0.35em; vertical-align: middle; margin-left: 0.5rem\">PERSON</span>\n",
       "</mark>\n",
       " and \n",
       "<mark class=\"entity\" style=\"background: #aa9cfc; padding: 0.45em 0.6em; margin: 0 0.25em; line-height: 1; border-radius: 0.35em;\">\n",
       "    Bilbo\n",
       "    <span style=\"font-size: 0.8em; font-weight: bold; line-height: 1; border-radius: 0.35em; vertical-align: middle; margin-left: 0.5rem\">PERSON</span>\n",
       "</mark>\n",
       " followed the wizard quickly along the winding path back to the house; behind them, uninvited and for the moment forgotten, trotted \n",
       "<mark class=\"entity\" style=\"background: #aa9cfc; padding: 0.45em 0.6em; margin: 0 0.25em; line-height: 1; border-radius: 0.35em;\">\n",
       "    Sam\n",
       "    <span style=\"font-size: 0.8em; font-weight: bold; line-height: 1; border-radius: 0.35em; vertical-align: middle; margin-left: 0.5rem\">PERSON</span>\n",
       "</mark>\n",
       ".</br>     \n",
       "<mark class=\"entity\" style=\"background: #aa9cfc; padding: 0.45em 0.6em; margin: 0 0.25em; line-height: 1; border-radius: 0.35em;\">\n",
       "    Gandalf\n",
       "    <span style=\"font-size: 0.8em; font-weight: bold; line-height: 1; border-radius: 0.35em; vertical-align: middle; margin-left: 0.5rem\">PERSON</span>\n",
       "</mark>\n",
       " led them to the porch where \n",
       "<mark class=\"entity\" style=\"background: #aa9cfc; padding: 0.45em 0.6em; margin: 0 0.25em; line-height: 1; border-radius: 0.35em;\">\n",
       "    Frodo\n",
       "    <span style=\"font-size: 0.8em; font-weight: bold; line-height: 1; border-radius: 0.35em; vertical-align: middle; margin-left: 0.5rem\">PERSON</span>\n",
       "</mark>\n",
       " had found his friends the evening before. The light of the clear \n",
       "<mark class=\"entity\" style=\"background: #bfe1d9; padding: 0.45em 0.6em; margin: 0 0.25em; line-height: 1; border-radius: 0.35em;\">\n",
       "    autumn morning\n",
       "    <span style=\"font-size: 0.8em; font-weight: bold; line-height: 1; border-radius: 0.35em; vertical-align: middle; margin-left: 0.5rem\">TIME</span>\n",
       "</mark>\n",
       " was now glowing in the valley. The noise of bubbling waters came up from the foaming river-bed. Birds were singing, and a wholesome peace lay on the land. To \n",
       "<mark class=\"entity\" style=\"background: #aa9cfc; padding: 0.45em 0.6em; margin: 0 0.25em; line-height: 1; border-radius: 0.35em;\">\n",
       "    Frodo\n",
       "    <span style=\"font-size: 0.8em; font-weight: bold; line-height: 1; border-radius: 0.35em; vertical-align: middle; margin-left: 0.5rem\">PERSON</span>\n",
       "</mark>\n",
       " his dangerous flight, and the rumours of the darkness growing in the world outside, already seemed only the memories of a troubled dream; but the faces that were turned to meet them as they entered were grave.</br>     Elrond was there, and several others were seated in silence about him. \n",
       "<mark class=\"entity\" style=\"background: #aa9cfc; padding: 0.45em 0.6em; margin: 0 0.25em; line-height: 1; border-radius: 0.35em;\">\n",
       "    Frodo\n",
       "    <span style=\"font-size: 0.8em; font-weight: bold; line-height: 1; border-radius: 0.35em; vertical-align: middle; margin-left: 0.5rem\">PERSON</span>\n",
       "</mark>\n",
       " saw \n",
       "<mark class=\"entity\" style=\"background: #aa9cfc; padding: 0.45em 0.6em; margin: 0 0.25em; line-height: 1; border-radius: 0.35em;\">\n",
       "    Glorfindel\n",
       "    <span style=\"font-size: 0.8em; font-weight: bold; line-height: 1; border-radius: 0.35em; vertical-align: middle; margin-left: 0.5rem\">PERSON</span>\n",
       "</mark>\n",
       " and \n",
       "<mark class=\"entity\" style=\"background: #aa9cfc; padding: 0.45em 0.6em; margin: 0 0.25em; line-height: 1; border-radius: 0.35em;\">\n",
       "    Glóin\n",
       "    <span style=\"font-size: 0.8em; font-weight: bold; line-height: 1; border-radius: 0.35em; vertical-align: middle; margin-left: 0.5rem\">PERSON</span>\n",
       "</mark>\n",
       "; and in a corner alone \n",
       "<mark class=\"entity\" style=\"background: #9cc9cc; padding: 0.45em 0.6em; margin: 0 0.25em; line-height: 1; border-radius: 0.35em;\">\n",
       "    Strider\n",
       "    <span style=\"font-size: 0.8em; font-weight: bold; line-height: 1; border-radius: 0.35em; vertical-align: middle; margin-left: 0.5rem\">FAC</span>\n",
       "</mark>\n",
       " was sitting, clad in his old travel-worn clothes again. Elrond drew \n",
       "<mark class=\"entity\" style=\"background: #aa9cfc; padding: 0.45em 0.6em; margin: 0 0.25em; line-height: 1; border-radius: 0.35em;\">\n",
       "    Frodo\n",
       "    <span style=\"font-size: 0.8em; font-weight: bold; line-height: 1; border-radius: 0.35em; vertical-align: middle; margin-left: 0.5rem\">PERSON</span>\n",
       "</mark>\n",
       " to a seat by his side, and presented him to the company, saying:</br>     'Here, my friends is the hobbit, \n",
       "<mark class=\"entity\" style=\"background: #aa9cfc; padding: 0.45em 0.6em; margin: 0 0.25em; line-height: 1; border-radius: 0.35em;\">\n",
       "    Frodo\n",
       "    <span style=\"font-size: 0.8em; font-weight: bold; line-height: 1; border-radius: 0.35em; vertical-align: middle; margin-left: 0.5rem\">PERSON</span>\n",
       "</mark>\n",
       " son of \n",
       "<mark class=\"entity\" style=\"background: #7aecec; padding: 0.45em 0.6em; margin: 0 0.25em; line-height: 1; border-radius: 0.35em;\">\n",
       "    Drogo\n",
       "    <span style=\"font-size: 0.8em; font-weight: bold; line-height: 1; border-radius: 0.35em; vertical-align: middle; margin-left: 0.5rem\">ORG</span>\n",
       "</mark>\n",
       ". Few have ever come hither through greater peril or on an errand more urgent.'</br>     He then pointed out and named those whom \n",
       "<mark class=\"entity\" style=\"background: #aa9cfc; padding: 0.45em 0.6em; margin: 0 0.25em; line-height: 1; border-radius: 0.35em;\">\n",
       "    Frodo\n",
       "    <span style=\"font-size: 0.8em; font-weight: bold; line-height: 1; border-radius: 0.35em; vertical-align: middle; margin-left: 0.5rem\">PERSON</span>\n",
       "</mark>\n",
       " had not met before. There was a younger dwarf at \n",
       "<mark class=\"entity\" style=\"background: #aa9cfc; padding: 0.45em 0.6em; margin: 0 0.25em; line-height: 1; border-radius: 0.35em;\">\n",
       "    Glóin\n",
       "    <span style=\"font-size: 0.8em; font-weight: bold; line-height: 1; border-radius: 0.35em; vertical-align: middle; margin-left: 0.5rem\">PERSON</span>\n",
       "</mark>\n",
       "'s side: his son \n",
       "<mark class=\"entity\" style=\"background: #aa9cfc; padding: 0.45em 0.6em; margin: 0 0.25em; line-height: 1; border-radius: 0.35em;\">\n",
       "    Gimli\n",
       "    <span style=\"font-size: 0.8em; font-weight: bold; line-height: 1; border-radius: 0.35em; vertical-align: middle; margin-left: 0.5rem\">PERSON</span>\n",
       "</mark>\n",
       ". Beside \n",
       "<mark class=\"entity\" style=\"background: #aa9cfc; padding: 0.45em 0.6em; margin: 0 0.25em; line-height: 1; border-radius: 0.35em;\">\n",
       "    Glorfindel\n",
       "    <span style=\"font-size: 0.8em; font-weight: bold; line-height: 1; border-radius: 0.35em; vertical-align: middle; margin-left: 0.5rem\">PERSON</span>\n",
       "</mark>\n",
       " there were several other counsellors </div></span>"
      ],
      "text/plain": [
       "<IPython.core.display.HTML object>"
      ]
     },
     "metadata": {},
     "output_type": "display_data"
    }
   ],
   "source": [
    "displacy.render(doc, style=\"ent\")"
   ]
  },
  {
   "attachments": {},
   "cell_type": "markdown",
   "id": "e5c656be",
   "metadata": {},
   "source": [
    "Let's now take a look at our first token, `Next`."
   ]
  },
  {
   "cell_type": "code",
   "execution_count": 10,
   "id": "109e4d78",
   "metadata": {},
   "outputs": [
    {
     "data": {
      "text/plain": [
       "Next"
      ]
     },
     "execution_count": 10,
     "metadata": {},
     "output_type": "execute_result"
    }
   ],
   "source": [
    "doc[0]"
   ]
  },
  {
   "attachments": {},
   "cell_type": "markdown",
   "id": "4bfb53a6",
   "metadata": {},
   "source": [
    "We can examine its vector by using `.vector`"
   ]
  },
  {
   "cell_type": "code",
   "execution_count": 11,
   "id": "94eb926e",
   "metadata": {},
   "outputs": [
    {
     "data": {
      "text/plain": [
       "array([ 4.2548e+00,  2.2683e+00,  3.4192e-01,  8.2185e-01,  2.6180e+00,\n",
       "        7.1039e-01,  2.7235e+00, -6.7638e+00, -1.6919e+00,  3.4654e+00,\n",
       "       -3.7925e+00,  7.1899e-01, -3.0703e+00,  3.1620e+00,  7.0921e-01,\n",
       "       -2.2752e+00,  7.4683e+00, -3.2189e+00, -1.1463e+00,  1.8504e+00,\n",
       "        3.3196e+00, -1.4895e+00, -5.5471e-01, -2.2209e+00, -1.5973e+00,\n",
       "        1.1304e+00, -2.8108e+00,  1.4556e+00,  3.2572e-01, -2.1483e+00,\n",
       "       -4.9284e-01, -9.2520e-01,  6.8067e+00, -5.7165e-01, -6.4473e-01,\n",
       "       -2.3307e+00,  4.5853e+00, -2.1048e+00,  6.3594e+00, -6.1270e+00,\n",
       "        2.7494e+00,  1.7652e+00,  1.5085e+00, -8.3084e-01,  1.9338e+00,\n",
       "        8.2901e-01,  2.0734e+00,  2.3365e+00, -3.1395e+00, -3.1849e+00,\n",
       "       -3.4746e-01,  1.9683e+00, -8.7075e-02,  5.0254e+00, -1.0625e+00,\n",
       "        1.6349e+00, -3.3562e+00, -4.3922e+00, -2.4778e+00, -1.8952e-01,\n",
       "       -5.7118e-01,  4.2802e+00,  9.2652e-01,  4.1542e+00, -1.5395e+00,\n",
       "        7.3048e-01, -2.8550e+00, -2.2293e+00,  3.1623e+00,  8.3851e-01,\n",
       "       -3.0523e+00,  2.3203e+00,  2.3612e+00, -2.6360e+00,  2.0458e+00,\n",
       "        6.2374e-01,  7.8629e+00, -4.7822e-01,  1.8515e+00,  5.2511e-02,\n",
       "        4.3230e+00, -1.4062e+00,  2.2049e+00, -1.0039e+00,  5.9820e-02,\n",
       "       -1.3906e+00,  2.2677e+00,  1.1391e+00,  2.9810e+00, -1.7891e+00,\n",
       "       -1.8844e+00, -1.9925e-01, -2.1773e+00,  5.6147e+00, -2.3783e+00,\n",
       "        6.7007e-01,  3.4219e+00,  1.9209e+00, -5.5405e+00,  4.3711e+00,\n",
       "       -3.9887e+00, -2.4297e+00,  3.2544e+00, -1.9363e+00, -1.5147e+00,\n",
       "        1.9197e+00,  7.9066e-01,  6.6786e-01, -1.3138e+00, -1.3098e+00,\n",
       "        3.4888e+00,  4.1853e+00, -1.6037e+00,  3.4366e-01,  2.2225e+00,\n",
       "        6.9746e-01,  2.8235e+00, -1.3091e+00, -1.9839e+00, -2.1465e+00,\n",
       "       -3.9620e+00, -1.3763e+00, -2.7323e-02,  5.1830e-01,  4.1155e+00,\n",
       "        3.5670e+00,  5.0662e+00,  2.4883e+00, -7.2541e-01, -7.8960e-01,\n",
       "       -8.5865e+00, -1.5725e+00,  5.6306e-01, -1.8703e-01,  2.1198e+00,\n",
       "       -1.9243e+00,  1.2849e+00,  2.1139e+00, -2.0809e-01, -1.2899e+00,\n",
       "        2.8549e+00, -6.8356e-01,  2.4937e+00,  2.9387e+00, -1.6041e+00,\n",
       "        3.2891e+00,  1.5862e+00,  2.4971e-01, -1.6078e+00, -4.0711e+00,\n",
       "       -9.4551e-01,  4.1569e+00, -2.1907e+00, -5.0509e+00, -1.1180e+00,\n",
       "       -2.0034e+00, -8.3386e-01,  3.2949e+00,  2.0160e+00, -7.2467e-01,\n",
       "        2.3425e+00,  5.3018e+00, -1.7338e+00,  4.0405e-01, -8.4848e-01,\n",
       "       -1.0927e+00, -1.8809e-01, -2.3436e+00,  2.9586e+00,  2.2107e+00,\n",
       "       -3.0621e+00, -3.3172e+00,  3.1178e+00,  8.7046e-01, -1.1572e-01,\n",
       "        1.1446e+00, -3.6269e+00, -4.4699e+00, -1.6752e+00,  8.8778e-01,\n",
       "       -1.1565e+00,  4.4291e+00,  2.1764e+00, -3.1175e+00, -4.7241e+00,\n",
       "       -4.5340e-03,  1.5136e+00, -3.9359e-01,  6.4769e-01,  1.8053e+00,\n",
       "       -2.6650e+00,  3.3415e+00,  1.6435e+00,  2.1673e+00, -8.9917e-01,\n",
       "        1.6238e+00,  6.1833e-01, -8.6242e-01, -6.4411e+00, -2.6173e+00,\n",
       "       -2.3010e+00,  2.8956e-01,  2.2708e+00,  1.0498e-01, -4.6611e-02,\n",
       "        1.4494e+00,  9.7338e-01,  1.9259e+00,  2.5665e+00, -1.4327e-01,\n",
       "        7.3397e-01, -3.8257e-01, -6.2459e-01, -1.5497e+00,  2.0379e+00,\n",
       "        8.1731e-01, -6.3330e-01, -8.5979e-01, -2.9931e+00, -1.4826e+00,\n",
       "       -2.6355e+00,  2.0754e+00, -5.3835e-01,  1.5959e+00, -1.5103e+00,\n",
       "        6.3352e-02,  2.4779e+00, -1.2816e+00, -5.6570e+00, -1.4882e+00,\n",
       "       -6.6961e-01,  6.1715e-01, -2.1908e+00, -4.5758e+00, -4.2282e-01,\n",
       "       -3.4312e+00, -1.9377e-01, -1.6035e+00,  5.2630e+00, -2.3983e+00,\n",
       "       -1.0972e+00, -1.5296e-01, -1.2442e-01, -1.2689e+00, -5.1001e-02,\n",
       "        1.2090e+00, -2.4379e+00,  2.2441e+00, -4.7968e+00, -9.9853e-01,\n",
       "        5.2269e+00,  1.0613e+00,  8.7998e-01,  8.2258e-01, -1.9825e+00,\n",
       "       -2.4919e+00,  3.1651e+00, -1.7035e-01, -3.0741e+00,  3.7411e-01,\n",
       "        2.9974e+00, -1.1662e+00, -2.3729e+00,  4.2028e+00,  3.6723e+00,\n",
       "        7.4976e-01, -4.7027e-01, -4.8510e+00,  1.0107e+00, -3.1142e+00,\n",
       "       -1.9164e+00, -1.3591e+00,  2.5266e+00, -4.4899e-01,  5.3686e+00,\n",
       "       -3.8075e+00, -2.2213e+00,  2.9789e+00, -5.3800e-01, -1.7638e+00,\n",
       "       -1.3246e+00,  3.6415e+00, -2.0605e+00,  3.2290e-01,  1.8595e+00,\n",
       "       -2.1040e+00,  3.1859e+00, -2.1193e+00,  2.3323e+00, -1.2390e+00,\n",
       "        3.3805e+00,  4.1530e-01,  1.6038e+00,  2.7023e+00,  1.7363e+00,\n",
       "       -5.8332e-01,  1.6387e+00,  1.6776e+00, -3.2039e+00,  1.3673e+00],\n",
       "      dtype=float32)"
      ]
     },
     "execution_count": 11,
     "metadata": {},
     "output_type": "execute_result"
    }
   ],
   "source": [
    "doc[0].vector"
   ]
  },
  {
   "attachments": {},
   "cell_type": "markdown",
   "id": "d4b3ea22",
   "metadata": {},
   "source": [
    "Believe it or not, this complex numerical value corresponds to the meaning of the word `Next`, relative to all other words the model has learned. In spaCy, each container has a vector. This is often done through averaging. We can average the word vectors of a given sentences and capture its meaning in a single vector.\n",
    "\n",
    "## First Exercise: Grab the Vector for the First Sentence"
   ]
  },
  {
   "cell_type": "code",
   "execution_count": null,
   "id": "a87f2199",
   "metadata": {},
   "outputs": [],
   "source": []
  },
  {
   "cell_type": "markdown",
   "id": "c541db9d",
   "metadata": {},
   "source": [
    "## Second Exercise: Grab the Vector for the Entire Doc"
   ]
  },
  {
   "cell_type": "code",
   "execution_count": null,
   "id": "5c6f2672",
   "metadata": {},
   "outputs": [],
   "source": []
  },
  {
   "cell_type": "markdown",
   "id": "69618cb0",
   "metadata": {},
   "source": [
    "# Mapping Similarity between Docs with Document Embeddings"
   ]
  },
  {
   "cell_type": "code",
   "execution_count": 12,
   "id": "fcfcd460",
   "metadata": {},
   "outputs": [
    {
     "data": {
      "text/plain": [
       "0.8377715264038166"
      ]
     },
     "execution_count": 12,
     "metadata": {},
     "output_type": "execute_result"
    }
   ],
   "source": [
    "doc1 = nlp(\"Kate plays basketball.\")\n",
    "doc2 = nlp(\"John plays basketball.\")\n",
    "\n",
    "doc1.similarity(doc2)"
   ]
  },
  {
   "attachments": {},
   "cell_type": "markdown",
   "id": "96c65d87",
   "metadata": {},
   "source": [
    "The output is a float that corresponds to the degree of similarity. This number should be understood in context. In some corpora and with some language models this may mean very similar, while in other contexts this number may indicate the same level of similarity.\n",
    "\n",
    "Let's look at two different types of texts."
   ]
  },
  {
   "cell_type": "code",
   "execution_count": 13,
   "id": "41f7938e",
   "metadata": {},
   "outputs": [
    {
     "data": {
      "text/plain": [
       "0.30777365263215983"
      ]
     },
     "execution_count": 13,
     "metadata": {},
     "output_type": "execute_result"
    }
   ],
   "source": [
    "doc1 = nlp(\"Kate plays basketball.\")\n",
    "doc2 = nlp(\"Congress passes bills.\")\n",
    "\n",
    "doc1.similarity(doc2)"
   ]
  },
  {
   "attachments": {},
   "cell_type": "markdown",
   "id": "d4c85bab",
   "metadata": {},
   "source": [
    "Notice that our scores are much different. This difference indicates that our second example has two texts that are less similar than our those of our example. I would agree with this."
   ]
  },
  {
   "attachments": {},
   "cell_type": "markdown",
   "id": "68b1fa9a",
   "metadata": {},
   "source": [
    "\n",
    "\n",
    "# Unsupervised Learning\n",
    "\n",
    "Unsupervised learning is a method of machine learning where we do not know the labels of our data. Our goal in unsupervised learning is to pass off the task of labeling to an algorithm. This algorithm's sole purpose is to identify overlapping patterns in our data. It examines the features of our data and identifies clusters, or groupings that overlapping similarity.\n",
    "\n",
    "A good example of unsupervised learning in the humanities is topic modeling. This was original designed in the sciences but has since been applied by humanists to texts. The goal of topic modeling is to find latent, or hidden, clusters of texts within a corpus. In this context, we do not know the labels of our data. Instead, we want a computer system to identify the labels for us. Depending on the method of topic modeling being applied, the user often times needs to assign a number of topics for the algorithm to identify.\n",
    "\n",
    "The features of a text in topic modeling are words. Their usage in a text are what allow a model to identify similarity between texts. We can mimic this process here. How would you classify these topics? I want you to put them into 2 categories.\n",
    "\n",
    "Assign the following texts into categories.\n",
    "\n",
    "1. The Boston Celtics won the championship.\n",
    "2. The Dallas Cowboys lost in overtime.\n",
    "3. Basketball is a sport enjoyed worldwide.\n",
    "4. The Senator from Florida voted against the bill.\n",
    "5. The Congressperson from New Hampshire is leaving office.\n",
    "6. A bill is a type of legal document.\n",
    "\n",
    "\n",
    "\n",
    "Now, what if I asked you to put these into 3 categories? How would you do it? In unsupervised learning, we try to do something similar. We pass a group of unlabeled data to an algorithm like a topic model and expect an output of labeled data. This is a great way to get an overview of large amounts of data."
   ]
  },
  {
   "cell_type": "code",
   "execution_count": 14,
   "id": "9afc2eac",
   "metadata": {},
   "outputs": [],
   "source": [
    "docs = [\n",
    "\n",
    "    \"Kate plays basketball.\",\n",
    "    \"A good basketball team are the Celtics.\",\n",
    "    \"Basketball is a sport enjoyed worldwide.\",\n",
    "    \"Congress passes bills.\",\n",
    "    \"Congress creates bills.\",\n",
    "    \"Congress is in the US Government.\",\n",
    "    \"THe US has a legeslative branch called Congress\",\n",
    "    \"Basketball is a fun sport\",\n",
    "    \"I like basketball.\",\n",
    "    \"Basketball is huge in Bosnia\",\n",
    "    \"Congress has politicians.\",\n",
    "    \"Politicians work in congress.\",\n",
    "    \"Congress is based in Washington D.C.\"\n",
    "]*2\n",
    "\n",
    "\n",
    "\n",
    "embedding = umap.UMAP(densmap=True).fit([nlp(doc).vector for doc in docs])"
   ]
  },
  {
   "cell_type": "code",
   "execution_count": 15,
   "id": "17344946",
   "metadata": {},
   "outputs": [
    {
     "data": {
      "text/plain": [
       "array([[22.57952   ,  5.050589  ],\n",
       "       [20.255838  ,  5.4462147 ],\n",
       "       [20.26925   ,  4.5796533 ],\n",
       "       [18.428879  ,  2.5833676 ],\n",
       "       [18.791237  ,  2.5395339 ],\n",
       "       [15.717139  , -0.16767445],\n",
       "       [18.021948  ,  3.2823803 ],\n",
       "       [19.749296  ,  4.4947667 ],\n",
       "       [24.361214  ,  6.373431  ],\n",
       "       [15.784905  ,  0.5995926 ],\n",
       "       [17.884102  ,  2.7235157 ],\n",
       "       [16.951685  ,  0.9070659 ],\n",
       "       [16.29246   ,  0.31861186],\n",
       "       [21.724897  ,  6.451278  ],\n",
       "       [20.912218  ,  4.838094  ],\n",
       "       [19.991867  ,  4.7851377 ],\n",
       "       [18.690233  ,  2.2779043 ],\n",
       "       [18.524887  ,  2.387124  ],\n",
       "       [15.3166275 , -0.24279077],\n",
       "       [17.423235  ,  2.2686691 ],\n",
       "       [20.019346  ,  4.3651805 ],\n",
       "       [22.971472  ,  8.177449  ],\n",
       "       [15.512527  ,  0.87617725],\n",
       "       [18.172367  ,  1.9598242 ],\n",
       "       [16.524628  ,  1.238826  ],\n",
       "       [15.236548  ,  0.39921096]], dtype=float32)"
      ]
     },
     "execution_count": 15,
     "metadata": {},
     "output_type": "execute_result"
    }
   ],
   "source": [
    "embedding.embedding_"
   ]
  },
  {
   "cell_type": "code",
   "execution_count": 16,
   "id": "af27f114",
   "metadata": {},
   "outputs": [],
   "source": [
    "clusterer = hdbscan.HDBSCAN(min_cluster_size=2)\n",
    "cluster_labels = clusterer.fit_predict(embedding.embedding_)"
   ]
  },
  {
   "cell_type": "code",
   "execution_count": 17,
   "id": "f2a35bb6",
   "metadata": {},
   "outputs": [
    {
     "data": {
      "text/plain": [
       "array([ 0,  0,  0,  1,  1,  2,  1,  0, -1,  2,  1,  2,  2,  0,  0,  0,  1,\n",
       "        1,  2,  1,  0, -1,  2,  1,  2,  2], dtype=int64)"
      ]
     },
     "execution_count": 17,
     "metadata": {},
     "output_type": "execute_result"
    }
   ],
   "source": [
    "cluster_labels"
   ]
  },
  {
   "cell_type": "code",
   "execution_count": 18,
   "id": "cdb9712c",
   "metadata": {},
   "outputs": [
    {
     "data": {
      "text/plain": [
       "<Axes: >"
      ]
     },
     "execution_count": 18,
     "metadata": {},
     "output_type": "execute_result"
    },
    {
     "data": {
      "image/png": "[encoded data removed]",
      "text/plain": [
       "<Figure size 800x800 with 1 Axes>"
      ]
     },
     "metadata": {},
     "output_type": "display_data"
    }
   ],
   "source": [
    "# mapper = umap.UMAP().fit(digits.data)\n",
    "umap.plot.points(embedding, labels=cluster_labels)"
   ]
  },
  {
   "cell_type": "code",
   "execution_count": 19,
   "id": "187b8b6c",
   "metadata": {},
   "outputs": [],
   "source": [
    "df = pd.DataFrame({\"doc\": docs, \"label\": cluster_labels})"
   ]
  },
  {
   "cell_type": "code",
   "execution_count": 20,
   "id": "e2d9bce9",
   "metadata": {},
   "outputs": [
    {
     "data": {
      "text/html": [
       "<div>\n",
       "<style scoped>\n",
       "    .dataframe tbody tr th:only-of-type {\n",
       "        vertical-align: middle;\n",
       "    }\n",
       "\n",
       "    .dataframe tbody tr th {\n",
       "        vertical-align: top;\n",
       "    }\n",
       "\n",
       "    .dataframe thead th {\n",
       "        text-align: right;\n",
       "    }\n",
       "</style>\n",
       "<table border=\"1\" class=\"dataframe\">\n",
       "  <thead>\n",
       "    <tr style=\"text-align: right;\">\n",
       "      <th></th>\n",
       "      <th>doc</th>\n",
       "      <th>label</th>\n",
       "    </tr>\n",
       "  </thead>\n",
       "  <tbody>\n",
       "    <tr>\n",
       "      <th>0</th>\n",
       "      <td>Kate plays basketball.</td>\n",
       "      <td>0</td>\n",
       "    </tr>\n",
       "    <tr>\n",
       "      <th>1</th>\n",
       "      <td>A good basketball team are the Celtics.</td>\n",
       "      <td>0</td>\n",
       "    </tr>\n",
       "    <tr>\n",
       "      <th>2</th>\n",
       "      <td>Basketball is a sport enjoyed worldwide.</td>\n",
       "      <td>0</td>\n",
       "    </tr>\n",
       "    <tr>\n",
       "      <th>7</th>\n",
       "      <td>Basketball is a fun sport</td>\n",
       "      <td>0</td>\n",
       "    </tr>\n",
       "    <tr>\n",
       "      <th>13</th>\n",
       "      <td>Kate plays basketball.</td>\n",
       "      <td>0</td>\n",
       "    </tr>\n",
       "    <tr>\n",
       "      <th>14</th>\n",
       "      <td>A good basketball team are the Celtics.</td>\n",
       "      <td>0</td>\n",
       "    </tr>\n",
       "    <tr>\n",
       "      <th>15</th>\n",
       "      <td>Basketball is a sport enjoyed worldwide.</td>\n",
       "      <td>0</td>\n",
       "    </tr>\n",
       "    <tr>\n",
       "      <th>20</th>\n",
       "      <td>Basketball is a fun sport</td>\n",
       "      <td>0</td>\n",
       "    </tr>\n",
       "  </tbody>\n",
       "</table>\n",
       "</div>"
      ],
      "text/plain": [
       "                                         doc  label\n",
       "0                     Kate plays basketball.      0\n",
       "1    A good basketball team are the Celtics.      0\n",
       "2   Basketball is a sport enjoyed worldwide.      0\n",
       "7                  Basketball is a fun sport      0\n",
       "13                    Kate plays basketball.      0\n",
       "14   A good basketball team are the Celtics.      0\n",
       "15  Basketball is a sport enjoyed worldwide.      0\n",
       "20                 Basketball is a fun sport      0"
      ]
     },
     "execution_count": 20,
     "metadata": {},
     "output_type": "execute_result"
    }
   ],
   "source": [
    "df.loc[df[\"label\"] == 0]"
   ]
  },
  {
   "cell_type": "code",
   "execution_count": 21,
   "id": "68c76131",
   "metadata": {},
   "outputs": [],
   "source": [
    "vectors = []\n",
    "sents = []\n",
    "\n",
    "doc = nlp(text)\n",
    "for sent in doc.sents:\n",
    "    vectors.append(sent.vector)\n",
    "    sents.append(sent.text)"
   ]
  },
  {
   "cell_type": "code",
   "execution_count": 22,
   "id": "e13e0137",
   "metadata": {},
   "outputs": [],
   "source": [
    "embedding = umap.UMAP(transform_seed=0).fit(vectors)"
   ]
  },
  {
   "cell_type": "code",
   "execution_count": 23,
   "id": "e107e7ab",
   "metadata": {},
   "outputs": [],
   "source": [
    "clusterer = hdbscan.HDBSCAN(min_cluster_size=2)\n",
    "cluster_labels = clusterer.fit_predict(embedding.embedding_)"
   ]
  },
  {
   "cell_type": "code",
   "execution_count": 24,
   "id": "c797d259",
   "metadata": {},
   "outputs": [],
   "source": [
    "df = pd.DataFrame({\"doc\": sents, \"label\": cluster_labels})"
   ]
  },
  {
   "cell_type": "code",
   "execution_count": 25,
   "id": "aba25019",
   "metadata": {},
   "outputs": [],
   "source": [
    "hover_data = {}\n",
    "for i, sent in enumerate(sents):\n",
    "    hover_data[f'{i}']=sent"
   ]
  },
  {
   "cell_type": "code",
   "execution_count": 30,
   "id": "e99f8b38",
   "metadata": {},
   "outputs": [
    {
     "data": {
      "text/plain": [
       "<Axes: >"
      ]
     },
     "execution_count": 30,
     "metadata": {},
     "output_type": "execute_result"
    },
    {
     "data": {
      "image/png": "[encoded data removed]",
      "text/plain": [
       "<Figure size 800x800 with 1 Axes>"
      ]
     },
     "metadata": {},
     "output_type": "display_data"
    }
   ],
   "source": [
    "umap.plot.points(embedding, labels=cluster_labels)"
   ]
  },
  {
   "cell_type": "code",
   "execution_count": 32,
   "id": "ac318cef",
   "metadata": {},
   "outputs": [
    {
     "data": {
      "text/html": [
       "<div>\n",
       "<style scoped>\n",
       "    .dataframe tbody tr th:only-of-type {\n",
       "        vertical-align: middle;\n",
       "    }\n",
       "\n",
       "    .dataframe tbody tr th {\n",
       "        vertical-align: top;\n",
       "    }\n",
       "\n",
       "    .dataframe thead th {\n",
       "        text-align: right;\n",
       "    }\n",
       "</style>\n",
       "<table border=\"1\" class=\"dataframe\">\n",
       "  <thead>\n",
       "    <tr style=\"text-align: right;\">\n",
       "      <th></th>\n",
       "      <th>doc</th>\n",
       "      <th>label</th>\n",
       "    </tr>\n",
       "  </thead>\n",
       "  <tbody>\n",
       "    <tr>\n",
       "      <th>262</th>\n",
       "      <td>Isildur's Bane is found.</td>\n",
       "      <td>2</td>\n",
       "    </tr>\n",
       "    <tr>\n",
       "      <th>678</th>\n",
       "      <td>Rohan is beset.</td>\n",
       "      <td>2</td>\n",
       "    </tr>\n",
       "    <tr>\n",
       "      <th>687</th>\n",
       "      <td>Light is his footfall!</td>\n",
       "      <td>2</td>\n",
       "    </tr>\n",
       "  </tbody>\n",
       "</table>\n",
       "</div>"
      ],
      "text/plain": [
       "                          doc  label\n",
       "262  Isildur's Bane is found.      2\n",
       "678           Rohan is beset.      2\n",
       "687    Light is his footfall!      2"
      ]
     },
     "execution_count": 32,
     "metadata": {},
     "output_type": "execute_result"
    }
   ],
   "source": [
    "\n",
    "df.loc[df[\"label\"] == 2]"
   ]
  },
  {
   "attachments": {},
   "cell_type": "markdown",
   "id": "3dd40691",
   "metadata": {},
   "source": [
    "\n",
    "# Supervised Learning\n",
    "\n",
    "Supervised learning is fundamentally different from unsupervised learning. In supervised learning, we know the labels of our data. Our goal is to use that labeled data to teach a computer system to understand the key feature of our data that make it correspond to specific labels.\n",
    "\n",
    "\n",
    "In a supervised learning system, our data would look like this:\n",
    "\n",
    "SPORTS - The Boston Celtics won the championship.\n",
    "SPORTS - The Dallas Cowboys lost in overtime.\n",
    "SPORTS - Basketball is a sport enjoyed worldwide.\n",
    "POLITICS - The Senator from Florida voted against the bill.\n",
    "POLITICS - The Congressperson from New Hampshire is leaving office.\n",
    "POLITICS - A bill is a type of legal document.\n",
    "\n",
    "Here we have our data clearly labeled. This is precisely how spaCy's available pipelines work. They were trained on thousands of examples of texts that had annotations. Annotations are labels that we assign to specific tokens, or sequence of tokens, that correspond to a specific label. If we are training an NER system, our annotations will be things like: PERSON, GPE, LOC, etc."
   ]
  },
  {
   "attachments": {},
   "cell_type": "markdown",
   "id": "0e403bc6",
   "metadata": {},
   "source": [
    "# Annotations\n",
    "\n",
    "In order to understand what annotations are more deeply, let's take a look at a concrete example."
   ]
  },
  {
   "cell_type": "code",
   "execution_count": null,
   "id": "69ceeb9b",
   "metadata": {},
   "outputs": [
    {
     "data": {
      "text/html": [
       "<span class=\"tex2jax_ignore\"><div class=\"entities\" style=\"line-height: 2.5; direction: ltr\">\n",
       "<mark class=\"entity\" style=\"background: #feca74; padding: 0.45em 0.6em; margin: 0 0.25em; line-height: 1; border-radius: 0.35em;\">\n",
       "    New York\n",
       "    <span style=\"font-size: 0.8em; font-weight: bold; line-height: 1; border-radius: 0.35em; vertical-align: middle; margin-left: 0.5rem\">GPE</span>\n",
       "</mark>\n",
       " is a state.</div></span>"
      ],
      "text/plain": [
       "<IPython.core.display.HTML object>"
      ]
     },
     "metadata": {},
     "output_type": "display_data"
    }
   ],
   "source": [
    "doc = nlp(\"New York is a state.\")\n",
    "displacy.render(doc, style=\"ent\")"
   ]
  },
  {
   "attachments": {},
   "cell_type": "markdown",
   "id": "808ce85c",
   "metadata": {},
   "source": [
    "As we can see in the example above, New York is identified as a state. Let's see what this doc looks like as an annotation. To convert it to an annotation, we can use doc.to_json()"
   ]
  },
  {
   "cell_type": "code",
   "execution_count": null,
   "id": "08d0cd05",
   "metadata": {},
   "outputs": [
    {
     "data": {
      "text/plain": [
       "{'text': 'New York is a state.',\n",
       " 'ents': [{'start': 0, 'end': 8, 'label': 'GPE'}],\n",
       " 'sents': [{'start': 0, 'end': 20}],\n",
       " 'tokens': [{'id': 0,\n",
       "   'start': 0,\n",
       "   'end': 3,\n",
       "   'tag': 'NNP',\n",
       "   'pos': 'PROPN',\n",
       "   'morph': 'Number=Sing',\n",
       "   'lemma': 'New',\n",
       "   'dep': 'compound',\n",
       "   'head': 1},\n",
       "  {'id': 1,\n",
       "   'start': 4,\n",
       "   'end': 8,\n",
       "   'tag': 'NNP',\n",
       "   'pos': 'PROPN',\n",
       "   'morph': 'Number=Sing',\n",
       "   'lemma': 'York',\n",
       "   'dep': 'nsubj',\n",
       "   'head': 2},\n",
       "  {'id': 2,\n",
       "   'start': 9,\n",
       "   'end': 11,\n",
       "   'tag': 'VBZ',\n",
       "   'pos': 'AUX',\n",
       "   'morph': 'Mood=Ind|Number=Sing|Person=3|Tense=Pres|VerbForm=Fin',\n",
       "   'lemma': 'be',\n",
       "   'dep': 'ROOT',\n",
       "   'head': 2},\n",
       "  {'id': 3,\n",
       "   'start': 12,\n",
       "   'end': 13,\n",
       "   'tag': 'DT',\n",
       "   'pos': 'DET',\n",
       "   'morph': 'Definite=Ind|PronType=Art',\n",
       "   'lemma': 'a',\n",
       "   'dep': 'det',\n",
       "   'head': 4},\n",
       "  {'id': 4,\n",
       "   'start': 14,\n",
       "   'end': 19,\n",
       "   'tag': 'NN',\n",
       "   'pos': 'NOUN',\n",
       "   'morph': 'Number=Sing',\n",
       "   'lemma': 'state',\n",
       "   'dep': 'attr',\n",
       "   'head': 2},\n",
       "  {'id': 5,\n",
       "   'start': 19,\n",
       "   'end': 20,\n",
       "   'tag': '.',\n",
       "   'pos': 'PUNCT',\n",
       "   'morph': 'PunctType=Peri',\n",
       "   'lemma': '.',\n",
       "   'dep': 'punct',\n",
       "   'head': 2}]}"
      ]
     },
     "execution_count": 25,
     "metadata": {},
     "output_type": "execute_result"
    }
   ],
   "source": [
    "doc.to_json()"
   ]
  },
  {
   "attachments": {},
   "cell_type": "markdown",
   "id": "c5e5c64d",
   "metadata": {},
   "source": [
    "We have a lot of data here, so let's just focus on two parts of this, the text and the ents."
   ]
  },
  {
   "cell_type": "code",
   "execution_count": null,
   "id": "5e0c81dc",
   "metadata": {},
   "outputs": [
    {
     "name": "stdout",
     "output_type": "stream",
     "text": [
      "New York is a state.\n",
      "[{'start': 0, 'end': 8, 'label': 'GPE'}]\n"
     ]
    }
   ],
   "source": [
    "text = doc.to_json()[\"text\"]\n",
    "ents = doc.to_json()[\"ents\"]\n",
    "\n",
    "print(text)\n",
    "print(ents)"
   ]
  },
  {
   "attachments": {},
   "cell_type": "markdown",
   "id": "479bb5cd",
   "metadata": {},
   "source": [
    "Here we can see what a machine learning annotation looks like for supervised learning. We have a string, a specific text, with labeled annotations. In our case, we have the entities labeled. Notice that each entity (we only have 1) has a dictionary which has 3 keys: start, end, and label. The start and end correspond to the start and end characters here. The label corresponds to the appropriate label for the thing that falls within that span of characters. In our case, this is `New York`.\n",
    "\n",
    "Later, we will be learning how to cultivate annotations like this with our own data."
   ]
  },
  {
   "attachments": {},
   "cell_type": "markdown",
   "id": "c1826d37",
   "metadata": {},
   "source": [
    "## Model Bias\n",
    "\n",
    "SpaCy provides numerous open-source pipelines and models for users for many languages. These models are, however, biased. In order to understand what this means and why it is important, let's take a look at a simple example."
   ]
  },
  {
   "cell_type": "code",
   "execution_count": null,
   "id": "4ac7c8c0",
   "metadata": {},
   "outputs": [],
   "source": [
    "doc = nlp(\"John went to the store.\")"
   ]
  },
  {
   "attachments": {},
   "cell_type": "markdown",
   "id": "9d8603b0",
   "metadata": {},
   "source": [
    "Our text is simple: `John went to the store.` THe only entity we have in this is `John` who should be identified as `PERSON`"
   ]
  },
  {
   "cell_type": "code",
   "execution_count": null,
   "id": "3442b156",
   "metadata": {},
   "outputs": [
    {
     "data": {
      "text/html": [
       "<span class=\"tex2jax_ignore\"><div class=\"entities\" style=\"line-height: 2.5; direction: ltr\">\n",
       "<mark class=\"entity\" style=\"background: #aa9cfc; padding: 0.45em 0.6em; margin: 0 0.25em; line-height: 1; border-radius: 0.35em;\">\n",
       "    John\n",
       "    <span style=\"font-size: 0.8em; font-weight: bold; line-height: 1; border-radius: 0.35em; vertical-align: middle; margin-left: 0.5rem\">PERSON</span>\n",
       "</mark>\n",
       " went to the store.</div></span>"
      ],
      "text/plain": [
       "<IPython.core.display.HTML object>"
      ]
     },
     "metadata": {},
     "output_type": "display_data"
    }
   ],
   "source": [
    "displacy.render(doc, style=\"ent\")"
   ]
  },
  {
   "attachments": {},
   "cell_type": "markdown",
   "id": "e08e4488",
   "metadata": {},
   "source": [
    "As we can see, the spaCy model has identified this perfectly for us. Why is that? The reason lies in the data that the model was trained on. The model was trained on a lot of English texts and John is a very common name in English. Therefore, the model, as one would expect, does well at predicting that John is a person. It is able to do this likely because it has memorized that John always functions as a name.\n",
    "\n",
    "Let's see how it performs with a South African name."
   ]
  },
  {
   "cell_type": "code",
   "execution_count": null,
   "id": "fc14048e",
   "metadata": {},
   "outputs": [
    {
     "data": {
      "text/html": [
       "<span class=\"tex2jax_ignore\"><div class=\"entities\" style=\"line-height: 2.5; direction: ltr\">\n",
       "<mark class=\"entity\" style=\"background: #aa9cfc; padding: 0.45em 0.6em; margin: 0 0.25em; line-height: 1; border-radius: 0.35em;\">\n",
       "    Zuri\n",
       "    <span style=\"font-size: 0.8em; font-weight: bold; line-height: 1; border-radius: 0.35em; vertical-align: middle; margin-left: 0.5rem\">PERSON</span>\n",
       "</mark>\n",
       " went to the store.</div></span>"
      ],
      "text/plain": [
       "<IPython.core.display.HTML object>"
      ]
     },
     "metadata": {},
     "output_type": "display_data"
    }
   ],
   "source": [
    "doc = nlp(\"Zuri went to the store.\")\n",
    "displacy.render(doc, style=\"ent\")"
   ]
  },
  {
   "attachments": {},
   "cell_type": "markdown",
   "id": "3fe26087",
   "metadata": {},
   "source": [
    "As we can see, we have a false positive for Zuri as a GPE, rather than PERSON. This is an expected error for a few reasons. First, the model is biased towards Western English. When we speak about model biases, we are speaking about its tendency to fare better on specific types of data or model towards certain conclusions inconsistently. All models are biased because all data is biased as are all datasets. Without constraints, models can very easily replicate the biases of humans. In our case, the `en_core_web_sm` is biased towards Western names because it saw more Western names in the training data.\n",
    "\n",
    "Let's take a look at what these annotations look like, though. "
   ]
  },
  {
   "attachments": {},
   "cell_type": "markdown",
   "id": "613d1498",
   "metadata": {},
   "source": [
    "# Word Vectors"
   ]
  },
  {
   "cell_type": "code",
   "execution_count": null,
   "id": "c5c8f980",
   "metadata": {},
   "outputs": [],
   "source": []
  },
  {
   "attachments": {},
   "cell_type": "markdown",
   "id": "c8b2c91f",
   "metadata": {},
   "source": []
  },
  {
   "attachments": {},
   "cell_type": "markdown",
   "id": "486c212d",
   "metadata": {},
   "source": []
  }
 ],
 "metadata": {
  "kernelspec": {
   "display_name": "Python 3 (ipykernel)",
   "language": "python",
   "name": "python3"
  },
  "language_info": {
   "codemirror_mode": {
    "name": "ipython",
    "version": 3
   },
   "file_extension": ".py",
   "mimetype": "text/x-python",
   "name": "python",
   "nbconvert_exporter": "python",
   "pygments_lexer": "ipython3",
   "version": "3.10.12"
  },
  "toc": {
   "base_numbering": 1,
   "nav_menu": {},
   "number_sections": true,
   "sideBar": true,
   "skip_h1_title": false,
   "title_cell": "Table of Contents",
   "title_sidebar": "Contents",
   "toc_cell": false,
   "toc_position": {},
   "toc_section_display": true,
   "toc_window_display": true
  }
 },
 "nbformat": 4,
 "nbformat_minor": 5
}
