{
 "cells": [
  {
   "attachments": {},
   "cell_type": "markdown",
   "id": "3e89c5b3",
   "metadata": {},
   "source": [
    "<img align=\"left\" src=\"https://ithaka-labs.s3.amazonaws.com/static-files/images/tdm/tdmdocs/tapi-logo-small.png\" />\n",
    "\n",
    "This notebook free for educational reuse under [Creative Commons CC BY License](https://creativecommons.org/licenses/by/4.0/).\n",
    "\n",
    "Created by [Firstname Lastname](https://) for the 2022 Text Analysis Pedagogy Institute, with support from the [National Endowment for the Humanities](https://neh.gov), [JSTOR Labs](https://labs.jstor.org/), and [University of Arizona Libraries](https://new.library.arizona.edu/).\n",
    "\n",
    "For questions/comments/improvements, email author@email.address.<br />\n",
    "____"
   ]
  },
  {
   "attachments": {},
   "cell_type": "markdown",
   "id": "68f932d1",
   "metadata": {},
   "source": [
    "# `spaCy 3` `1`\n",
    "\n",
    "This is lesson `1` of 3 in the educational series on `spaCy and NLP`. This notebook is intended `to teach the spaCy EntityRuler and the basics of Rules-Based NLP`. \n",
    "\n",
    "**Audience:** `Teachers` / `Learners` / `Researchers`\n",
    "\n",
    "**Use case:** `Tutorial` / `How-To` / `Explanation` \n",
    "\n",
    "`Include the use case definition from [here](https://constellate.org/docs/documentation-categories)`\n",
    "\n",
    "**Difficulty:** `Intermediate`\n",
    "\n",
    "`Beginner assumes users are relatively new to Python and Jupyter Notebooks. The user is helped step-by-step with lots of explanatory text.`\n",
    "`Intermediate assumes users are familiar with Python and have been programming for 6+ months. Code makes up a larger part of the notebook and basic concepts related to Python are not explained.`\n",
    "`Advanced assumes users are very familiar with Python and have been programming for years, but they may not be familiar with the process being explained.`\n",
    "\n",
    "**Completion time:** `90 minutes`\n",
    "\n",
    "**Knowledge Required:** \n",
    "```\n",
    "* Python basics (variables, flow control, functions, lists, dictionaries)\n",
    "* A basic understanding of spaCy (see notebooks 1-3)\n",
    "```\n",
    "\n",
    "**Knowledge Recommended:**\n",
    "```\n",
    "* Basic file operations (open, close, read, write)\n",
    "* Loading data with Pandas\n",
    "```\n",
    "\n",
    "**Learning Objectives:**\n",
    "After this lesson, learners will be able to:\n",
    "```\n",
    "1. Learn about the basics of machine learning and the machine learning components of spaCy\n",
    "```\n",
    "___"
   ]
  },
  {
   "cell_type": "code",
   "execution_count": 1,
   "id": "e8a220f5",
   "metadata": {},
   "outputs": [
    {
     "name": "stdout",
     "output_type": "stream",
     "text": [
      "Requirement already satisfied: umap-learn in /home/wjbmattingly/anaconda3/envs/spacy35/lib/python3.9/site-packages (0.5.3)\n",
      "Requirement already satisfied: scipy>=1.0 in /home/wjbmattingly/anaconda3/envs/spacy35/lib/python3.9/site-packages (from umap-learn) (1.10.1)\n",
      "Requirement already satisfied: scikit-learn>=0.22 in /home/wjbmattingly/anaconda3/envs/spacy35/lib/python3.9/site-packages (from umap-learn) (1.2.1)\n",
      "Requirement already satisfied: pynndescent>=0.5 in /home/wjbmattingly/anaconda3/envs/spacy35/lib/python3.9/site-packages (from umap-learn) (0.5.10)\n",
      "Requirement already satisfied: numba>=0.49 in /home/wjbmattingly/anaconda3/envs/spacy35/lib/python3.9/site-packages (from umap-learn) (0.57.1)\n",
      "Requirement already satisfied: tqdm in /home/wjbmattingly/anaconda3/envs/spacy35/lib/python3.9/site-packages (from umap-learn) (4.64.1)\n",
      "Requirement already satisfied: numpy>=1.17 in /home/wjbmattingly/anaconda3/envs/spacy35/lib/python3.9/site-packages (from umap-learn) (1.24.2)\n",
      "Requirement already satisfied: matplotlib in /home/wjbmattingly/anaconda3/envs/spacy35/lib/python3.9/site-packages (from umap-learn) (3.7.2)\n",
      "Requirement already satisfied: bokeh in /home/wjbmattingly/anaconda3/envs/spacy35/lib/python3.9/site-packages (from umap-learn) (2.3.2)\n",
      "Requirement already satisfied: scikit-image in /home/wjbmattingly/anaconda3/envs/spacy35/lib/python3.9/site-packages (from umap-learn) (0.21.0)\n",
      "Requirement already satisfied: datashader in /home/wjbmattingly/anaconda3/envs/spacy35/lib/python3.9/site-packages (from umap-learn) (0.15.1)\n",
      "Requirement already satisfied: holoviews in /home/wjbmattingly/anaconda3/envs/spacy35/lib/python3.9/site-packages (from umap-learn) (1.17.0)\n",
      "Requirement already satisfied: colorcet in /home/wjbmattingly/anaconda3/envs/spacy35/lib/python3.9/site-packages (from umap-learn) (3.0.1)\n",
      "Requirement already satisfied: pandas in /home/wjbmattingly/anaconda3/envs/spacy35/lib/python3.9/site-packages (from umap-learn) (1.5.3)\n",
      "Requirement already satisfied: seaborn in /home/wjbmattingly/anaconda3/envs/spacy35/lib/python3.9/site-packages (from umap-learn) (0.12.2)\n",
      "Requirement already satisfied: llvmlite<0.41,>=0.40.0dev0 in /home/wjbmattingly/anaconda3/envs/spacy35/lib/python3.9/site-packages (from numba>=0.49->umap-learn) (0.40.1)\n",
      "Requirement already satisfied: joblib>=0.11 in /home/wjbmattingly/anaconda3/envs/spacy35/lib/python3.9/site-packages (from pynndescent>=0.5->umap-learn) (1.2.0)\n",
      "Requirement already satisfied: threadpoolctl>=2.0.0 in /home/wjbmattingly/anaconda3/envs/spacy35/lib/python3.9/site-packages (from scikit-learn>=0.22->umap-learn) (3.1.0)\n",
      "Requirement already satisfied: packaging>=16.8 in /home/wjbmattingly/anaconda3/envs/spacy35/lib/python3.9/site-packages (from bokeh->umap-learn) (23.0)\n",
      "Requirement already satisfied: Jinja2>=2.9 in /home/wjbmattingly/anaconda3/envs/spacy35/lib/python3.9/site-packages (from bokeh->umap-learn) (3.1.2)\n",
      "Requirement already satisfied: python-dateutil>=2.1 in /home/wjbmattingly/anaconda3/envs/spacy35/lib/python3.9/site-packages (from bokeh->umap-learn) (2.8.2)\n",
      "Requirement already satisfied: PyYAML>=3.10 in /home/wjbmattingly/anaconda3/envs/spacy35/lib/python3.9/site-packages (from bokeh->umap-learn) (6.0)\n",
      "Requirement already satisfied: pillow>=7.1.0 in /home/wjbmattingly/anaconda3/envs/spacy35/lib/python3.9/site-packages (from bokeh->umap-learn) (9.4.0)\n",
      "Requirement already satisfied: typing-extensions>=3.7.4 in /home/wjbmattingly/anaconda3/envs/spacy35/lib/python3.9/site-packages (from bokeh->umap-learn) (4.5.0)\n",
      "Requirement already satisfied: tornado>=5.1 in /home/wjbmattingly/anaconda3/envs/spacy35/lib/python3.9/site-packages (from bokeh->umap-learn) (6.2)\n",
      "Requirement already satisfied: pyct>=0.4.4 in /home/wjbmattingly/anaconda3/envs/spacy35/lib/python3.9/site-packages (from colorcet->umap-learn) (0.5.0)\n",
      "Requirement already satisfied: dask in /home/wjbmattingly/anaconda3/envs/spacy35/lib/python3.9/site-packages (from datashader->umap-learn) (2023.7.1)\n",
      "Requirement already satisfied: datashape in /home/wjbmattingly/anaconda3/envs/spacy35/lib/python3.9/site-packages (from datashader->umap-learn) (0.5.2)\n",
      "Requirement already satisfied: requests in /home/wjbmattingly/anaconda3/envs/spacy35/lib/python3.9/site-packages (from datashader->umap-learn) (2.28.2)\n",
      "Requirement already satisfied: toolz in /home/wjbmattingly/anaconda3/envs/spacy35/lib/python3.9/site-packages (from datashader->umap-learn) (0.12.0)\n",
      "Requirement already satisfied: xarray in /home/wjbmattingly/anaconda3/envs/spacy35/lib/python3.9/site-packages (from datashader->umap-learn) (2023.7.0)\n",
      "Requirement already satisfied: param in /home/wjbmattingly/anaconda3/envs/spacy35/lib/python3.9/site-packages (from datashader->umap-learn) (1.13.0)\n",
      "Requirement already satisfied: panel>=0.13.1 in /home/wjbmattingly/anaconda3/envs/spacy35/lib/python3.9/site-packages (from holoviews->umap-learn) (1.2.1)\n",
      "Requirement already satisfied: pyviz-comms>=0.7.4 in /home/wjbmattingly/anaconda3/envs/spacy35/lib/python3.9/site-packages (from holoviews->umap-learn) (2.3.2)\n",
      "Requirement already satisfied: pytz>=2020.1 in /home/wjbmattingly/anaconda3/envs/spacy35/lib/python3.9/site-packages (from pandas->umap-learn) (2022.7.1)\n",
      "Requirement already satisfied: contourpy>=1.0.1 in /home/wjbmattingly/anaconda3/envs/spacy35/lib/python3.9/site-packages (from matplotlib->umap-learn) (1.1.0)\n",
      "Requirement already satisfied: importlib-resources>=3.2.0 in /home/wjbmattingly/anaconda3/envs/spacy35/lib/python3.9/site-packages (from matplotlib->umap-learn) (6.0.0)\n",
      "Requirement already satisfied: cycler>=0.10 in /home/wjbmattingly/anaconda3/envs/spacy35/lib/python3.9/site-packages (from matplotlib->umap-learn) (0.11.0)\n",
      "Requirement already satisfied: pyparsing<3.1,>=2.3.1 in /home/wjbmattingly/anaconda3/envs/spacy35/lib/python3.9/site-packages (from matplotlib->umap-learn) (3.0.9)\n",
      "Requirement already satisfied: fonttools>=4.22.0 in /home/wjbmattingly/anaconda3/envs/spacy35/lib/python3.9/site-packages (from matplotlib->umap-learn) (4.41.1)\n",
      "Requirement already satisfied: kiwisolver>=1.0.1 in /home/wjbmattingly/anaconda3/envs/spacy35/lib/python3.9/site-packages (from matplotlib->umap-learn) (1.4.4)\n",
      "Requirement already satisfied: imageio>=2.27 in /home/wjbmattingly/anaconda3/envs/spacy35/lib/python3.9/site-packages (from scikit-image->umap-learn) (2.31.1)\n",
      "Requirement already satisfied: tifffile>=2022.8.12 in /home/wjbmattingly/anaconda3/envs/spacy35/lib/python3.9/site-packages (from scikit-image->umap-learn) (2023.7.18)\n",
      "Requirement already satisfied: lazy_loader>=0.2 in /home/wjbmattingly/anaconda3/envs/spacy35/lib/python3.9/site-packages (from scikit-image->umap-learn) (0.3)\n",
      "Requirement already satisfied: PyWavelets>=1.1.1 in /home/wjbmattingly/anaconda3/envs/spacy35/lib/python3.9/site-packages (from scikit-image->umap-learn) (1.4.1)\n",
      "Requirement already satisfied: networkx>=2.8 in /home/wjbmattingly/anaconda3/envs/spacy35/lib/python3.9/site-packages (from scikit-image->umap-learn) (3.1)\n",
      "Requirement already satisfied: zipp>=3.1.0 in /home/wjbmattingly/anaconda3/envs/spacy35/lib/python3.9/site-packages (from importlib-resources>=3.2.0->matplotlib->umap-learn) (3.14.0)\n",
      "Requirement already satisfied: MarkupSafe>=2.0 in /home/wjbmattingly/anaconda3/envs/spacy35/lib/python3.9/site-packages (from Jinja2>=2.9->bokeh->umap-learn) (2.1.2)\n",
      "Collecting bokeh\n",
      "  Using cached bokeh-3.2.1-py3-none-any.whl (7.8 MB)\n",
      "Requirement already satisfied: markdown-it-py in /home/wjbmattingly/anaconda3/envs/spacy35/lib/python3.9/site-packages (from panel>=0.13.1->holoviews->umap-learn) (3.0.0)\n",
      "Requirement already satisfied: mdit-py-plugins in /home/wjbmattingly/anaconda3/envs/spacy35/lib/python3.9/site-packages (from panel>=0.13.1->holoviews->umap-learn) (0.4.0)\n",
      "Requirement already satisfied: markdown in /home/wjbmattingly/anaconda3/envs/spacy35/lib/python3.9/site-packages (from panel>=0.13.1->holoviews->umap-learn) (3.4.4)\n",
      "Requirement already satisfied: xyzservices>=2021.09.1 in /home/wjbmattingly/anaconda3/envs/spacy35/lib/python3.9/site-packages (from panel>=0.13.1->holoviews->umap-learn) (2023.7.0)\n",
      "Requirement already satisfied: linkify-it-py in /home/wjbmattingly/anaconda3/envs/spacy35/lib/python3.9/site-packages (from panel>=0.13.1->holoviews->umap-learn) (2.0.2)\n",
      "Requirement already satisfied: bleach in /home/wjbmattingly/anaconda3/envs/spacy35/lib/python3.9/site-packages (from panel>=0.13.1->holoviews->umap-learn) (6.0.0)\n",
      "Requirement already satisfied: six>=1.5 in /home/wjbmattingly/anaconda3/envs/spacy35/lib/python3.9/site-packages (from python-dateutil>=2.1->bokeh->umap-learn) (1.16.0)\n",
      "Requirement already satisfied: click>=8.0 in /home/wjbmattingly/anaconda3/envs/spacy35/lib/python3.9/site-packages (from dask->datashader->umap-learn) (8.1.3)\n",
      "Requirement already satisfied: fsspec>=2021.09.0 in /home/wjbmattingly/anaconda3/envs/spacy35/lib/python3.9/site-packages (from dask->datashader->umap-learn) (2023.6.0)\n",
      "Requirement already satisfied: cloudpickle>=1.5.0 in /home/wjbmattingly/anaconda3/envs/spacy35/lib/python3.9/site-packages (from dask->datashader->umap-learn) (2.2.1)\n",
      "Requirement already satisfied: importlib-metadata>=4.13.0 in /home/wjbmattingly/anaconda3/envs/spacy35/lib/python3.9/site-packages (from dask->datashader->umap-learn) (6.0.0)\n",
      "Requirement already satisfied: partd>=1.2.0 in /home/wjbmattingly/anaconda3/envs/spacy35/lib/python3.9/site-packages (from dask->datashader->umap-learn) (1.4.0)\n",
      "Requirement already satisfied: multipledispatch>=0.4.7 in /home/wjbmattingly/anaconda3/envs/spacy35/lib/python3.9/site-packages (from datashape->datashader->umap-learn) (1.0.0)\n",
      "Requirement already satisfied: idna<4,>=2.5 in /home/wjbmattingly/anaconda3/envs/spacy35/lib/python3.9/site-packages (from requests->datashader->umap-learn) (3.4)\n",
      "Requirement already satisfied: urllib3<1.27,>=1.21.1 in /home/wjbmattingly/anaconda3/envs/spacy35/lib/python3.9/site-packages (from requests->datashader->umap-learn) (1.26.14)\n",
      "Requirement already satisfied: certifi>=2017.4.17 in /home/wjbmattingly/anaconda3/envs/spacy35/lib/python3.9/site-packages (from requests->datashader->umap-learn) (2022.12.7)\n",
      "Requirement already satisfied: charset-normalizer<4,>=2 in /home/wjbmattingly/anaconda3/envs/spacy35/lib/python3.9/site-packages (from requests->datashader->umap-learn) (3.0.1)\n",
      "Requirement already satisfied: locket in /home/wjbmattingly/anaconda3/envs/spacy35/lib/python3.9/site-packages (from partd>=1.2.0->dask->datashader->umap-learn) (1.0.0)\n",
      "Requirement already satisfied: webencodings in /home/wjbmattingly/anaconda3/envs/spacy35/lib/python3.9/site-packages (from bleach->panel>=0.13.1->holoviews->umap-learn) (0.5.1)\n",
      "Requirement already satisfied: uc-micro-py in /home/wjbmattingly/anaconda3/envs/spacy35/lib/python3.9/site-packages (from linkify-it-py->panel>=0.13.1->holoviews->umap-learn) (1.0.2)\n",
      "Requirement already satisfied: mdurl~=0.1 in /home/wjbmattingly/anaconda3/envs/spacy35/lib/python3.9/site-packages (from markdown-it-py->panel>=0.13.1->holoviews->umap-learn) (0.1.2)\n",
      "Installing collected packages: bokeh\n",
      "  Attempting uninstall: bokeh\n",
      "    Found existing installation: bokeh 2.3.2\n",
      "    Uninstalling bokeh-2.3.2:\n",
      "      Successfully uninstalled bokeh-2.3.2\n",
      "Successfully installed bokeh-3.2.1\n"
     ]
    }
   ],
   "source": [
    "# ### Install Libraries ###\n",
    "\n",
    "# # Using !pip installs\n",
    "# !pip install spacy\n",
    "# !pip install pandas\n",
    "# !python -m spacy download en_core_web_sm\n",
    "# !python -m spacy download en_core_web_md\n",
    "!pip install umap-learn umap-learn[plot]\n",
    "# !pip install hbdscan\n",
    "\n",
    "# # Using %%bash magic with apt-get and yes prompt"
   ]
  },
  {
   "cell_type": "code",
   "execution_count": 2,
   "id": "5480e2a8",
   "metadata": {},
   "outputs": [
    {
     "name": "stderr",
     "output_type": "stream",
     "text": [
      "/home/wjbmattingly/anaconda3/envs/spacy35/lib/python3.9/site-packages/tqdm/auto.py:22: TqdmWarning: IProgress not found. Please update jupyter and ipywidgets. See https://ipywidgets.readthedocs.io/en/stable/user_install.html\n",
      "  from .autonotebook import tqdm as notebook_tqdm\n",
      "/home/wjbmattingly/anaconda3/envs/spacy35/lib/python3.9/site-packages/umap/distances.py:1063: NumbaDeprecationWarning: The 'nopython' keyword argument was not supplied to the 'numba.jit' decorator. The implicit default value for this argument is currently False, but it will be changed to True in Numba 0.59.0. See https://numba.readthedocs.io/en/stable/reference/deprecation.html#deprecation-of-object-mode-fall-back-behaviour-when-using-jit for details.\n",
      "  @numba.jit()\n",
      "/home/wjbmattingly/anaconda3/envs/spacy35/lib/python3.9/site-packages/umap/distances.py:1071: NumbaDeprecationWarning: The 'nopython' keyword argument was not supplied to the 'numba.jit' decorator. The implicit default value for this argument is currently False, but it will be changed to True in Numba 0.59.0. See https://numba.readthedocs.io/en/stable/reference/deprecation.html#deprecation-of-object-mode-fall-back-behaviour-when-using-jit for details.\n",
      "  @numba.jit()\n",
      "/home/wjbmattingly/anaconda3/envs/spacy35/lib/python3.9/site-packages/umap/distances.py:1086: NumbaDeprecationWarning: The 'nopython' keyword argument was not supplied to the 'numba.jit' decorator. The implicit default value for this argument is currently False, but it will be changed to True in Numba 0.59.0. See https://numba.readthedocs.io/en/stable/reference/deprecation.html#deprecation-of-object-mode-fall-back-behaviour-when-using-jit for details.\n",
      "  @numba.jit()\n",
      "/home/wjbmattingly/anaconda3/envs/spacy35/lib/python3.9/site-packages/umap/umap_.py:660: NumbaDeprecationWarning: The 'nopython' keyword argument was not supplied to the 'numba.jit' decorator. The implicit default value for this argument is currently False, but it will be changed to True in Numba 0.59.0. See https://numba.readthedocs.io/en/stable/reference/deprecation.html#deprecation-of-object-mode-fall-back-behaviour-when-using-jit for details.\n",
      "  @numba.jit()\n",
      "/home/wjbmattingly/anaconda3/envs/spacy35/lib/python3.9/site-packages/umap/plot.py:203: NumbaDeprecationWarning: The 'nopython' keyword argument was not supplied to the 'numba.jit' decorator. The implicit default value for this argument is currently False, but it will be changed to True in Numba 0.59.0. See https://numba.readthedocs.io/en/stable/reference/deprecation.html#deprecation-of-object-mode-fall-back-behaviour-when-using-jit for details.\n",
      "  @numba.jit()\n"
     ]
    }
   ],
   "source": [
    "import pandas as pd\n",
    "from spacy import displacy\n",
    "import spacy\n",
    "import umap\n",
    "import umap.plot\n",
    "import hdbscan"
   ]
  },
  {
   "attachments": {},
   "cell_type": "markdown",
   "id": "0010b796",
   "metadata": {},
   "source": [
    "# What is Machine Learning?\n",
    "\n",
    "Machine learning, or ML, is the process by which we train computer systems to perform specific tasks. This is achieved through statistics and neural networks. We won't be diving into specifically how machine learning works, rather some of the fundamental concepts necessary to understand how to leverage machine learning systems and, most importantly be aware of their expected limitations.\n",
    "\n",
    "There are many types of machine learning: supervised learning, unsupervised learning, reinforcement learning, semi-supervised learning, etc. In this notebook, we will cover supervised and unsupervised learning.\n",
    "\n",
    "When working with texts, the backbone of all machine learning lies in quality word vectors. Word vectors, or word embeddings, are complex numerical representations of text that ideally contain semantic and syntactic information. A vector is created via a language model that has examined large quantities of texts and learned what specific words mean relative to other words. Words that have similar usages will have similar numerical values.\n",
    "\n",
    "It should be emphasized similar usages does not correlate to synonyms. In the context of Harry Potter, for example, Hufflepuff and Slytherin may be mapped close to each other in a lnaguage model, but these are completely opposite houses in Harry Potter. Why would they be mapped close to each other? Because they frequently appear in similar contexts and are linked by a larger conceptually idea of a Hogwarts House.\n",
    "\n",
    "Throughout this notebook, we will learn about word vectors as we learn about machine learning concepts. For now, let's dive into word vectors with our Lord of the Rings text:"
   ]
  },
  {
   "cell_type": "code",
   "execution_count": 3,
   "id": "d56dfc85",
   "metadata": {},
   "outputs": [],
   "source": [
    "with open(\"../data/lotr.txt\", \"r\") as f:\n",
    "    text = f.read().strip()\n"
   ]
  },
  {
   "cell_type": "code",
   "execution_count": 4,
   "id": "ee497d84",
   "metadata": {},
   "outputs": [
    {
     "data": {
      "text/plain": [
       "'Next day Frodo woke early, feeling refreshed and well. He walked along the terraces above the loud-flowing Bruinen and watched the pale, cool sun rise above the far mountains, and shine down. Slanting through the thin silver mist; the dew upon the ye'"
      ]
     },
     "execution_count": 4,
     "metadata": {},
     "output_type": "execute_result"
    }
   ],
   "source": [
    "text[:250]"
   ]
  },
  {
   "attachments": {},
   "cell_type": "markdown",
   "id": "65970664",
   "metadata": {},
   "source": [
    "For this notebook, we will use the medium model from spaCy, but these precise same steps can be done with the large model. The transformer model requires a few extra steps to perform similar tasks."
   ]
  },
  {
   "cell_type": "code",
   "execution_count": 5,
   "id": "6dbfbf7b",
   "metadata": {},
   "outputs": [],
   "source": [
    "nlp = spacy.load(\"en_core_web_lg\")"
   ]
  },
  {
   "cell_type": "code",
   "execution_count": 6,
   "id": "05f76843",
   "metadata": {},
   "outputs": [],
   "source": [
    "doc = nlp(text[:2500])"
   ]
  },
  {
   "cell_type": "code",
   "execution_count": 7,
   "id": "4ce465d1",
   "metadata": {},
   "outputs": [
    {
     "data": {
      "text/html": [
       "<span class=\"tex2jax_ignore\"><div class=\"entities\" style=\"line-height: 2.5; direction: ltr\">\n",
       "<mark class=\"entity\" style=\"background: #bfe1d9; padding: 0.45em 0.6em; margin: 0 0.25em; line-height: 1; border-radius: 0.35em;\">\n",
       "    Next day\n",
       "    <span style=\"font-size: 0.8em; font-weight: bold; line-height: 1; border-radius: 0.35em; vertical-align: middle; margin-left: 0.5rem\">DATE</span>\n",
       "</mark>\n",
       " \n",
       "<mark class=\"entity\" style=\"background: #aa9cfc; padding: 0.45em 0.6em; margin: 0 0.25em; line-height: 1; border-radius: 0.35em;\">\n",
       "    Frodo\n",
       "    <span style=\"font-size: 0.8em; font-weight: bold; line-height: 1; border-radius: 0.35em; vertical-align: middle; margin-left: 0.5rem\">PERSON</span>\n",
       "</mark>\n",
       " woke early, feeling refreshed and well. He walked along the terraces above the loud-flowing \n",
       "<mark class=\"entity\" style=\"background: #aa9cfc; padding: 0.45em 0.6em; margin: 0 0.25em; line-height: 1; border-radius: 0.35em;\">\n",
       "    Bruinen\n",
       "    <span style=\"font-size: 0.8em; font-weight: bold; line-height: 1; border-radius: 0.35em; vertical-align: middle; margin-left: 0.5rem\">PERSON</span>\n",
       "</mark>\n",
       " and watched the pale, cool sun rise above the far mountains, and shine down. Slanting through the thin silver mist; the dew upon the yellow leaves was glimmering, and the woven nets of gossamer twinkled on every bush. \n",
       "<mark class=\"entity\" style=\"background: #aa9cfc; padding: 0.45em 0.6em; margin: 0 0.25em; line-height: 1; border-radius: 0.35em;\">\n",
       "    Sam\n",
       "    <span style=\"font-size: 0.8em; font-weight: bold; line-height: 1; border-radius: 0.35em; vertical-align: middle; margin-left: 0.5rem\">PERSON</span>\n",
       "</mark>\n",
       " walked beside him, saying nothing. but sniffing the air, and looking every now and again with wonder in his eyes at the great heights in the \n",
       "<mark class=\"entity\" style=\"background: #ff9561; padding: 0.45em 0.6em; margin: 0 0.25em; line-height: 1; border-radius: 0.35em;\">\n",
       "    East\n",
       "    <span style=\"font-size: 0.8em; font-weight: bold; line-height: 1; border-radius: 0.35em; vertical-align: middle; margin-left: 0.5rem\">LOC</span>\n",
       "</mark>\n",
       ". The snow was white upon their peaks.</br>     On a seat cut in the stone beside a turn in the path they came upon \n",
       "<mark class=\"entity\" style=\"background: #aa9cfc; padding: 0.45em 0.6em; margin: 0 0.25em; line-height: 1; border-radius: 0.35em;\">\n",
       "    Gandalf\n",
       "    <span style=\"font-size: 0.8em; font-weight: bold; line-height: 1; border-radius: 0.35em; vertical-align: middle; margin-left: 0.5rem\">PERSON</span>\n",
       "</mark>\n",
       " and \n",
       "<mark class=\"entity\" style=\"background: #aa9cfc; padding: 0.45em 0.6em; margin: 0 0.25em; line-height: 1; border-radius: 0.35em;\">\n",
       "    Bilbo\n",
       "    <span style=\"font-size: 0.8em; font-weight: bold; line-height: 1; border-radius: 0.35em; vertical-align: middle; margin-left: 0.5rem\">PERSON</span>\n",
       "</mark>\n",
       " deep in talk. `\n",
       "<mark class=\"entity\" style=\"background: #7aecec; padding: 0.45em 0.6em; margin: 0 0.25em; line-height: 1; border-radius: 0.35em;\">\n",
       "    Hullo\n",
       "    <span style=\"font-size: 0.8em; font-weight: bold; line-height: 1; border-radius: 0.35em; vertical-align: middle; margin-left: 0.5rem\">ORG</span>\n",
       "</mark>\n",
       "! Good morning!' said \n",
       "<mark class=\"entity\" style=\"background: #aa9cfc; padding: 0.45em 0.6em; margin: 0 0.25em; line-height: 1; border-radius: 0.35em;\">\n",
       "    Bilbo\n",
       "    <span style=\"font-size: 0.8em; font-weight: bold; line-height: 1; border-radius: 0.35em; vertical-align: middle; margin-left: 0.5rem\">PERSON</span>\n",
       "</mark>\n",
       ". `Feel ready for the great council?'</br>     `I feel ready for anything,' answered \n",
       "<mark class=\"entity\" style=\"background: #aa9cfc; padding: 0.45em 0.6em; margin: 0 0.25em; line-height: 1; border-radius: 0.35em;\">\n",
       "    Frodo\n",
       "    <span style=\"font-size: 0.8em; font-weight: bold; line-height: 1; border-radius: 0.35em; vertical-align: middle; margin-left: 0.5rem\">PERSON</span>\n",
       "</mark>\n",
       ". `But most of all I should like to go walking \n",
       "<mark class=\"entity\" style=\"background: #bfe1d9; padding: 0.45em 0.6em; margin: 0 0.25em; line-height: 1; border-radius: 0.35em;\">\n",
       "    today\n",
       "    <span style=\"font-size: 0.8em; font-weight: bold; line-height: 1; border-radius: 0.35em; vertical-align: middle; margin-left: 0.5rem\">DATE</span>\n",
       "</mark>\n",
       " and explore the valley. I should like to get into those pine-woods up there.' He pointed away far up the side of \n",
       "<mark class=\"entity\" style=\"background: #7aecec; padding: 0.45em 0.6em; margin: 0 0.25em; line-height: 1; border-radius: 0.35em;\">\n",
       "    Rivendell\n",
       "    <span style=\"font-size: 0.8em; font-weight: bold; line-height: 1; border-radius: 0.35em; vertical-align: middle; margin-left: 0.5rem\">ORG</span>\n",
       "</mark>\n",
       " to the north.</br>     'You may have a chance later,' said \n",
       "<mark class=\"entity\" style=\"background: #aa9cfc; padding: 0.45em 0.6em; margin: 0 0.25em; line-height: 1; border-radius: 0.35em;\">\n",
       "    Gandalf\n",
       "    <span style=\"font-size: 0.8em; font-weight: bold; line-height: 1; border-radius: 0.35em; vertical-align: middle; margin-left: 0.5rem\">PERSON</span>\n",
       "</mark>\n",
       ". `But we cannot make any plans yet. There is much to hear and decide \n",
       "<mark class=\"entity\" style=\"background: #bfe1d9; padding: 0.45em 0.6em; margin: 0 0.25em; line-height: 1; border-radius: 0.35em;\">\n",
       "    today\n",
       "    <span style=\"font-size: 0.8em; font-weight: bold; line-height: 1; border-radius: 0.35em; vertical-align: middle; margin-left: 0.5rem\">DATE</span>\n",
       "</mark>\n",
       ".'</br>     Suddenly as they were talking a single clear bell rang out. `That is the warning bell for \n",
       "<mark class=\"entity\" style=\"background: #7aecec; padding: 0.45em 0.6em; margin: 0 0.25em; line-height: 1; border-radius: 0.35em;\">\n",
       "    the Council of Elrond\n",
       "    <span style=\"font-size: 0.8em; font-weight: bold; line-height: 1; border-radius: 0.35em; vertical-align: middle; margin-left: 0.5rem\">ORG</span>\n",
       "</mark>\n",
       ",' cried \n",
       "<mark class=\"entity\" style=\"background: #aa9cfc; padding: 0.45em 0.6em; margin: 0 0.25em; line-height: 1; border-radius: 0.35em;\">\n",
       "    Gandalf\n",
       "    <span style=\"font-size: 0.8em; font-weight: bold; line-height: 1; border-radius: 0.35em; vertical-align: middle; margin-left: 0.5rem\">PERSON</span>\n",
       "</mark>\n",
       ". `Come along now! Both you and \n",
       "<mark class=\"entity\" style=\"background: #aa9cfc; padding: 0.45em 0.6em; margin: 0 0.25em; line-height: 1; border-radius: 0.35em;\">\n",
       "    Bilbo\n",
       "    <span style=\"font-size: 0.8em; font-weight: bold; line-height: 1; border-radius: 0.35em; vertical-align: middle; margin-left: 0.5rem\">PERSON</span>\n",
       "</mark>\n",
       " are wanted.'</br>     \n",
       "<mark class=\"entity\" style=\"background: #aa9cfc; padding: 0.45em 0.6em; margin: 0 0.25em; line-height: 1; border-radius: 0.35em;\">\n",
       "    Frodo\n",
       "    <span style=\"font-size: 0.8em; font-weight: bold; line-height: 1; border-radius: 0.35em; vertical-align: middle; margin-left: 0.5rem\">PERSON</span>\n",
       "</mark>\n",
       " and \n",
       "<mark class=\"entity\" style=\"background: #aa9cfc; padding: 0.45em 0.6em; margin: 0 0.25em; line-height: 1; border-radius: 0.35em;\">\n",
       "    Bilbo\n",
       "    <span style=\"font-size: 0.8em; font-weight: bold; line-height: 1; border-radius: 0.35em; vertical-align: middle; margin-left: 0.5rem\">PERSON</span>\n",
       "</mark>\n",
       " followed the wizard quickly along the winding path back to the house; behind them, uninvited and for the moment forgotten, trotted \n",
       "<mark class=\"entity\" style=\"background: #aa9cfc; padding: 0.45em 0.6em; margin: 0 0.25em; line-height: 1; border-radius: 0.35em;\">\n",
       "    Sam\n",
       "    <span style=\"font-size: 0.8em; font-weight: bold; line-height: 1; border-radius: 0.35em; vertical-align: middle; margin-left: 0.5rem\">PERSON</span>\n",
       "</mark>\n",
       ".</br>     \n",
       "<mark class=\"entity\" style=\"background: #aa9cfc; padding: 0.45em 0.6em; margin: 0 0.25em; line-height: 1; border-radius: 0.35em;\">\n",
       "    Gandalf\n",
       "    <span style=\"font-size: 0.8em; font-weight: bold; line-height: 1; border-radius: 0.35em; vertical-align: middle; margin-left: 0.5rem\">PERSON</span>\n",
       "</mark>\n",
       " led them to the porch where \n",
       "<mark class=\"entity\" style=\"background: #aa9cfc; padding: 0.45em 0.6em; margin: 0 0.25em; line-height: 1; border-radius: 0.35em;\">\n",
       "    Frodo\n",
       "    <span style=\"font-size: 0.8em; font-weight: bold; line-height: 1; border-radius: 0.35em; vertical-align: middle; margin-left: 0.5rem\">PERSON</span>\n",
       "</mark>\n",
       " had found his friends the evening before. The light of the clear \n",
       "<mark class=\"entity\" style=\"background: #bfe1d9; padding: 0.45em 0.6em; margin: 0 0.25em; line-height: 1; border-radius: 0.35em;\">\n",
       "    autumn morning\n",
       "    <span style=\"font-size: 0.8em; font-weight: bold; line-height: 1; border-radius: 0.35em; vertical-align: middle; margin-left: 0.5rem\">TIME</span>\n",
       "</mark>\n",
       " was now glowing in the valley. The noise of bubbling waters came up from the foaming river-bed. Birds were singing, and a wholesome peace lay on the land. To \n",
       "<mark class=\"entity\" style=\"background: #aa9cfc; padding: 0.45em 0.6em; margin: 0 0.25em; line-height: 1; border-radius: 0.35em;\">\n",
       "    Frodo\n",
       "    <span style=\"font-size: 0.8em; font-weight: bold; line-height: 1; border-radius: 0.35em; vertical-align: middle; margin-left: 0.5rem\">PERSON</span>\n",
       "</mark>\n",
       " his dangerous flight, and the rumours of the darkness growing in the world outside, already seemed only the memories of a troubled dream; but the faces that were turned to meet them as they entered were grave.</br>     Elrond was there, and several others were seated in silence about him. \n",
       "<mark class=\"entity\" style=\"background: #aa9cfc; padding: 0.45em 0.6em; margin: 0 0.25em; line-height: 1; border-radius: 0.35em;\">\n",
       "    Frodo\n",
       "    <span style=\"font-size: 0.8em; font-weight: bold; line-height: 1; border-radius: 0.35em; vertical-align: middle; margin-left: 0.5rem\">PERSON</span>\n",
       "</mark>\n",
       " saw \n",
       "<mark class=\"entity\" style=\"background: #aa9cfc; padding: 0.45em 0.6em; margin: 0 0.25em; line-height: 1; border-radius: 0.35em;\">\n",
       "    Glorfindel\n",
       "    <span style=\"font-size: 0.8em; font-weight: bold; line-height: 1; border-radius: 0.35em; vertical-align: middle; margin-left: 0.5rem\">PERSON</span>\n",
       "</mark>\n",
       " and \n",
       "<mark class=\"entity\" style=\"background: #aa9cfc; padding: 0.45em 0.6em; margin: 0 0.25em; line-height: 1; border-radius: 0.35em;\">\n",
       "    Glóin\n",
       "    <span style=\"font-size: 0.8em; font-weight: bold; line-height: 1; border-radius: 0.35em; vertical-align: middle; margin-left: 0.5rem\">PERSON</span>\n",
       "</mark>\n",
       "; and in a corner alone \n",
       "<mark class=\"entity\" style=\"background: #9cc9cc; padding: 0.45em 0.6em; margin: 0 0.25em; line-height: 1; border-radius: 0.35em;\">\n",
       "    Strider\n",
       "    <span style=\"font-size: 0.8em; font-weight: bold; line-height: 1; border-radius: 0.35em; vertical-align: middle; margin-left: 0.5rem\">FAC</span>\n",
       "</mark>\n",
       " was sitting, clad in his old travel-worn clothes again. Elrond drew \n",
       "<mark class=\"entity\" style=\"background: #aa9cfc; padding: 0.45em 0.6em; margin: 0 0.25em; line-height: 1; border-radius: 0.35em;\">\n",
       "    Frodo\n",
       "    <span style=\"font-size: 0.8em; font-weight: bold; line-height: 1; border-radius: 0.35em; vertical-align: middle; margin-left: 0.5rem\">PERSON</span>\n",
       "</mark>\n",
       " to a seat by his side, and presented him to the company, saying:</br>     'Here, my friends is the hobbit, \n",
       "<mark class=\"entity\" style=\"background: #aa9cfc; padding: 0.45em 0.6em; margin: 0 0.25em; line-height: 1; border-radius: 0.35em;\">\n",
       "    Frodo\n",
       "    <span style=\"font-size: 0.8em; font-weight: bold; line-height: 1; border-radius: 0.35em; vertical-align: middle; margin-left: 0.5rem\">PERSON</span>\n",
       "</mark>\n",
       " son of \n",
       "<mark class=\"entity\" style=\"background: #7aecec; padding: 0.45em 0.6em; margin: 0 0.25em; line-height: 1; border-radius: 0.35em;\">\n",
       "    Drogo\n",
       "    <span style=\"font-size: 0.8em; font-weight: bold; line-height: 1; border-radius: 0.35em; vertical-align: middle; margin-left: 0.5rem\">ORG</span>\n",
       "</mark>\n",
       ". Few have ever come hither through greater peril or on an errand more urgent.'</br>     He then pointed out and named those whom \n",
       "<mark class=\"entity\" style=\"background: #aa9cfc; padding: 0.45em 0.6em; margin: 0 0.25em; line-height: 1; border-radius: 0.35em;\">\n",
       "    Frodo\n",
       "    <span style=\"font-size: 0.8em; font-weight: bold; line-height: 1; border-radius: 0.35em; vertical-align: middle; margin-left: 0.5rem\">PERSON</span>\n",
       "</mark>\n",
       " had not met before. There was a younger dwarf at \n",
       "<mark class=\"entity\" style=\"background: #aa9cfc; padding: 0.45em 0.6em; margin: 0 0.25em; line-height: 1; border-radius: 0.35em;\">\n",
       "    Glóin\n",
       "    <span style=\"font-size: 0.8em; font-weight: bold; line-height: 1; border-radius: 0.35em; vertical-align: middle; margin-left: 0.5rem\">PERSON</span>\n",
       "</mark>\n",
       "'s side: his son \n",
       "<mark class=\"entity\" style=\"background: #aa9cfc; padding: 0.45em 0.6em; margin: 0 0.25em; line-height: 1; border-radius: 0.35em;\">\n",
       "    Gimli\n",
       "    <span style=\"font-size: 0.8em; font-weight: bold; line-height: 1; border-radius: 0.35em; vertical-align: middle; margin-left: 0.5rem\">PERSON</span>\n",
       "</mark>\n",
       ". Beside \n",
       "<mark class=\"entity\" style=\"background: #aa9cfc; padding: 0.45em 0.6em; margin: 0 0.25em; line-height: 1; border-radius: 0.35em;\">\n",
       "    Glorfindel\n",
       "    <span style=\"font-size: 0.8em; font-weight: bold; line-height: 1; border-radius: 0.35em; vertical-align: middle; margin-left: 0.5rem\">PERSON</span>\n",
       "</mark>\n",
       " there were several other counsellors </div></span>"
      ],
      "text/plain": [
       "<IPython.core.display.HTML object>"
      ]
     },
     "metadata": {},
     "output_type": "display_data"
    }
   ],
   "source": [
    "displacy.render(doc, style=\"ent\")"
   ]
  },
  {
   "attachments": {},
   "cell_type": "markdown",
   "id": "e5c656be",
   "metadata": {},
   "source": [
    "Let's now take a look at our first token, `Next`."
   ]
  },
  {
   "cell_type": "code",
   "execution_count": 8,
   "id": "109e4d78",
   "metadata": {},
   "outputs": [
    {
     "data": {
      "text/plain": [
       "Next"
      ]
     },
     "execution_count": 8,
     "metadata": {},
     "output_type": "execute_result"
    }
   ],
   "source": [
    "doc[0]"
   ]
  },
  {
   "attachments": {},
   "cell_type": "markdown",
   "id": "4bfb53a6",
   "metadata": {},
   "source": [
    "We can examine its vector by using `.vector`"
   ]
  },
  {
   "cell_type": "code",
   "execution_count": 9,
   "id": "94eb926e",
   "metadata": {},
   "outputs": [
    {
     "data": {
      "text/plain": [
       "array([ 4.2548e+00,  2.2683e+00,  3.4192e-01,  8.2185e-01,  2.6180e+00,\n",
       "        7.1039e-01,  2.7235e+00, -6.7638e+00, -1.6919e+00,  3.4654e+00,\n",
       "       -3.7925e+00,  7.1899e-01, -3.0703e+00,  3.1620e+00,  7.0921e-01,\n",
       "       -2.2752e+00,  7.4683e+00, -3.2189e+00, -1.1463e+00,  1.8504e+00,\n",
       "        3.3196e+00, -1.4895e+00, -5.5471e-01, -2.2209e+00, -1.5973e+00,\n",
       "        1.1304e+00, -2.8108e+00,  1.4556e+00,  3.2572e-01, -2.1483e+00,\n",
       "       -4.9284e-01, -9.2520e-01,  6.8067e+00, -5.7165e-01, -6.4473e-01,\n",
       "       -2.3307e+00,  4.5853e+00, -2.1048e+00,  6.3594e+00, -6.1270e+00,\n",
       "        2.7494e+00,  1.7652e+00,  1.5085e+00, -8.3084e-01,  1.9338e+00,\n",
       "        8.2901e-01,  2.0734e+00,  2.3365e+00, -3.1395e+00, -3.1849e+00,\n",
       "       -3.4746e-01,  1.9683e+00, -8.7075e-02,  5.0254e+00, -1.0625e+00,\n",
       "        1.6349e+00, -3.3562e+00, -4.3922e+00, -2.4778e+00, -1.8952e-01,\n",
       "       -5.7118e-01,  4.2802e+00,  9.2652e-01,  4.1542e+00, -1.5395e+00,\n",
       "        7.3048e-01, -2.8550e+00, -2.2293e+00,  3.1623e+00,  8.3851e-01,\n",
       "       -3.0523e+00,  2.3203e+00,  2.3612e+00, -2.6360e+00,  2.0458e+00,\n",
       "        6.2374e-01,  7.8629e+00, -4.7822e-01,  1.8515e+00,  5.2511e-02,\n",
       "        4.3230e+00, -1.4062e+00,  2.2049e+00, -1.0039e+00,  5.9820e-02,\n",
       "       -1.3906e+00,  2.2677e+00,  1.1391e+00,  2.9810e+00, -1.7891e+00,\n",
       "       -1.8844e+00, -1.9925e-01, -2.1773e+00,  5.6147e+00, -2.3783e+00,\n",
       "        6.7007e-01,  3.4219e+00,  1.9209e+00, -5.5405e+00,  4.3711e+00,\n",
       "       -3.9887e+00, -2.4297e+00,  3.2544e+00, -1.9363e+00, -1.5147e+00,\n",
       "        1.9197e+00,  7.9066e-01,  6.6786e-01, -1.3138e+00, -1.3098e+00,\n",
       "        3.4888e+00,  4.1853e+00, -1.6037e+00,  3.4366e-01,  2.2225e+00,\n",
       "        6.9746e-01,  2.8235e+00, -1.3091e+00, -1.9839e+00, -2.1465e+00,\n",
       "       -3.9620e+00, -1.3763e+00, -2.7323e-02,  5.1830e-01,  4.1155e+00,\n",
       "        3.5670e+00,  5.0662e+00,  2.4883e+00, -7.2541e-01, -7.8960e-01,\n",
       "       -8.5865e+00, -1.5725e+00,  5.6306e-01, -1.8703e-01,  2.1198e+00,\n",
       "       -1.9243e+00,  1.2849e+00,  2.1139e+00, -2.0809e-01, -1.2899e+00,\n",
       "        2.8549e+00, -6.8356e-01,  2.4937e+00,  2.9387e+00, -1.6041e+00,\n",
       "        3.2891e+00,  1.5862e+00,  2.4971e-01, -1.6078e+00, -4.0711e+00,\n",
       "       -9.4551e-01,  4.1569e+00, -2.1907e+00, -5.0509e+00, -1.1180e+00,\n",
       "       -2.0034e+00, -8.3386e-01,  3.2949e+00,  2.0160e+00, -7.2467e-01,\n",
       "        2.3425e+00,  5.3018e+00, -1.7338e+00,  4.0405e-01, -8.4848e-01,\n",
       "       -1.0927e+00, -1.8809e-01, -2.3436e+00,  2.9586e+00,  2.2107e+00,\n",
       "       -3.0621e+00, -3.3172e+00,  3.1178e+00,  8.7046e-01, -1.1572e-01,\n",
       "        1.1446e+00, -3.6269e+00, -4.4699e+00, -1.6752e+00,  8.8778e-01,\n",
       "       -1.1565e+00,  4.4291e+00,  2.1764e+00, -3.1175e+00, -4.7241e+00,\n",
       "       -4.5340e-03,  1.5136e+00, -3.9359e-01,  6.4769e-01,  1.8053e+00,\n",
       "       -2.6650e+00,  3.3415e+00,  1.6435e+00,  2.1673e+00, -8.9917e-01,\n",
       "        1.6238e+00,  6.1833e-01, -8.6242e-01, -6.4411e+00, -2.6173e+00,\n",
       "       -2.3010e+00,  2.8956e-01,  2.2708e+00,  1.0498e-01, -4.6611e-02,\n",
       "        1.4494e+00,  9.7338e-01,  1.9259e+00,  2.5665e+00, -1.4327e-01,\n",
       "        7.3397e-01, -3.8257e-01, -6.2459e-01, -1.5497e+00,  2.0379e+00,\n",
       "        8.1731e-01, -6.3330e-01, -8.5979e-01, -2.9931e+00, -1.4826e+00,\n",
       "       -2.6355e+00,  2.0754e+00, -5.3835e-01,  1.5959e+00, -1.5103e+00,\n",
       "        6.3352e-02,  2.4779e+00, -1.2816e+00, -5.6570e+00, -1.4882e+00,\n",
       "       -6.6961e-01,  6.1715e-01, -2.1908e+00, -4.5758e+00, -4.2282e-01,\n",
       "       -3.4312e+00, -1.9377e-01, -1.6035e+00,  5.2630e+00, -2.3983e+00,\n",
       "       -1.0972e+00, -1.5296e-01, -1.2442e-01, -1.2689e+00, -5.1001e-02,\n",
       "        1.2090e+00, -2.4379e+00,  2.2441e+00, -4.7968e+00, -9.9853e-01,\n",
       "        5.2269e+00,  1.0613e+00,  8.7998e-01,  8.2258e-01, -1.9825e+00,\n",
       "       -2.4919e+00,  3.1651e+00, -1.7035e-01, -3.0741e+00,  3.7411e-01,\n",
       "        2.9974e+00, -1.1662e+00, -2.3729e+00,  4.2028e+00,  3.6723e+00,\n",
       "        7.4976e-01, -4.7027e-01, -4.8510e+00,  1.0107e+00, -3.1142e+00,\n",
       "       -1.9164e+00, -1.3591e+00,  2.5266e+00, -4.4899e-01,  5.3686e+00,\n",
       "       -3.8075e+00, -2.2213e+00,  2.9789e+00, -5.3800e-01, -1.7638e+00,\n",
       "       -1.3246e+00,  3.6415e+00, -2.0605e+00,  3.2290e-01,  1.8595e+00,\n",
       "       -2.1040e+00,  3.1859e+00, -2.1193e+00,  2.3323e+00, -1.2390e+00,\n",
       "        3.3805e+00,  4.1530e-01,  1.6038e+00,  2.7023e+00,  1.7363e+00,\n",
       "       -5.8332e-01,  1.6387e+00,  1.6776e+00, -3.2039e+00,  1.3673e+00],\n",
       "      dtype=float32)"
      ]
     },
     "execution_count": 9,
     "metadata": {},
     "output_type": "execute_result"
    }
   ],
   "source": [
    "doc[0].vector"
   ]
  },
  {
   "attachments": {},
   "cell_type": "markdown",
   "id": "d4b3ea22",
   "metadata": {},
   "source": [
    "Believe it or not, this complex numerical value corresponds to the meaning of the word `Next`, relative to all other words the model has learned. In spaCy, we can map similarity of these vectors by first creating a document and then checking its similarity to another document."
   ]
  },
  {
   "cell_type": "code",
   "execution_count": 10,
   "id": "fcfcd460",
   "metadata": {},
   "outputs": [
    {
     "data": {
      "text/plain": [
       "0.8377715264038166"
      ]
     },
     "execution_count": 10,
     "metadata": {},
     "output_type": "execute_result"
    }
   ],
   "source": [
    "doc1 = nlp(\"Kate plays basketball.\")\n",
    "doc2 = nlp(\"John plays basketball.\")\n",
    "\n",
    "doc1.similarity(doc2)"
   ]
  },
  {
   "attachments": {},
   "cell_type": "markdown",
   "id": "96c65d87",
   "metadata": {},
   "source": [
    "The output is a float that corresponds to the degree of similarity. This number should be understood in context. In some corpora and with some language models this may mean very similar, while in other contexts this number may indicate the same level of similarity.\n",
    "\n",
    "Let's look at two different types of texts."
   ]
  },
  {
   "cell_type": "code",
   "execution_count": 11,
   "id": "41f7938e",
   "metadata": {},
   "outputs": [
    {
     "data": {
      "text/plain": [
       "0.30777365263215983"
      ]
     },
     "execution_count": 11,
     "metadata": {},
     "output_type": "execute_result"
    }
   ],
   "source": [
    "doc1 = nlp(\"Kate plays basketball.\")\n",
    "doc2 = nlp(\"Congress passes bills.\")\n",
    "\n",
    "doc1.similarity(doc2)"
   ]
  },
  {
   "attachments": {},
   "cell_type": "markdown",
   "id": "d4c85bab",
   "metadata": {},
   "source": [
    "Notice that our scores are much different. This difference indicates that our second example has two texts that are less similar than our those of our example. I would agree with this."
   ]
  },
  {
   "attachments": {},
   "cell_type": "markdown",
   "id": "68b1fa9a",
   "metadata": {},
   "source": [
    "\n",
    "\n",
    "# Unsupervised Learning\n",
    "\n",
    "Unsupervised learning is a method of machine learning where we do not know the labels of our data. Our goal in unsupervised learning is to pass off the task of labeling to an algorithm. This algorithm's sole purpose is to identify overlapping patterns in our data. It examines the features of our data and identifies clusters, or groupings that overlapping similarity.\n",
    "\n",
    "A good example of unsupervised learning in the humanities is topic modeling. This was original designed in the sciences but has since been applied by humanists to texts. The goal of topic modeling is to find latent, or hidden, clusters of texts within a corpus. In this context, we do not know the labels of our data. Instead, we want a computer system to identify the labels for us. Depending on the method of topic modeling being applied, the user often times needs to assign a number of topics for the algorithm to identify.\n",
    "\n",
    "The features of a text in topic modeling are words. Their usage in a text are what allow a model to identify similarity between texts. We can mimic this process here. How would you classify these topics? I want you to put them into 2 categories.\n",
    "\n",
    "Assign the following texts into categories.\n",
    "\n",
    "1. The Boston Celtics won the championship.\n",
    "2. The Dallas Cowboys lost in overtime.\n",
    "3. Basketball is a sport enjoyed worldwide.\n",
    "4. The Senator from Florida voted against the bill.\n",
    "5. The Congressperson from New Hampshire is leaving office.\n",
    "6. A bill is a type of legal document.\n",
    "\n",
    "\n",
    "\n",
    "Now, what if I asked you to put these into 3 categories? How would you do it? In unsupervised learning, we try to do something similar. We pass a group of unlabeled data to an algorithm like a topic model and expect an output of labeled data. This is a great way to get an overview of large amounts of data."
   ]
  },
  {
   "cell_type": "code",
   "execution_count": 12,
   "id": "9afc2eac",
   "metadata": {},
   "outputs": [
    {
     "data": {
      "text/html": [
       "<style>#sk-container-id-1 {color: black;background-color: white;}#sk-container-id-1 pre{padding: 0;}#sk-container-id-1 div.sk-toggleable {background-color: white;}#sk-container-id-1 label.sk-toggleable__label {cursor: pointer;display: block;width: 100%;margin-bottom: 0;padding: 0.3em;box-sizing: border-box;text-align: center;}#sk-container-id-1 label.sk-toggleable__label-arrow:before {content: \"▸\";float: left;margin-right: 0.25em;color: #696969;}#sk-container-id-1 label.sk-toggleable__label-arrow:hover:before {color: black;}#sk-container-id-1 div.sk-estimator:hover label.sk-toggleable__label-arrow:before {color: black;}#sk-container-id-1 div.sk-toggleable__content {max-height: 0;max-width: 0;overflow: hidden;text-align: left;background-color: #f0f8ff;}#sk-container-id-1 div.sk-toggleable__content pre {margin: 0.2em;color: black;border-radius: 0.25em;background-color: #f0f8ff;}#sk-container-id-1 input.sk-toggleable__control:checked~div.sk-toggleable__content {max-height: 200px;max-width: 100%;overflow: auto;}#sk-container-id-1 input.sk-toggleable__control:checked~label.sk-toggleable__label-arrow:before {content: \"▾\";}#sk-container-id-1 div.sk-estimator input.sk-toggleable__control:checked~label.sk-toggleable__label {background-color: #d4ebff;}#sk-container-id-1 div.sk-label input.sk-toggleable__control:checked~label.sk-toggleable__label {background-color: #d4ebff;}#sk-container-id-1 input.sk-hidden--visually {border: 0;clip: rect(1px 1px 1px 1px);clip: rect(1px, 1px, 1px, 1px);height: 1px;margin: -1px;overflow: hidden;padding: 0;position: absolute;width: 1px;}#sk-container-id-1 div.sk-estimator {font-family: monospace;background-color: #f0f8ff;border: 1px dotted black;border-radius: 0.25em;box-sizing: border-box;margin-bottom: 0.5em;}#sk-container-id-1 div.sk-estimator:hover {background-color: #d4ebff;}#sk-container-id-1 div.sk-parallel-item::after {content: \"\";width: 100%;border-bottom: 1px solid gray;flex-grow: 1;}#sk-container-id-1 div.sk-label:hover label.sk-toggleable__label {background-color: #d4ebff;}#sk-container-id-1 div.sk-serial::before {content: \"\";position: absolute;border-left: 1px solid gray;box-sizing: border-box;top: 0;bottom: 0;left: 50%;z-index: 0;}#sk-container-id-1 div.sk-serial {display: flex;flex-direction: column;align-items: center;background-color: white;padding-right: 0.2em;padding-left: 0.2em;position: relative;}#sk-container-id-1 div.sk-item {position: relative;z-index: 1;}#sk-container-id-1 div.sk-parallel {display: flex;align-items: stretch;justify-content: center;background-color: white;position: relative;}#sk-container-id-1 div.sk-item::before, #sk-container-id-1 div.sk-parallel-item::before {content: \"\";position: absolute;border-left: 1px solid gray;box-sizing: border-box;top: 0;bottom: 0;left: 50%;z-index: -1;}#sk-container-id-1 div.sk-parallel-item {display: flex;flex-direction: column;z-index: 1;position: relative;background-color: white;}#sk-container-id-1 div.sk-parallel-item:first-child::after {align-self: flex-end;width: 50%;}#sk-container-id-1 div.sk-parallel-item:last-child::after {align-self: flex-start;width: 50%;}#sk-container-id-1 div.sk-parallel-item:only-child::after {width: 0;}#sk-container-id-1 div.sk-dashed-wrapped {border: 1px dashed gray;margin: 0 0.4em 0.5em 0.4em;box-sizing: border-box;padding-bottom: 0.4em;background-color: white;}#sk-container-id-1 div.sk-label label {font-family: monospace;font-weight: bold;display: inline-block;line-height: 1.2em;}#sk-container-id-1 div.sk-label-container {text-align: center;}#sk-container-id-1 div.sk-container {/* jupyter's `normalize.less` sets `[hidden] { display: none; }` but bootstrap.min.css set `[hidden] { display: none !important; }` so we also need the `!important` here to be able to override the default hidden behavior on the sphinx rendered scikit-learn.org. See: https://github.com/scikit-learn/scikit-learn/issues/21755 */display: inline-block !important;position: relative;}#sk-container-id-1 div.sk-text-repr-fallback {display: none;}</style><div id=\"sk-container-id-1\" class=\"sk-top-container\"><div class=\"sk-text-repr-fallback\"><pre>UMAP(densmap=True, tqdm_kwds={&#x27;bar_format&#x27;: &#x27;{desc}: {percentage:3.0f}%| {bar} {n_fmt}/{total_fmt} [{elapsed}]&#x27;, &#x27;desc&#x27;: &#x27;Epochs completed&#x27;, &#x27;disable&#x27;: True})</pre><b>In a Jupyter environment, please rerun this cell to show the HTML representation or trust the notebook. <br />On GitHub, the HTML representation is unable to render, please try loading this page with nbviewer.org.</b></div><div class=\"sk-container\" hidden><div class=\"sk-item\"><div class=\"sk-estimator sk-toggleable\"><input class=\"sk-toggleable__control sk-hidden--visually\" id=\"sk-estimator-id-1\" type=\"checkbox\" checked><label for=\"sk-estimator-id-1\" class=\"sk-toggleable__label sk-toggleable__label-arrow\">UMAP</label><div class=\"sk-toggleable__content\"><pre>UMAP(densmap=True, tqdm_kwds={&#x27;bar_format&#x27;: &#x27;{desc}: {percentage:3.0f}%| {bar} {n_fmt}/{total_fmt} [{elapsed}]&#x27;, &#x27;desc&#x27;: &#x27;Epochs completed&#x27;, &#x27;disable&#x27;: True})</pre></div></div></div></div></div>"
      ],
      "text/plain": [
       "UMAP(densmap=True, tqdm_kwds={'bar_format': '{desc}: {percentage:3.0f}%| {bar} {n_fmt}/{total_fmt} [{elapsed}]', 'desc': 'Epochs completed', 'disable': True})"
      ]
     },
     "execution_count": 12,
     "metadata": {},
     "output_type": "execute_result"
    }
   ],
   "source": [
    "docs = [\n",
    "\n",
    "    \"Kate plays basketball.\",\n",
    "    \"A good basketball team are the Celtics.\",\n",
    "    \"Basketball is a sport enjoyed worldwide.\",\n",
    "    \"Congress passes bills.\",\n",
    "    \"Congress creates bills.\",\n",
    "    \"Congress is in the US Government.\",\n",
    "    \"THe US has a legeslative branch called Congress\",\n",
    "    \"Basketball is a fun sport\",\n",
    "    \"I like basketball.\",\n",
    "    \"Basketball is huge in Bosnia\",\n",
    "    \"Congress has politicians.\",\n",
    "    \"Politicians work in congress.\",\n",
    "    \"Congress is based in Washington D.C.\"\n",
    "]*2\n",
    "\n",
    "\n",
    "\n",
    "embedding = umap.UMAP(densmap=True).fit([nlp(doc).vector for doc in docs])"
   ]
  },
  {
   "cell_type": "code",
   "execution_count": 13,
   "id": "17344946",
   "metadata": {},
   "outputs": [
    {
     "data": {
      "text/plain": [
       "array([[ -7.663998 ,  10.736306 ],\n",
       "       [ -5.3326745,  12.178833 ],\n",
       "       [ -5.1103134,  11.479605 ],\n",
       "       [ -2.4650927,  13.44091  ],\n",
       "       [ -2.416651 ,  13.782005 ],\n",
       "       [ -2.2156007,  10.863526 ],\n",
       "       [ -1.6053133,  13.415519 ],\n",
       "       [ -4.7087975,  11.4863615],\n",
       "       [ -9.91008  ,  10.159056 ],\n",
       "       [ -3.1916099,  10.692966 ],\n",
       "       [ -1.8217925,  13.911254 ],\n",
       "       [ -1.6552418,  11.482868 ],\n",
       "       [ -2.6219232,  11.288883 ],\n",
       "       [ -7.576543 ,  12.50841  ],\n",
       "       [ -5.7836366,  11.480118 ],\n",
       "       [ -4.948452 ,  11.678904 ],\n",
       "       [ -2.5061543,  13.589555 ],\n",
       "       [ -2.6677103,  13.727683 ],\n",
       "       [ -1.8583992,  10.944061 ],\n",
       "       [ -1.8566802,  12.914368 ],\n",
       "       [ -4.7599363,  11.152082 ],\n",
       "       [-10.255039 ,  12.632912 ],\n",
       "       [ -3.363618 ,  10.905485 ],\n",
       "       [ -2.7966862,  13.11044  ],\n",
       "       [ -1.6829665,  11.967724 ],\n",
       "       [ -2.6169457,  10.402765 ]], dtype=float32)"
      ]
     },
     "execution_count": 13,
     "metadata": {},
     "output_type": "execute_result"
    }
   ],
   "source": [
    "embedding.embedding_"
   ]
  },
  {
   "cell_type": "code",
   "execution_count": 14,
   "id": "af27f114",
   "metadata": {},
   "outputs": [],
   "source": [
    "clusterer = hdbscan.HDBSCAN(min_cluster_size=2)\n",
    "cluster_labels = clusterer.fit_predict(embedding.embedding_)"
   ]
  },
  {
   "cell_type": "code",
   "execution_count": 15,
   "id": "f2a35bb6",
   "metadata": {},
   "outputs": [
    {
     "data": {
      "text/plain": [
       "array([-1,  0,  0,  1,  1,  2,  1,  0, -1,  2,  1,  2,  2, -1,  0,  0,  1,\n",
       "        1,  2,  1,  0, -1,  2,  1,  1,  2])"
      ]
     },
     "execution_count": 15,
     "metadata": {},
     "output_type": "execute_result"
    }
   ],
   "source": [
    "cluster_labels"
   ]
  },
  {
   "cell_type": "code",
   "execution_count": 1,
   "id": "cdb9712c",
   "metadata": {},
   "outputs": [
    {
     "ename": "NameError",
     "evalue": "name 'umap' is not defined",
     "output_type": "error",
     "traceback": [
      "\u001b[0;31m---------------------------------------------------------------------------\u001b[0m",
      "\u001b[0;31mNameError\u001b[0m                                 Traceback (most recent call last)",
      "Cell \u001b[0;32mIn[1], line 2\u001b[0m\n\u001b[1;32m      1\u001b[0m \u001b[39m# mapper = umap.UMAP().fit(digits.data)\u001b[39;00m\n\u001b[0;32m----> 2\u001b[0m umap\u001b[39m.\u001b[39mplot\u001b[39m.\u001b[39mconnectivity(embedding, labels\u001b[39m=\u001b[39mcluster_labels)\n",
      "\u001b[0;31mNameError\u001b[0m: name 'umap' is not defined"
     ]
    }
   ],
   "source": [
    "# mapper = umap.UMAP().fit(digits.data)\n",
    "umap.plot.points(embedding, labels=cluster_labels)"
   ]
  },
  {
   "cell_type": "code",
   "execution_count": 17,
   "id": "187b8b6c",
   "metadata": {},
   "outputs": [],
   "source": [
    "df = pd.DataFrame({\"doc\": docs, \"label\": cluster_labels})"
   ]
  },
  {
   "cell_type": "code",
   "execution_count": 18,
   "id": "e2d9bce9",
   "metadata": {},
   "outputs": [
    {
     "data": {
      "text/html": [
       "<div>\n",
       "<style scoped>\n",
       "    .dataframe tbody tr th:only-of-type {\n",
       "        vertical-align: middle;\n",
       "    }\n",
       "\n",
       "    .dataframe tbody tr th {\n",
       "        vertical-align: top;\n",
       "    }\n",
       "\n",
       "    .dataframe thead th {\n",
       "        text-align: right;\n",
       "    }\n",
       "</style>\n",
       "<table border=\"1\" class=\"dataframe\">\n",
       "  <thead>\n",
       "    <tr style=\"text-align: right;\">\n",
       "      <th></th>\n",
       "      <th>doc</th>\n",
       "      <th>label</th>\n",
       "    </tr>\n",
       "  </thead>\n",
       "  <tbody>\n",
       "    <tr>\n",
       "      <th>1</th>\n",
       "      <td>A good basketball team are the Celtics.</td>\n",
       "      <td>0</td>\n",
       "    </tr>\n",
       "    <tr>\n",
       "      <th>2</th>\n",
       "      <td>Basketball is a sport enjoyed worldwide.</td>\n",
       "      <td>0</td>\n",
       "    </tr>\n",
       "    <tr>\n",
       "      <th>7</th>\n",
       "      <td>Basketball is a fun sport</td>\n",
       "      <td>0</td>\n",
       "    </tr>\n",
       "    <tr>\n",
       "      <th>14</th>\n",
       "      <td>A good basketball team are the Celtics.</td>\n",
       "      <td>0</td>\n",
       "    </tr>\n",
       "    <tr>\n",
       "      <th>15</th>\n",
       "      <td>Basketball is a sport enjoyed worldwide.</td>\n",
       "      <td>0</td>\n",
       "    </tr>\n",
       "    <tr>\n",
       "      <th>20</th>\n",
       "      <td>Basketball is a fun sport</td>\n",
       "      <td>0</td>\n",
       "    </tr>\n",
       "  </tbody>\n",
       "</table>\n",
       "</div>"
      ],
      "text/plain": [
       "                                         doc  label\n",
       "1    A good basketball team are the Celtics.      0\n",
       "2   Basketball is a sport enjoyed worldwide.      0\n",
       "7                  Basketball is a fun sport      0\n",
       "14   A good basketball team are the Celtics.      0\n",
       "15  Basketball is a sport enjoyed worldwide.      0\n",
       "20                 Basketball is a fun sport      0"
      ]
     },
     "execution_count": 18,
     "metadata": {},
     "output_type": "execute_result"
    }
   ],
   "source": [
    "df.loc[df[\"label\"] == 0]"
   ]
  },
  {
   "cell_type": "code",
   "execution_count": 19,
   "id": "68c76131",
   "metadata": {},
   "outputs": [],
   "source": [
    "vectors = []\n",
    "sents = []\n",
    "\n",
    "doc = nlp(text)\n",
    "for sent in doc.sents:\n",
    "    vectors.append(sent.vector)\n",
    "    sents.append(sent.text)"
   ]
  },
  {
   "cell_type": "code",
   "execution_count": 20,
   "id": "e13e0137",
   "metadata": {},
   "outputs": [],
   "source": [
    "embedding = umap.UMAP(transform_seed=0).fit(vectors)"
   ]
  },
  {
   "cell_type": "code",
   "execution_count": 21,
   "id": "e107e7ab",
   "metadata": {},
   "outputs": [],
   "source": [
    "clusterer = hdbscan.HDBSCAN(min_cluster_size=2)\n",
    "cluster_labels = clusterer.fit_predict(embedding.embedding_)"
   ]
  },
  {
   "cell_type": "code",
   "execution_count": 22,
   "id": "c797d259",
   "metadata": {},
   "outputs": [],
   "source": [
    "df = pd.DataFrame({\"doc\": sents, \"label\": cluster_labels})"
   ]
  },
  {
   "cell_type": "code",
   "execution_count": 23,
   "id": "aba25019",
   "metadata": {},
   "outputs": [],
   "source": [
    "hover_data = {}\n",
    "for i, sent in enumerate(sents):\n",
    "    hover_data[f'{i}']=sent"
   ]
  },
  {
   "cell_type": "code",
   "execution_count": 24,
   "id": "47e94538",
   "metadata": {},
   "outputs": [
    {
     "data": {
      "text/html": [
       "<style>\n",
       "        .bk-notebook-logo {\n",
       "            display: block;\n",
       "            width: 20px;\n",
       "            height: 20px;\n",
       "            background-image: url(data:image/png;base64,iVBORw0KGgoAAAANSUhEUgAAABQAAAAUCAYAAACNiR0NAAAABHNCSVQICAgIfAhkiAAAAAlwSFlzAAALEgAACxIB0t1+/AAAABx0RVh0U29mdHdhcmUAQWRvYmUgRmlyZXdvcmtzIENTNui8sowAAAOkSURBVDiNjZRtaJVlGMd/1/08zzln5zjP1LWcU9N0NkN8m2CYjpgQYQXqSs0I84OLIC0hkEKoPtiH3gmKoiJDU7QpLgoLjLIQCpEsNJ1vqUOdO7ppbuec5+V+rj4ctwzd8IIbbi6u+8f1539dt3A78eXC7QizUF7gyV1fD1Yqg4JWz84yffhm0qkFqBogB9rM8tZdtwVsPUhWhGcFJngGeWrPzHm5oaMmkfEg1usvLFyc8jLRqDOMru7AyC8saQr7GG7f5fvDeH7Ej8CM66nIF+8yngt6HWaKh7k49Soy9nXurCi1o3qUbS3zWfrYeQDTB/Qj6kX6Ybhw4B+bOYoLKCC9H3Nu/leUTZ1JdRWkkn2ldcCamzrcf47KKXdAJllSlxAOkRgyHsGC/zRday5Qld9DyoM4/q/rUoy/CXh3jzOu3bHUVZeU+DEn8FInkPBFlu3+nW3Nw0mk6vCDiWg8CeJaxEwuHS3+z5RgY+YBR6V1Z1nxSOfoaPa4LASWxxdNp+VWTk7+4vzaou8v8PN+xo+KY2xsw6une2frhw05CTYOmQvsEhjhWjn0bmXPjpE1+kplmmkP3suftwTubK9Vq22qKmrBhpY4jvd5afdRA3wGjFAgcnTK2s4hY0/GPNIb0nErGMCRxWOOX64Z8RAC4oCXdklmEvcL8o0BfkNK4lUg9HTl+oPlQxdNo3Mg4Nv175e/1LDGzZen30MEjRUtmXSfiTVu1kK8W4txyV6BMKlbgk3lMwYCiusNy9fVfvvwMxv8Ynl6vxoByANLTWplvuj/nF9m2+PDtt1eiHPBr1oIfhCChQMBw6Aw0UulqTKZdfVvfG7VcfIqLG9bcldL/+pdWTLxLUy8Qq38heUIjh4XlzZxzQm19lLFlr8vdQ97rjZVOLf8nclzckbcD4wxXMidpX30sFd37Fv/GtwwhzhxGVAprjbg0gCAEeIgwCZyTV2Z1REEW8O4py0wsjeloKoMr6iCY6dP92H6Vw/oTyICIthibxjm/DfN9lVz8IqtqKYLUXfoKVMVQVVJOElGjrnnUt9T9wbgp8AyYKaGlqingHZU/uG2NTZSVqwHQTWkx9hxjkpWDaCg6Ckj5qebgBVbT3V3NNXMSiWSDdGV3hrtzla7J+duwPOToIg42ChPQOQjspnSlp1V+Gjdged7+8UN5CRAV7a5EdFNwCjEaBR27b3W890TE7g24NAP/mMDXRWrGoFPQI9ls/MWO2dWFAar/xcOIImbbpA3zgAAAABJRU5ErkJggg==);\n",
       "        }\n",
       "    </style>\n",
       "    <div>\n",
       "        <a href=\"https://bokeh.org\" target=\"_blank\" class=\"bk-notebook-logo\"></a>\n",
       "        <span id=\"f5c026ea-f4af-4371-9f36-9a1047ab5ded\">Loading BokehJS ...</span>\n",
       "    </div>\n"
      ]
     },
     "metadata": {},
     "output_type": "display_data"
    },
    {
     "data": {
      "application/javascript": "(function(root) {\n  function now() {\n    return new Date();\n  }\n\n  const force = true;\n\n  if (typeof root._bokeh_onload_callbacks === \"undefined\" || force === true) {\n    root._bokeh_onload_callbacks = [];\n    root._bokeh_is_loading = undefined;\n  }\n\nconst JS_MIME_TYPE = 'application/javascript';\n  const HTML_MIME_TYPE = 'text/html';\n  const EXEC_MIME_TYPE = 'application/vnd.bokehjs_exec.v0+json';\n  const CLASS_NAME = 'output_bokeh rendered_html';\n\n  /**\n   * Render data to the DOM node\n   */\n  function render(props, node) {\n    const script = document.createElement(\"script\");\n    node.appendChild(script);\n  }\n\n  /**\n   * Handle when an output is cleared or removed\n   */\n  function handleClearOutput(event, handle) {\n    const cell = handle.cell;\n\n    const id = cell.output_area._bokeh_element_id;\n    const server_id = cell.output_area._bokeh_server_id;\n    // Clean up Bokeh references\n    if (id != null && id in Bokeh.index) {\n      Bokeh.index[id].model.document.clear();\n      delete Bokeh.index[id];\n    }\n\n    if (server_id !== undefined) {\n      // Clean up Bokeh references\n      const cmd_clean = \"from bokeh.io.state import curstate; print(curstate().uuid_to_server['\" + server_id + \"'].get_sessions()[0].document.roots[0]._id)\";\n      cell.notebook.kernel.execute(cmd_clean, {\n        iopub: {\n          output: function(msg) {\n            const id = msg.content.text.trim();\n            if (id in Bokeh.index) {\n              Bokeh.index[id].model.document.clear();\n              delete Bokeh.index[id];\n            }\n          }\n        }\n      });\n      // Destroy server and session\n      const cmd_destroy = \"import bokeh.io.notebook as ion; ion.destroy_server('\" + server_id + \"')\";\n      cell.notebook.kernel.execute(cmd_destroy);\n    }\n  }\n\n  /**\n   * Handle when a new output is added\n   */\n  function handleAddOutput(event, handle) {\n    const output_area = handle.output_area;\n    const output = handle.output;\n\n    // limit handleAddOutput to display_data with EXEC_MIME_TYPE content only\n    if ((output.output_type != \"display_data\") || (!Object.prototype.hasOwnProperty.call(output.data, EXEC_MIME_TYPE))) {\n      return\n    }\n\n    const toinsert = output_area.element.find(\".\" + CLASS_NAME.split(' ')[0]);\n\n    if (output.metadata[EXEC_MIME_TYPE][\"id\"] !== undefined) {\n      toinsert[toinsert.length - 1].firstChild.textContent = output.data[JS_MIME_TYPE];\n      // store reference to embed id on output_area\n      output_area._bokeh_element_id = output.metadata[EXEC_MIME_TYPE][\"id\"];\n    }\n    if (output.metadata[EXEC_MIME_TYPE][\"server_id\"] !== undefined) {\n      const bk_div = document.createElement(\"div\");\n      bk_div.innerHTML = output.data[HTML_MIME_TYPE];\n      const script_attrs = bk_div.children[0].attributes;\n      for (let i = 0; i < script_attrs.length; i++) {\n        toinsert[toinsert.length - 1].firstChild.setAttribute(script_attrs[i].name, script_attrs[i].value);\n        toinsert[toinsert.length - 1].firstChild.textContent = bk_div.children[0].textContent\n      }\n      // store reference to server id on output_area\n      output_area._bokeh_server_id = output.metadata[EXEC_MIME_TYPE][\"server_id\"];\n    }\n  }\n\n  function register_renderer(events, OutputArea) {\n\n    function append_mime(data, metadata, element) {\n      // create a DOM node to render to\n      const toinsert = this.create_output_subarea(\n        metadata,\n        CLASS_NAME,\n        EXEC_MIME_TYPE\n      );\n      this.keyboard_manager.register_events(toinsert);\n      // Render to node\n      const props = {data: data, metadata: metadata[EXEC_MIME_TYPE]};\n      render(props, toinsert[toinsert.length - 1]);\n      element.append(toinsert);\n      return toinsert\n    }\n\n    /* Handle when an output is cleared or removed */\n    events.on('clear_output.CodeCell', handleClearOutput);\n    events.on('delete.Cell', handleClearOutput);\n\n    /* Handle when a new output is added */\n    events.on('output_added.OutputArea', handleAddOutput);\n\n    /**\n     * Register the mime type and append_mime function with output_area\n     */\n    OutputArea.prototype.register_mime_type(EXEC_MIME_TYPE, append_mime, {\n      /* Is output safe? */\n      safe: true,\n      /* Index of renderer in `output_area.display_order` */\n      index: 0\n    });\n  }\n\n  // register the mime type if in Jupyter Notebook environment and previously unregistered\n  if (root.Jupyter !== undefined) {\n    const events = require('base/js/events');\n    const OutputArea = require('notebook/js/outputarea').OutputArea;\n\n    if (OutputArea.prototype.mime_types().indexOf(EXEC_MIME_TYPE) == -1) {\n      register_renderer(events, OutputArea);\n    }\n  }\n  if (typeof (root._bokeh_timeout) === \"undefined\" || force === true) {\n    root._bokeh_timeout = Date.now() + 5000;\n    root._bokeh_failed_load = false;\n  }\n\n  const NB_LOAD_WARNING = {'data': {'text/html':\n     \"<div style='background-color: #fdd'>\\n\"+\n     \"<p>\\n\"+\n     \"BokehJS does not appear to have successfully loaded. If loading BokehJS from CDN, this \\n\"+\n     \"may be due to a slow or bad network connection. Possible fixes:\\n\"+\n     \"</p>\\n\"+\n     \"<ul>\\n\"+\n     \"<li>re-rerun `output_notebook()` to attempt to load from CDN again, or</li>\\n\"+\n     \"<li>use INLINE resources instead, as so:</li>\\n\"+\n     \"</ul>\\n\"+\n     \"<code>\\n\"+\n     \"from bokeh.resources import INLINE\\n\"+\n     \"output_notebook(resources=INLINE)\\n\"+\n     \"</code>\\n\"+\n     \"</div>\"}};\n\n  function display_loaded() {\n    const el = document.getElementById(\"f5c026ea-f4af-4371-9f36-9a1047ab5ded\");\n    if (el != null) {\n      el.textContent = \"BokehJS is loading...\";\n    }\n    if (root.Bokeh !== undefined) {\n      if (el != null) {\n        el.textContent = \"BokehJS \" + root.Bokeh.version + \" successfully loaded.\";\n      }\n    } else if (Date.now() < root._bokeh_timeout) {\n      setTimeout(display_loaded, 100)\n    }\n  }\n\n  function run_callbacks() {\n    try {\n      root._bokeh_onload_callbacks.forEach(function(callback) {\n        if (callback != null)\n          callback();\n      });\n    } finally {\n      delete root._bokeh_onload_callbacks\n    }\n    console.debug(\"Bokeh: all callbacks have finished\");\n  }\n\n  function load_libs(css_urls, js_urls, callback) {\n    if (css_urls == null) css_urls = [];\n    if (js_urls == null) js_urls = [];\n\n    root._bokeh_onload_callbacks.push(callback);\n    if (root._bokeh_is_loading > 0) {\n      console.debug(\"Bokeh: BokehJS is being loaded, scheduling callback at\", now());\n      return null;\n    }\n    if (js_urls == null || js_urls.length === 0) {\n      run_callbacks();\n      return null;\n    }\n    console.debug(\"Bokeh: BokehJS not loaded, scheduling load and callback at\", now());\n    root._bokeh_is_loading = css_urls.length + js_urls.length;\n\n    function on_load() {\n      root._bokeh_is_loading--;\n      if (root._bokeh_is_loading === 0) {\n        console.debug(\"Bokeh: all BokehJS libraries/stylesheets loaded\");\n        run_callbacks()\n      }\n    }\n\n    function on_error(url) {\n      console.error(\"failed to load \" + url);\n    }\n\n    for (let i = 0; i < css_urls.length; i++) {\n      const url = css_urls[i];\n      const element = document.createElement(\"link\");\n      element.onload = on_load;\n      element.onerror = on_error.bind(null, url);\n      element.rel = \"stylesheet\";\n      element.type = \"text/css\";\n      element.href = url;\n      console.debug(\"Bokeh: injecting link tag for BokehJS stylesheet: \", url);\n      document.body.appendChild(element);\n    }\n\n    for (let i = 0; i < js_urls.length; i++) {\n      const url = js_urls[i];\n      const element = document.createElement('script');\n      element.onload = on_load;\n      element.onerror = on_error.bind(null, url);\n      element.async = false;\n      element.src = url;\n      console.debug(\"Bokeh: injecting script tag for BokehJS library: \", url);\n      document.head.appendChild(element);\n    }\n  };\n\n  function inject_raw_css(css) {\n    const element = document.createElement(\"style\");\n    element.appendChild(document.createTextNode(css));\n    document.body.appendChild(element);\n  }\n\n  const js_urls = [\"https://cdn.bokeh.org/bokeh/release/bokeh-3.2.1.min.js\", \"https://cdn.bokeh.org/bokeh/release/bokeh-gl-3.2.1.min.js\", \"https://cdn.bokeh.org/bokeh/release/bokeh-widgets-3.2.1.min.js\", \"https://cdn.bokeh.org/bokeh/release/bokeh-tables-3.2.1.min.js\", \"https://cdn.bokeh.org/bokeh/release/bokeh-mathjax-3.2.1.min.js\", \"https://unpkg.com/@holoviz/panel@1.2.1/dist/panel.min.js\"];\n  const css_urls = [];\n\n  const inline_js = [    function(Bokeh) {\n      Bokeh.set_log_level(\"info\");\n    },\nfunction(Bokeh) {\n    }\n  ];\n\n  function run_inline_js() {\n    if (root.Bokeh !== undefined || force === true) {\n          for (let i = 0; i < inline_js.length; i++) {\n      inline_js[i].call(root, root.Bokeh);\n    }\nif (force === true) {\n        display_loaded();\n      }} else if (Date.now() < root._bokeh_timeout) {\n      setTimeout(run_inline_js, 100);\n    } else if (!root._bokeh_failed_load) {\n      console.log(\"Bokeh: BokehJS failed to load within specified timeout.\");\n      root._bokeh_failed_load = true;\n    } else if (force !== true) {\n      const cell = $(document.getElementById(\"f5c026ea-f4af-4371-9f36-9a1047ab5ded\")).parents('.cell').data().cell;\n      cell.output_area.append_execute_result(NB_LOAD_WARNING)\n    }\n  }\n\n  if (root._bokeh_is_loading === 0) {\n    console.debug(\"Bokeh: BokehJS loaded, going straight to plotting\");\n    run_inline_js();\n  } else {\n    load_libs(css_urls, js_urls, function() {\n      console.debug(\"Bokeh: BokehJS plotting callback run at\", now());\n      run_inline_js();\n    });\n  }\n}(window));",
      "application/vnd.bokehjs_load.v0+json": ""
     },
     "metadata": {},
     "output_type": "display_data"
    }
   ],
   "source": [
    "umap.plot.output_notebook()"
   ]
  },
  {
   "cell_type": "code",
   "execution_count": 25,
   "id": "b0cb41be",
   "metadata": {},
   "outputs": [
    {
     "ename": "AttributeError",
     "evalue": "module 'bokeh.plotting' has no attribute 'Figure'",
     "output_type": "error",
     "traceback": [
      "\u001b[0;31m---------------------------------------------------------------------------\u001b[0m",
      "\u001b[0;31mAttributeError\u001b[0m                            Traceback (most recent call last)",
      "Cell \u001b[0;32mIn[25], line 2\u001b[0m\n\u001b[1;32m      1\u001b[0m p \u001b[39m=\u001b[39m umap\u001b[39m.\u001b[39mplot\u001b[39m.\u001b[39minteractive(embedding, labels\u001b[39m=\u001b[39mcluster_labels, point_size\u001b[39m=\u001b[39m\u001b[39m2\u001b[39m)\n\u001b[0;32m----> 2\u001b[0m umap\u001b[39m.\u001b[39;49mplot\u001b[39m.\u001b[39;49mshow(p)\n",
      "File \u001b[0;32m~/anaconda3/envs/spacy35/lib/python3.9/site-packages/umap/plot.py:470\u001b[0m, in \u001b[0;36mshow\u001b[0;34m(plot_to_show)\u001b[0m\n\u001b[1;32m    468\u001b[0m \u001b[39mif\u001b[39;00m \u001b[39misinstance\u001b[39m(plot_to_show, plt\u001b[39m.\u001b[39mAxes):\n\u001b[1;32m    469\u001b[0m     show_static()\n\u001b[0;32m--> 470\u001b[0m \u001b[39melif\u001b[39;00m \u001b[39misinstance\u001b[39m(plot_to_show, bpl\u001b[39m.\u001b[39;49mFigure):\n\u001b[1;32m    471\u001b[0m     show_interactive(plot_to_show)\n\u001b[1;32m    472\u001b[0m \u001b[39melif\u001b[39;00m \u001b[39misinstance\u001b[39m(plot_to_show, hv\u001b[39m.\u001b[39mcore\u001b[39m.\u001b[39mspaces\u001b[39m.\u001b[39mDynamicMap):\n",
      "\u001b[0;31mAttributeError\u001b[0m: module 'bokeh.plotting' has no attribute 'Figure'"
     ]
    }
   ],
   "source": [
    "p = umap.plot.interactive(embedding, labels=cluster_labels, point_size=2)\n",
    "umap.plot.show(p)"
   ]
  },
  {
   "cell_type": "code",
   "execution_count": null,
   "metadata": {},
   "outputs": [
    {
     "data": {
      "text/html": [
       "<div style=\"display: table;\"><div style=\"display: table-row;\"><div style=\"display: table-cell;\"><b title=\"bokeh.plotting._figure.figure\">figure</b>(</div><div style=\"display: table-cell;\">id&nbsp;=&nbsp;'p1131', <span id=\"p1169\" style=\"cursor: pointer;\">&hellip;)</span></div></div><div class=\"p1168\" style=\"display: none;\"><div style=\"display: table-cell;\"></div><div style=\"display: table-cell;\">above&nbsp;=&nbsp;[],</div></div><div class=\"p1168\" style=\"display: none;\"><div style=\"display: table-cell;\"></div><div style=\"display: table-cell;\">align&nbsp;=&nbsp;'auto',</div></div><div class=\"p1168\" style=\"display: none;\"><div style=\"display: table-cell;\"></div><div style=\"display: table-cell;\">aspect_ratio&nbsp;=&nbsp;None,</div></div><div class=\"p1168\" style=\"display: none;\"><div style=\"display: table-cell;\"></div><div style=\"display: table-cell;\">aspect_scale&nbsp;=&nbsp;1,</div></div><div class=\"p1168\" style=\"display: none;\"><div style=\"display: table-cell;\"></div><div style=\"display: table-cell;\">background_fill_alpha&nbsp;=&nbsp;1.0,</div></div><div class=\"p1168\" style=\"display: none;\"><div style=\"display: table-cell;\"></div><div style=\"display: table-cell;\">background_fill_color&nbsp;=&nbsp;'white',</div></div><div class=\"p1168\" style=\"display: none;\"><div style=\"display: table-cell;\"></div><div style=\"display: table-cell;\">below&nbsp;=&nbsp;[LinearAxis(id='p1142', ...)],</div></div><div class=\"p1168\" style=\"display: none;\"><div style=\"display: table-cell;\"></div><div style=\"display: table-cell;\">border_fill_alpha&nbsp;=&nbsp;1.0,</div></div><div class=\"p1168\" style=\"display: none;\"><div style=\"display: table-cell;\"></div><div style=\"display: table-cell;\">border_fill_color&nbsp;=&nbsp;'#ffffff',</div></div><div class=\"p1168\" style=\"display: none;\"><div style=\"display: table-cell;\"></div><div style=\"display: table-cell;\">center&nbsp;=&nbsp;[Grid(id='p1146', ...), Grid(id='p1151', ...)],</div></div><div class=\"p1168\" style=\"display: none;\"><div style=\"display: table-cell;\"></div><div style=\"display: table-cell;\">context_menu&nbsp;=&nbsp;None,</div></div><div class=\"p1168\" style=\"display: none;\"><div style=\"display: table-cell;\"></div><div style=\"display: table-cell;\">css_classes&nbsp;=&nbsp;[],</div></div><div class=\"p1168\" style=\"display: none;\"><div style=\"display: table-cell;\"></div><div style=\"display: table-cell;\">disabled&nbsp;=&nbsp;False,</div></div><div class=\"p1168\" style=\"display: none;\"><div style=\"display: table-cell;\"></div><div style=\"display: table-cell;\">extra_x_ranges&nbsp;=&nbsp;{},</div></div><div class=\"p1168\" style=\"display: none;\"><div style=\"display: table-cell;\"></div><div style=\"display: table-cell;\">extra_x_scales&nbsp;=&nbsp;{},</div></div><div class=\"p1168\" style=\"display: none;\"><div style=\"display: table-cell;\"></div><div style=\"display: table-cell;\">extra_y_ranges&nbsp;=&nbsp;{},</div></div><div class=\"p1168\" style=\"display: none;\"><div style=\"display: table-cell;\"></div><div style=\"display: table-cell;\">extra_y_scales&nbsp;=&nbsp;{},</div></div><div class=\"p1168\" style=\"display: none;\"><div style=\"display: table-cell;\"></div><div style=\"display: table-cell;\">flow_mode&nbsp;=&nbsp;'block',</div></div><div class=\"p1168\" style=\"display: none;\"><div style=\"display: table-cell;\"></div><div style=\"display: table-cell;\">frame_align&nbsp;=&nbsp;True,</div></div><div class=\"p1168\" style=\"display: none;\"><div style=\"display: table-cell;\"></div><div style=\"display: table-cell;\">frame_height&nbsp;=&nbsp;None,</div></div><div class=\"p1168\" style=\"display: none;\"><div style=\"display: table-cell;\"></div><div style=\"display: table-cell;\">frame_width&nbsp;=&nbsp;None,</div></div><div class=\"p1168\" style=\"display: none;\"><div style=\"display: table-cell;\"></div><div style=\"display: table-cell;\">height&nbsp;=&nbsp;800,</div></div><div class=\"p1168\" style=\"display: none;\"><div style=\"display: table-cell;\"></div><div style=\"display: table-cell;\">height_policy&nbsp;=&nbsp;'auto',</div></div><div class=\"p1168\" style=\"display: none;\"><div style=\"display: table-cell;\"></div><div style=\"display: table-cell;\">hidpi&nbsp;=&nbsp;True,</div></div><div class=\"p1168\" style=\"display: none;\"><div style=\"display: table-cell;\"></div><div style=\"display: table-cell;\">hold_render&nbsp;=&nbsp;False,</div></div><div class=\"p1168\" style=\"display: none;\"><div style=\"display: table-cell;\"></div><div style=\"display: table-cell;\">js_event_callbacks&nbsp;=&nbsp;{},</div></div><div class=\"p1168\" style=\"display: none;\"><div style=\"display: table-cell;\"></div><div style=\"display: table-cell;\">js_property_callbacks&nbsp;=&nbsp;{},</div></div><div class=\"p1168\" style=\"display: none;\"><div style=\"display: table-cell;\"></div><div style=\"display: table-cell;\">left&nbsp;=&nbsp;[LinearAxis(id='p1147', ...)],</div></div><div class=\"p1168\" style=\"display: none;\"><div style=\"display: table-cell;\"></div><div style=\"display: table-cell;\">lod_factor&nbsp;=&nbsp;10,</div></div><div class=\"p1168\" style=\"display: none;\"><div style=\"display: table-cell;\"></div><div style=\"display: table-cell;\">lod_interval&nbsp;=&nbsp;300,</div></div><div class=\"p1168\" style=\"display: none;\"><div style=\"display: table-cell;\"></div><div style=\"display: table-cell;\">lod_threshold&nbsp;=&nbsp;2000,</div></div><div class=\"p1168\" style=\"display: none;\"><div style=\"display: table-cell;\"></div><div style=\"display: table-cell;\">lod_timeout&nbsp;=&nbsp;500,</div></div><div class=\"p1168\" style=\"display: none;\"><div style=\"display: table-cell;\"></div><div style=\"display: table-cell;\">margin&nbsp;=&nbsp;None,</div></div><div class=\"p1168\" style=\"display: none;\"><div style=\"display: table-cell;\"></div><div style=\"display: table-cell;\">match_aspect&nbsp;=&nbsp;False,</div></div><div class=\"p1168\" style=\"display: none;\"><div style=\"display: table-cell;\"></div><div style=\"display: table-cell;\">max_height&nbsp;=&nbsp;None,</div></div><div class=\"p1168\" style=\"display: none;\"><div style=\"display: table-cell;\"></div><div style=\"display: table-cell;\">max_width&nbsp;=&nbsp;None,</div></div><div class=\"p1168\" style=\"display: none;\"><div style=\"display: table-cell;\"></div><div style=\"display: table-cell;\">min_border&nbsp;=&nbsp;5,</div></div><div class=\"p1168\" style=\"display: none;\"><div style=\"display: table-cell;\"></div><div style=\"display: table-cell;\">min_border_bottom&nbsp;=&nbsp;None,</div></div><div class=\"p1168\" style=\"display: none;\"><div style=\"display: table-cell;\"></div><div style=\"display: table-cell;\">min_border_left&nbsp;=&nbsp;None,</div></div><div class=\"p1168\" style=\"display: none;\"><div style=\"display: table-cell;\"></div><div style=\"display: table-cell;\">min_border_right&nbsp;=&nbsp;None,</div></div><div class=\"p1168\" style=\"display: none;\"><div style=\"display: table-cell;\"></div><div style=\"display: table-cell;\">min_border_top&nbsp;=&nbsp;None,</div></div><div class=\"p1168\" style=\"display: none;\"><div style=\"display: table-cell;\"></div><div style=\"display: table-cell;\">min_height&nbsp;=&nbsp;None,</div></div><div class=\"p1168\" style=\"display: none;\"><div style=\"display: table-cell;\"></div><div style=\"display: table-cell;\">min_width&nbsp;=&nbsp;None,</div></div><div class=\"p1168\" style=\"display: none;\"><div style=\"display: table-cell;\"></div><div style=\"display: table-cell;\">name&nbsp;=&nbsp;None,</div></div><div class=\"p1168\" style=\"display: none;\"><div style=\"display: table-cell;\"></div><div style=\"display: table-cell;\">outline_line_alpha&nbsp;=&nbsp;1.0,</div></div><div class=\"p1168\" style=\"display: none;\"><div style=\"display: table-cell;\"></div><div style=\"display: table-cell;\">outline_line_cap&nbsp;=&nbsp;'butt',</div></div><div class=\"p1168\" style=\"display: none;\"><div style=\"display: table-cell;\"></div><div style=\"display: table-cell;\">outline_line_color&nbsp;=&nbsp;'#e5e5e5',</div></div><div class=\"p1168\" style=\"display: none;\"><div style=\"display: table-cell;\"></div><div style=\"display: table-cell;\">outline_line_dash&nbsp;=&nbsp;[],</div></div><div class=\"p1168\" style=\"display: none;\"><div style=\"display: table-cell;\"></div><div style=\"display: table-cell;\">outline_line_dash_offset&nbsp;=&nbsp;0,</div></div><div class=\"p1168\" style=\"display: none;\"><div style=\"display: table-cell;\"></div><div style=\"display: table-cell;\">outline_line_join&nbsp;=&nbsp;'bevel',</div></div><div class=\"p1168\" style=\"display: none;\"><div style=\"display: table-cell;\"></div><div style=\"display: table-cell;\">outline_line_width&nbsp;=&nbsp;1,</div></div><div class=\"p1168\" style=\"display: none;\"><div style=\"display: table-cell;\"></div><div style=\"display: table-cell;\">output_backend&nbsp;=&nbsp;'canvas',</div></div><div class=\"p1168\" style=\"display: none;\"><div style=\"display: table-cell;\"></div><div style=\"display: table-cell;\">renderers&nbsp;=&nbsp;[GlyphRenderer(id='p1165', ...)],</div></div><div class=\"p1168\" style=\"display: none;\"><div style=\"display: table-cell;\"></div><div style=\"display: table-cell;\">reset_policy&nbsp;=&nbsp;'standard',</div></div><div class=\"p1168\" style=\"display: none;\"><div style=\"display: table-cell;\"></div><div style=\"display: table-cell;\">resizable&nbsp;=&nbsp;False,</div></div><div class=\"p1168\" style=\"display: none;\"><div style=\"display: table-cell;\"></div><div style=\"display: table-cell;\">right&nbsp;=&nbsp;[],</div></div><div class=\"p1168\" style=\"display: none;\"><div style=\"display: table-cell;\"></div><div style=\"display: table-cell;\">sizing_mode&nbsp;=&nbsp;None,</div></div><div class=\"p1168\" style=\"display: none;\"><div style=\"display: table-cell;\"></div><div style=\"display: table-cell;\">styles&nbsp;=&nbsp;{},</div></div><div class=\"p1168\" style=\"display: none;\"><div style=\"display: table-cell;\"></div><div style=\"display: table-cell;\">stylesheets&nbsp;=&nbsp;[],</div></div><div class=\"p1168\" style=\"display: none;\"><div style=\"display: table-cell;\"></div><div style=\"display: table-cell;\">subscribed_events&nbsp;=&nbsp;PropertyValueSet(),</div></div><div class=\"p1168\" style=\"display: none;\"><div style=\"display: table-cell;\"></div><div style=\"display: table-cell;\">syncable&nbsp;=&nbsp;True,</div></div><div class=\"p1168\" style=\"display: none;\"><div style=\"display: table-cell;\"></div><div style=\"display: table-cell;\">tags&nbsp;=&nbsp;[],</div></div><div class=\"p1168\" style=\"display: none;\"><div style=\"display: table-cell;\"></div><div style=\"display: table-cell;\">title&nbsp;=&nbsp;Title(id='p1138', ...),</div></div><div class=\"p1168\" style=\"display: none;\"><div style=\"display: table-cell;\"></div><div style=\"display: table-cell;\">title_location&nbsp;=&nbsp;'above',</div></div><div class=\"p1168\" style=\"display: none;\"><div style=\"display: table-cell;\"></div><div style=\"display: table-cell;\">toolbar&nbsp;=&nbsp;Toolbar(id='p1139', ...),</div></div><div class=\"p1168\" style=\"display: none;\"><div style=\"display: table-cell;\"></div><div style=\"display: table-cell;\">toolbar_inner&nbsp;=&nbsp;False,</div></div><div class=\"p1168\" style=\"display: none;\"><div style=\"display: table-cell;\"></div><div style=\"display: table-cell;\">toolbar_location&nbsp;=&nbsp;'right',</div></div><div class=\"p1168\" style=\"display: none;\"><div style=\"display: table-cell;\"></div><div style=\"display: table-cell;\">toolbar_sticky&nbsp;=&nbsp;True,</div></div><div class=\"p1168\" style=\"display: none;\"><div style=\"display: table-cell;\"></div><div style=\"display: table-cell;\">visible&nbsp;=&nbsp;True,</div></div><div class=\"p1168\" style=\"display: none;\"><div style=\"display: table-cell;\"></div><div style=\"display: table-cell;\">width&nbsp;=&nbsp;800,</div></div><div class=\"p1168\" style=\"display: none;\"><div style=\"display: table-cell;\"></div><div style=\"display: table-cell;\">width_policy&nbsp;=&nbsp;'auto',</div></div><div class=\"p1168\" style=\"display: none;\"><div style=\"display: table-cell;\"></div><div style=\"display: table-cell;\">x_range&nbsp;=&nbsp;DataRange1d(id='p1132', ...),</div></div><div class=\"p1168\" style=\"display: none;\"><div style=\"display: table-cell;\"></div><div style=\"display: table-cell;\">x_scale&nbsp;=&nbsp;LinearScale(id='p1140', ...),</div></div><div class=\"p1168\" style=\"display: none;\"><div style=\"display: table-cell;\"></div><div style=\"display: table-cell;\">y_range&nbsp;=&nbsp;DataRange1d(id='p1133', ...),</div></div><div class=\"p1168\" style=\"display: none;\"><div style=\"display: table-cell;\"></div><div style=\"display: table-cell;\">y_scale&nbsp;=&nbsp;LinearScale(id='p1141', ...))</div></div></div>\n",
       "<script>\n",
       "(function() {\n",
       "  let expanded = false;\n",
       "  const ellipsis = document.getElementById(\"p1169\");\n",
       "  ellipsis.addEventListener(\"click\", function() {\n",
       "    const rows = document.getElementsByClassName(\"p1168\");\n",
       "    for (let i = 0; i < rows.length; i++) {\n",
       "      const el = rows[i];\n",
       "      el.style.display = expanded ? \"none\" : \"table-row\";\n",
       "    }\n",
       "    ellipsis.innerHTML = expanded ? \"&hellip;)\" : \"&lsaquo;&lsaquo;&lsaquo;\";\n",
       "    expanded = !expanded;\n",
       "  });\n",
       "})();\n",
       "</script>\n"
      ],
      "text/plain": [
       "figure(id='p1131', ...)"
      ]
     },
     "execution_count": 55,
     "metadata": {},
     "output_type": "execute_result"
    }
   ],
   "source": [
    "p"
   ]
  },
  {
   "cell_type": "code",
   "execution_count": null,
   "id": "565da774",
   "metadata": {},
   "outputs": [
    {
     "ename": "AttributeError",
     "evalue": "module 'bokeh.plotting' has no attribute 'Figure'",
     "output_type": "error",
     "traceback": [
      "\u001b[0;31m---------------------------------------------------------------------------\u001b[0m",
      "\u001b[0;31mAttributeError\u001b[0m                            Traceback (most recent call last)",
      "Cell \u001b[0;32mIn[56], line 1\u001b[0m\n\u001b[0;32m----> 1\u001b[0m umap\u001b[39m.\u001b[39;49mplot\u001b[39m.\u001b[39;49mshow(p)\n",
      "File \u001b[0;32m~/anaconda3/envs/spacy35/lib/python3.9/site-packages/umap/plot.py:470\u001b[0m, in \u001b[0;36mshow\u001b[0;34m(plot_to_show)\u001b[0m\n\u001b[1;32m    468\u001b[0m \u001b[39mif\u001b[39;00m \u001b[39misinstance\u001b[39m(plot_to_show, plt\u001b[39m.\u001b[39mAxes):\n\u001b[1;32m    469\u001b[0m     show_static()\n\u001b[0;32m--> 470\u001b[0m \u001b[39melif\u001b[39;00m \u001b[39misinstance\u001b[39m(plot_to_show, bpl\u001b[39m.\u001b[39;49mFigure):\n\u001b[1;32m    471\u001b[0m     show_interactive(plot_to_show)\n\u001b[1;32m    472\u001b[0m \u001b[39melif\u001b[39;00m \u001b[39misinstance\u001b[39m(plot_to_show, hv\u001b[39m.\u001b[39mcore\u001b[39m.\u001b[39mspaces\u001b[39m.\u001b[39mDynamicMap):\n",
      "\u001b[0;31mAttributeError\u001b[0m: module 'bokeh.plotting' has no attribute 'Figure'"
     ]
    }
   ],
   "source": [
    "umap.plot.show(p)"
   ]
  },
  {
   "cell_type": "code",
   "execution_count": null,
   "id": "7c57f1d0",
   "metadata": {},
   "outputs": [],
   "source": [
    "df['item'] = hover_data.label.map(\n",
    "    {\n",
    "        '0':'T-shirt/top',\n",
    "        '1':'Trouser',\n",
    "        '2':'Pullover',\n",
    "        '3':'Dress',\n",
    "        '4':'Coat',\n",
    "        '5':'Sandal',\n",
    "        '6':'Shirt',\n",
    "        '7':'Sneaker',\n",
    "        '8':'Bag',\n",
    "        '9':'Ankle Boot',\n",
    "    }\n",
    ")"
   ]
  },
  {
   "cell_type": "code",
   "execution_count": null,
   "id": "e99f8b38",
   "metadata": {},
   "outputs": [
    {
     "data": {
      "text/plain": [
       "<Axes: >"
      ]
     },
     "execution_count": 40,
     "metadata": {},
     "output_type": "execute_result"
    },
    {
     "data": {
      "image/png": "[encoded data removed]",
      "text/plain": [
       "<Figure size 800x800 with 1 Axes>"
      ]
     },
     "metadata": {},
     "output_type": "display_data"
    }
   ],
   "source": [
    "umap.plot.points(embedding, labels=cluster_labels)"
   ]
  },
  {
   "cell_type": "code",
   "execution_count": null,
   "id": "ac318cef",
   "metadata": {},
   "outputs": [
    {
     "data": {
      "text/html": [
       "<div>\n",
       "<style scoped>\n",
       "    .dataframe tbody tr th:only-of-type {\n",
       "        vertical-align: middle;\n",
       "    }\n",
       "\n",
       "    .dataframe tbody tr th {\n",
       "        vertical-align: top;\n",
       "    }\n",
       "\n",
       "    .dataframe thead th {\n",
       "        text-align: right;\n",
       "    }\n",
       "</style>\n",
       "<table border=\"1\" class=\"dataframe\">\n",
       "  <thead>\n",
       "    <tr style=\"text-align: right;\">\n",
       "      <th></th>\n",
       "      <th>doc</th>\n",
       "      <th>label</th>\n",
       "    </tr>\n",
       "  </thead>\n",
       "  <tbody>\n",
       "    <tr>\n",
       "      <th>119</th>\n",
       "      <td>he cried.</td>\n",
       "      <td>1</td>\n",
       "    </tr>\n",
       "    <tr>\n",
       "      <th>216</th>\n",
       "      <td>he muttered.</td>\n",
       "      <td>1</td>\n",
       "    </tr>\n",
       "    <tr>\n",
       "      <th>480</th>\n",
       "      <td>he cried.</td>\n",
       "      <td>1</td>\n",
       "    </tr>\n",
       "    <tr>\n",
       "      <th>545</th>\n",
       "      <td>he scoffed.</td>\n",
       "      <td>1</td>\n",
       "    </tr>\n",
       "    <tr>\n",
       "      <th>566</th>\n",
       "      <td>he sneered.</td>\n",
       "      <td>1</td>\n",
       "    </tr>\n",
       "    <tr>\n",
       "      <th>601</th>\n",
       "      <td>he whispered.</td>\n",
       "      <td>1</td>\n",
       "    </tr>\n",
       "  </tbody>\n",
       "</table>\n",
       "</div>"
      ],
      "text/plain": [
       "               doc  label\n",
       "119      he cried.      1\n",
       "216   he muttered.      1\n",
       "480      he cried.      1\n",
       "545    he scoffed.      1\n",
       "566    he sneered.      1\n",
       "601  he whispered.      1"
      ]
     },
     "execution_count": 41,
     "metadata": {},
     "output_type": "execute_result"
    }
   ],
   "source": [
    "\n",
    "df.loc[df[\"label\"] == 1]"
   ]
  },
  {
   "attachments": {},
   "cell_type": "markdown",
   "id": "3dd40691",
   "metadata": {},
   "source": [
    "\n",
    "# Supervised Learning\n",
    "\n",
    "Supervised learning is fundamentally different from unsupervised learning. In supervised learning, we know the labels of our data. Our goal is to use that labeled data to teach a computer system to understand the key feature of our data that make it correspond to specific labels.\n",
    "\n",
    "\n",
    "In a supervised learning system, our data would look like this:\n",
    "\n",
    "SPORTS - The Boston Celtics won the championship.\n",
    "SPORTS - The Dallas Cowboys lost in overtime.\n",
    "SPORTS - Basketball is a sport enjoyed worldwide.\n",
    "POLITICS - The Senator from Florida voted against the bill.\n",
    "POLITICS - The Congressperson from New Hampshire is leaving office.\n",
    "POLITICS - A bill is a type of legal document.\n",
    "\n",
    "Here we have our data clearly labeled. This is precisely how spaCy's available pipelines work. They were trained on thousands of examples of texts that had annotations. Annotations are labels that we assign to specific tokens, or sequence of tokens, that correspond to a specific label. If we are training an NER system, our annotations will be things like: PERSON, GPE, LOC, etc."
   ]
  },
  {
   "attachments": {},
   "cell_type": "markdown",
   "id": "0e403bc6",
   "metadata": {},
   "source": [
    "# Annotations\n",
    "\n",
    "In order to understand what annotations are more deeply, let's take a look at a concrete example."
   ]
  },
  {
   "cell_type": "code",
   "execution_count": null,
   "id": "69ceeb9b",
   "metadata": {},
   "outputs": [
    {
     "data": {
      "text/html": [
       "<span class=\"tex2jax_ignore\"><div class=\"entities\" style=\"line-height: 2.5; direction: ltr\">\n",
       "<mark class=\"entity\" style=\"background: #feca74; padding: 0.45em 0.6em; margin: 0 0.25em; line-height: 1; border-radius: 0.35em;\">\n",
       "    New York\n",
       "    <span style=\"font-size: 0.8em; font-weight: bold; line-height: 1; border-radius: 0.35em; vertical-align: middle; margin-left: 0.5rem\">GPE</span>\n",
       "</mark>\n",
       " is a state.</div></span>"
      ],
      "text/plain": [
       "<IPython.core.display.HTML object>"
      ]
     },
     "metadata": {},
     "output_type": "display_data"
    }
   ],
   "source": [
    "doc = nlp(\"New York is a state.\")\n",
    "displacy.render(doc, style=\"ent\")"
   ]
  },
  {
   "attachments": {},
   "cell_type": "markdown",
   "id": "808ce85c",
   "metadata": {},
   "source": [
    "As we can see in the example above, New York is identified as a state. Let's see what this doc looks like as an annotation. To convert it to an annotation, we can use doc.to_json()"
   ]
  },
  {
   "cell_type": "code",
   "execution_count": null,
   "id": "08d0cd05",
   "metadata": {},
   "outputs": [
    {
     "data": {
      "text/plain": [
       "{'text': 'New York is a state.',\n",
       " 'ents': [{'start': 0, 'end': 8, 'label': 'GPE'}],\n",
       " 'sents': [{'start': 0, 'end': 20}],\n",
       " 'tokens': [{'id': 0,\n",
       "   'start': 0,\n",
       "   'end': 3,\n",
       "   'tag': 'NNP',\n",
       "   'pos': 'PROPN',\n",
       "   'morph': 'Number=Sing',\n",
       "   'lemma': 'New',\n",
       "   'dep': 'compound',\n",
       "   'head': 1},\n",
       "  {'id': 1,\n",
       "   'start': 4,\n",
       "   'end': 8,\n",
       "   'tag': 'NNP',\n",
       "   'pos': 'PROPN',\n",
       "   'morph': 'Number=Sing',\n",
       "   'lemma': 'York',\n",
       "   'dep': 'nsubj',\n",
       "   'head': 2},\n",
       "  {'id': 2,\n",
       "   'start': 9,\n",
       "   'end': 11,\n",
       "   'tag': 'VBZ',\n",
       "   'pos': 'AUX',\n",
       "   'morph': 'Mood=Ind|Number=Sing|Person=3|Tense=Pres|VerbForm=Fin',\n",
       "   'lemma': 'be',\n",
       "   'dep': 'ROOT',\n",
       "   'head': 2},\n",
       "  {'id': 3,\n",
       "   'start': 12,\n",
       "   'end': 13,\n",
       "   'tag': 'DT',\n",
       "   'pos': 'DET',\n",
       "   'morph': 'Definite=Ind|PronType=Art',\n",
       "   'lemma': 'a',\n",
       "   'dep': 'det',\n",
       "   'head': 4},\n",
       "  {'id': 4,\n",
       "   'start': 14,\n",
       "   'end': 19,\n",
       "   'tag': 'NN',\n",
       "   'pos': 'NOUN',\n",
       "   'morph': 'Number=Sing',\n",
       "   'lemma': 'state',\n",
       "   'dep': 'attr',\n",
       "   'head': 2},\n",
       "  {'id': 5,\n",
       "   'start': 19,\n",
       "   'end': 20,\n",
       "   'tag': '.',\n",
       "   'pos': 'PUNCT',\n",
       "   'morph': 'PunctType=Peri',\n",
       "   'lemma': '.',\n",
       "   'dep': 'punct',\n",
       "   'head': 2}]}"
      ]
     },
     "execution_count": 25,
     "metadata": {},
     "output_type": "execute_result"
    }
   ],
   "source": [
    "doc.to_json()"
   ]
  },
  {
   "attachments": {},
   "cell_type": "markdown",
   "id": "c5e5c64d",
   "metadata": {},
   "source": [
    "We have a lot of data here, so let's just focus on two parts of this, the text and the ents."
   ]
  },
  {
   "cell_type": "code",
   "execution_count": null,
   "id": "5e0c81dc",
   "metadata": {},
   "outputs": [
    {
     "name": "stdout",
     "output_type": "stream",
     "text": [
      "New York is a state.\n",
      "[{'start': 0, 'end': 8, 'label': 'GPE'}]\n"
     ]
    }
   ],
   "source": [
    "text = doc.to_json()[\"text\"]\n",
    "ents = doc.to_json()[\"ents\"]\n",
    "\n",
    "print(text)\n",
    "print(ents)"
   ]
  },
  {
   "attachments": {},
   "cell_type": "markdown",
   "id": "479bb5cd",
   "metadata": {},
   "source": [
    "Here we can see what a machine learning annotation looks like for supervised learning. We have a string, a specific text, with labeled annotations. In our case, we have the entities labeled. Notice that each entity (we only have 1) has a dictionary which has 3 keys: start, end, and label. The start and end correspond to the start and end characters here. The label corresponds to the appropriate label for the thing that falls within that span of characters. In our case, this is `New York`.\n",
    "\n",
    "Later, we will be learning how to cultivate annotations like this with our own data."
   ]
  },
  {
   "attachments": {},
   "cell_type": "markdown",
   "id": "c1826d37",
   "metadata": {},
   "source": [
    "## Model Bias\n",
    "\n",
    "SpaCy provides numerous open-source pipelines and models for users for many languages. These models are, however, biased. In order to understand what this means and why it is important, let's take a look at a simple example."
   ]
  },
  {
   "cell_type": "code",
   "execution_count": null,
   "id": "4ac7c8c0",
   "metadata": {},
   "outputs": [],
   "source": [
    "doc = nlp(\"John went to the store.\")"
   ]
  },
  {
   "attachments": {},
   "cell_type": "markdown",
   "id": "9d8603b0",
   "metadata": {},
   "source": [
    "Our text is simple: `John went to the store.` THe only entity we have in this is `John` who should be identified as `PERSON`"
   ]
  },
  {
   "cell_type": "code",
   "execution_count": null,
   "id": "3442b156",
   "metadata": {},
   "outputs": [
    {
     "data": {
      "text/html": [
       "<span class=\"tex2jax_ignore\"><div class=\"entities\" style=\"line-height: 2.5; direction: ltr\">\n",
       "<mark class=\"entity\" style=\"background: #aa9cfc; padding: 0.45em 0.6em; margin: 0 0.25em; line-height: 1; border-radius: 0.35em;\">\n",
       "    John\n",
       "    <span style=\"font-size: 0.8em; font-weight: bold; line-height: 1; border-radius: 0.35em; vertical-align: middle; margin-left: 0.5rem\">PERSON</span>\n",
       "</mark>\n",
       " went to the store.</div></span>"
      ],
      "text/plain": [
       "<IPython.core.display.HTML object>"
      ]
     },
     "metadata": {},
     "output_type": "display_data"
    }
   ],
   "source": [
    "displacy.render(doc, style=\"ent\")"
   ]
  },
  {
   "attachments": {},
   "cell_type": "markdown",
   "id": "e08e4488",
   "metadata": {},
   "source": [
    "As we can see, the spaCy model has identified this perfectly for us. Why is that? The reason lies in the data that the model was trained on. The model was trained on a lot of English texts and John is a very common name in English. Therefore, the model, as one would expect, does well at predicting that John is a person. It is able to do this likely because it has memorized that John always functions as a name.\n",
    "\n",
    "Let's see how it performs with a South African name."
   ]
  },
  {
   "cell_type": "code",
   "execution_count": null,
   "id": "fc14048e",
   "metadata": {},
   "outputs": [
    {
     "data": {
      "text/html": [
       "<span class=\"tex2jax_ignore\"><div class=\"entities\" style=\"line-height: 2.5; direction: ltr\">\n",
       "<mark class=\"entity\" style=\"background: #aa9cfc; padding: 0.45em 0.6em; margin: 0 0.25em; line-height: 1; border-radius: 0.35em;\">\n",
       "    Zuri\n",
       "    <span style=\"font-size: 0.8em; font-weight: bold; line-height: 1; border-radius: 0.35em; vertical-align: middle; margin-left: 0.5rem\">PERSON</span>\n",
       "</mark>\n",
       " went to the store.</div></span>"
      ],
      "text/plain": [
       "<IPython.core.display.HTML object>"
      ]
     },
     "metadata": {},
     "output_type": "display_data"
    }
   ],
   "source": [
    "doc = nlp(\"Zuri went to the store.\")\n",
    "displacy.render(doc, style=\"ent\")"
   ]
  },
  {
   "attachments": {},
   "cell_type": "markdown",
   "id": "3fe26087",
   "metadata": {},
   "source": [
    "As we can see, we have a false positive for Zuri as a GPE, rather than PERSON. This is an expected error for a few reasons. First, the model is biased towards Western English. When we speak about model biases, we are speaking about its tendency to fare better on specific types of data or model towards certain conclusions inconsistently. All models are biased because all data is biased as are all datasets. Without constraints, models can very easily replicate the biases of humans. In our case, the `en_core_web_sm` is biased towards Western names because it saw more Western names in the training data.\n",
    "\n",
    "Let's take a look at what these annotations look like, though. "
   ]
  },
  {
   "attachments": {},
   "cell_type": "markdown",
   "id": "613d1498",
   "metadata": {},
   "source": [
    "# Word Vectors"
   ]
  },
  {
   "cell_type": "code",
   "execution_count": null,
   "id": "c5c8f980",
   "metadata": {},
   "outputs": [],
   "source": []
  },
  {
   "attachments": {},
   "cell_type": "markdown",
   "id": "c8b2c91f",
   "metadata": {},
   "source": []
  },
  {
   "attachments": {},
   "cell_type": "markdown",
   "id": "486c212d",
   "metadata": {},
   "source": []
  }
 ],
 "metadata": {
  "kernelspec": {
   "display_name": "Python 3 (ipykernel)",
   "language": "python",
   "name": "python3"
  },
  "language_info": {
   "codemirror_mode": {
    "name": "ipython",
    "version": 3
   },
   "file_extension": ".py",
   "mimetype": "text/x-python",
   "name": "python",
   "nbconvert_exporter": "python",
   "pygments_lexer": "ipython3",
   "version": "3.9.16"
  },
  "toc": {
   "base_numbering": 1,
   "nav_menu": {},
   "number_sections": true,
   "sideBar": true,
   "skip_h1_title": false,
   "title_cell": "Table of Contents",
   "title_sidebar": "Contents",
   "toc_cell": false,
   "toc_position": {},
   "toc_section_display": true,
   "toc_window_display": true
  }
 },
 "nbformat": 4,
 "nbformat_minor": 5
}
